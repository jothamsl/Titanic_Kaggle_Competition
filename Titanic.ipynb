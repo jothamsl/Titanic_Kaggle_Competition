{
 "cells": [
  {
   "cell_type": "code",
   "execution_count": 6,
   "id": "unable-therapist",
   "metadata": {},
   "outputs": [
    {
     "name": "stdout",
     "output_type": "stream",
     "text": [
      "./data/test.csv\n",
      "./data/train.csv\n",
      "./data/gender_submission.csv\n",
      "./data/titanic.zip\n"
     ]
    }
   ],
   "source": [
    "import os\n",
    "import numpy as np\n",
    "import pandas as pd\n",
    "\n",
    "for dirname, _, filenames in os.walk('./data'):\n",
    "    for filename in filenames:\n",
    "        print(os.path.join(dirname, filename))"
   ]
  },
  {
   "cell_type": "code",
   "execution_count": 7,
   "id": "threatened-burns",
   "metadata": {},
   "outputs": [],
   "source": [
    "df = pd.read_csv(\"./data/train.csv\")\n",
    "df_test = pd.read_csv(\"./data/test.csv\")"
   ]
  },
  {
   "cell_type": "code",
   "execution_count": 10,
   "id": "architectural-month",
   "metadata": {},
   "outputs": [],
   "source": [
    "pd.set_option('display.max_columns', None)\n",
    "pd.set_option('display.max_rows', None)"
   ]
  },
  {
   "cell_type": "code",
   "execution_count": 11,
   "id": "laden-radar",
   "metadata": {},
   "outputs": [
    {
     "data": {
      "text/plain": [
       "PassengerId      0\n",
       "Survived         0\n",
       "Pclass           0\n",
       "Name             0\n",
       "Sex              0\n",
       "Age            177\n",
       "SibSp            0\n",
       "Parch            0\n",
       "Ticket           0\n",
       "Fare             0\n",
       "Cabin          687\n",
       "Embarked         2\n",
       "dtype: int64"
      ]
     },
     "execution_count": 11,
     "metadata": {},
     "output_type": "execute_result"
    }
   ],
   "source": [
    "df.isnull().sum()"
   ]
  },
  {
   "cell_type": "code",
   "execution_count": 14,
   "id": "naughty-glenn",
   "metadata": {},
   "outputs": [
    {
     "data": {
      "text/plain": [
       "<AxesSubplot:>"
      ]
     },
     "execution_count": 14,
     "metadata": {},
     "output_type": "execute_result"
    },
    {
     "data": {
      "image/png": "[encoded data removed]",
      "text/plain": [
       "<Figure size 432x288 with 2 Axes>"
      ]
     },
     "metadata": {
      "needs_background": "light"
     },
     "output_type": "display_data"
    }
   ],
   "source": [
    "import seaborn as sns\n",
    "sns.heatmap(df.isnull(), yticklabels=False, cmap=\"YlGnBu\")"
   ]
  },
  {
   "cell_type": "code",
   "execution_count": 15,
   "id": "advisory-score",
   "metadata": {},
   "outputs": [
    {
     "data": {
      "text/html": [
       "<div>\n",
       "<style scoped>\n",
       "    .dataframe tbody tr th:only-of-type {\n",
       "        vertical-align: middle;\n",
       "    }\n",
       "\n",
       "    .dataframe tbody tr th {\n",
       "        vertical-align: top;\n",
       "    }\n",
       "\n",
       "    .dataframe thead th {\n",
       "        text-align: right;\n",
       "    }\n",
       "</style>\n",
       "<table border=\"1\" class=\"dataframe\">\n",
       "  <thead>\n",
       "    <tr style=\"text-align: right;\">\n",
       "      <th></th>\n",
       "      <th>PassengerId</th>\n",
       "      <th>Survived</th>\n",
       "      <th>Pclass</th>\n",
       "      <th>Name</th>\n",
       "      <th>Sex</th>\n",
       "      <th>Age</th>\n",
       "      <th>SibSp</th>\n",
       "      <th>Parch</th>\n",
       "      <th>Ticket</th>\n",
       "      <th>Fare</th>\n",
       "      <th>Cabin</th>\n",
       "      <th>Embarked</th>\n",
       "    </tr>\n",
       "  </thead>\n",
       "  <tbody>\n",
       "    <tr>\n",
       "      <th>0</th>\n",
       "      <td>1</td>\n",
       "      <td>0</td>\n",
       "      <td>3</td>\n",
       "      <td>Braund, Mr. Owen Harris</td>\n",
       "      <td>male</td>\n",
       "      <td>22.0</td>\n",
       "      <td>1</td>\n",
       "      <td>0</td>\n",
       "      <td>A/5 21171</td>\n",
       "      <td>7.2500</td>\n",
       "      <td>NaN</td>\n",
       "      <td>S</td>\n",
       "    </tr>\n",
       "    <tr>\n",
       "      <th>1</th>\n",
       "      <td>2</td>\n",
       "      <td>1</td>\n",
       "      <td>1</td>\n",
       "      <td>Cumings, Mrs. John Bradley (Florence Briggs Th...</td>\n",
       "      <td>female</td>\n",
       "      <td>38.0</td>\n",
       "      <td>1</td>\n",
       "      <td>0</td>\n",
       "      <td>PC 17599</td>\n",
       "      <td>71.2833</td>\n",
       "      <td>C85</td>\n",
       "      <td>C</td>\n",
       "    </tr>\n",
       "  </tbody>\n",
       "</table>\n",
       "</div>"
      ],
      "text/plain": [
       "   PassengerId  Survived  Pclass  \\\n",
       "0            1         0       3   \n",
       "1            2         1       1   \n",
       "\n",
       "                                                Name     Sex   Age  SibSp  \\\n",
       "0                            Braund, Mr. Owen Harris    male  22.0      1   \n",
       "1  Cumings, Mrs. John Bradley (Florence Briggs Th...  female  38.0      1   \n",
       "\n",
       "   Parch     Ticket     Fare Cabin Embarked  \n",
       "0      0  A/5 21171   7.2500   NaN        S  \n",
       "1      0   PC 17599  71.2833   C85        C  "
      ]
     },
     "execution_count": 15,
     "metadata": {},
     "output_type": "execute_result"
    }
   ],
   "source": [
    "df.head(2)"
   ]
  },
  {
   "cell_type": "code",
   "execution_count": 20,
   "id": "floating-northeast",
   "metadata": {},
   "outputs": [
    {
     "data": {
      "text/plain": [
       "<AxesSubplot:xlabel='Survived', ylabel='count'>"
      ]
     },
     "execution_count": 20,
     "metadata": {},
     "output_type": "execute_result"
    },
    {
     "data": {
      "image/png": "[encoded data removed]",
      "text/plain": [
       "<Figure size 432x288 with 1 Axes>"
      ]
     },
     "metadata": {},
     "output_type": "display_data"
    }
   ],
   "source": [
    "sns.set_style('ticks')\n",
    "sns.countplot(x='Survived', data=df)"
   ]
  },
  {
   "cell_type": "code",
   "execution_count": 21,
   "id": "practical-dressing",
   "metadata": {},
   "outputs": [
    {
     "data": {
      "text/plain": [
       "<AxesSubplot:xlabel='Survived', ylabel='count'>"
      ]
     },
     "execution_count": 21,
     "metadata": {},
     "output_type": "execute_result"
    },
    {
     "data": {
      "image/png": "[encoded data removed]",
      "text/plain": [
       "<Figure size 432x288 with 1 Axes>"
      ]
     },
     "metadata": {},
     "output_type": "display_data"
    }
   ],
   "source": [
    "sns.set_style('whitegrid')\n",
    "sns.countplot(x='Survived', hue='Sex', data=df)"
   ]
  },
  {
   "cell_type": "code",
   "execution_count": 22,
   "id": "extended-coffee",
   "metadata": {},
   "outputs": [
    {
     "data": {
      "text/plain": [
       "<AxesSubplot:xlabel='Survived', ylabel='count'>"
      ]
     },
     "execution_count": 22,
     "metadata": {},
     "output_type": "execute_result"
    },
    {
     "data": {
      "image/png": "[encoded data removed]",
      "text/plain": [
       "<Figure size 432x288 with 1 Axes>"
      ]
     },
     "metadata": {},
     "output_type": "display_data"
    }
   ],
   "source": [
    "sns.set_style('whitegrid')\n",
    "sns.countplot(x='Survived', hue=\"Pclass\", data=df)"
   ]
  },
  {
   "cell_type": "code",
   "execution_count": 23,
   "id": "three-factor",
   "metadata": {},
   "outputs": [
    {
     "data": {
      "text/plain": [
       "<AxesSubplot:xlabel='SibSp', ylabel='count'>"
      ]
     },
     "execution_count": 23,
     "metadata": {},
     "output_type": "execute_result"
    },
    {
     "data": {
      "image/png": "[encoded data removed]",
      "text/plain": [
       "<Figure size 432x288 with 1 Axes>"
      ]
     },
     "metadata": {},
     "output_type": "display_data"
    }
   ],
   "source": [
    "sns.set_style('whitegrid')\n",
    "sns.countplot(x='SibSp', data=df)"
   ]
  },
  {
   "cell_type": "code",
   "execution_count": 38,
   "id": "certified-gauge",
   "metadata": {},
   "outputs": [
    {
     "data": {
      "application/vnd.plotly.v1+json": {
       "config": {
        "plotlyServerURL": "https://plot.ly"
       },
       "data": [
        {
         "hovertemplate": "Cabin=%{theta}<br>symbol=1<br>r=%{r}<br>size=%{marker.size}<extra></extra>",
         "legendgroup": "A10, 1",
         "marker": {
          "color": "#f0f921",
          "size": [
           1
          ],
          "sizemode": "area",
          "sizeref": 0.01,
          "symbol": "circle"
         },
         "mode": "markers",
         "name": "A10, 1",
         "r": [
          1
         ],
         "showlegend": true,
         "subplot": "polar",
         "theta": [
          "A10"
         ],
         "type": "scatterpolar"
        },
        {
         "hovertemplate": "Cabin=%{theta}<br>symbol=1<br>r=%{r}<br>size=%{marker.size}<extra></extra>",
         "legendgroup": "A14, 1",
         "marker": {
          "color": "#fdca26",
          "size": [
           1
          ],
          "sizemode": "area",
          "sizeref": 0.01,
          "symbol": "circle"
         },
         "mode": "markers",
         "name": "A14, 1",
         "r": [
          1
         ],
         "showlegend": true,
         "subplot": "polar",
         "theta": [
          "A14"
         ],
         "type": "scatterpolar"
        },
        {
         "hovertemplate": "Cabin=%{theta}<br>symbol=1<br>r=%{r}<br>size=%{marker.size}<extra></extra>",
         "legendgroup": "A16, 1",
         "marker": {
          "color": "#fb9f3a",
          "size": [
           1
          ],
          "sizemode": "area",
          "sizeref": 0.01,
          "symbol": "circle"
         },
         "mode": "markers",
         "name": "A16, 1",
         "r": [
          1
         ],
         "showlegend": true,
         "subplot": "polar",
         "theta": [
          "A16"
         ],
         "type": "scatterpolar"
        },
        {
         "hovertemplate": "Cabin=%{theta}<br>symbol=1<br>r=%{r}<br>size=%{marker.size}<extra></extra>",
         "legendgroup": "A19, 1",
         "marker": {
          "color": "#ed7953",
          "size": [
           1
          ],
          "sizemode": "area",
          "sizeref": 0.01,
          "symbol": "circle"
         },
         "mode": "markers",
         "name": "A19, 1",
         "r": [
          1
         ],
         "showlegend": true,
         "subplot": "polar",
         "theta": [
          "A19"
         ],
         "type": "scatterpolar"
        },
        {
         "hovertemplate": "Cabin=%{theta}<br>symbol=1<br>r=%{r}<br>size=%{marker.size}<extra></extra>",
         "legendgroup": "A20, 1",
         "marker": {
          "color": "#d8576b",
          "size": [
           1
          ],
          "sizemode": "area",
          "sizeref": 0.01,
          "symbol": "circle"
         },
         "mode": "markers",
         "name": "A20, 1",
         "r": [
          1
         ],
         "showlegend": true,
         "subplot": "polar",
         "theta": [
          "A20"
         ],
         "type": "scatterpolar"
        },
        {
         "hovertemplate": "Cabin=%{theta}<br>symbol=1<br>r=%{r}<br>size=%{marker.size}<extra></extra>",
         "legendgroup": "A23, 1",
         "marker": {
          "color": "#bd3786",
          "size": [
           1
          ],
          "sizemode": "area",
          "sizeref": 0.01,
          "symbol": "circle"
         },
         "mode": "markers",
         "name": "A23, 1",
         "r": [
          1
         ],
         "showlegend": true,
         "subplot": "polar",
         "theta": [
          "A23"
         ],
         "type": "scatterpolar"
        },
        {
         "hovertemplate": "Cabin=%{theta}<br>symbol=1<br>r=%{r}<br>size=%{marker.size}<extra></extra>",
         "legendgroup": "A24, 1",
         "marker": {
          "color": "#9c179e",
          "size": [
           1
          ],
          "sizemode": "area",
          "sizeref": 0.01,
          "symbol": "circle"
         },
         "mode": "markers",
         "name": "A24, 1",
         "r": [
          1
         ],
         "showlegend": true,
         "subplot": "polar",
         "theta": [
          "A24"
         ],
         "type": "scatterpolar"
        },
        {
         "hovertemplate": "Cabin=%{theta}<br>symbol=1<br>r=%{r}<br>size=%{marker.size}<extra></extra>",
         "legendgroup": "A26, 1",
         "marker": {
          "color": "#7201a8",
          "size": [
           1
          ],
          "sizemode": "area",
          "sizeref": 0.01,
          "symbol": "circle"
         },
         "mode": "markers",
         "name": "A26, 1",
         "r": [
          1
         ],
         "showlegend": true,
         "subplot": "polar",
         "theta": [
          "A26"
         ],
         "type": "scatterpolar"
        },
        {
         "hovertemplate": "Cabin=%{theta}<br>symbol=1<br>r=%{r}<br>size=%{marker.size}<extra></extra>",
         "legendgroup": "A31, 1",
         "marker": {
          "color": "#46039f",
          "size": [
           1
          ],
          "sizemode": "area",
          "sizeref": 0.01,
          "symbol": "circle"
         },
         "mode": "markers",
         "name": "A31, 1",
         "r": [
          1
         ],
         "showlegend": true,
         "subplot": "polar",
         "theta": [
          "A31"
         ],
         "type": "scatterpolar"
        },
        {
         "hovertemplate": "Cabin=%{theta}<br>symbol=1<br>r=%{r}<br>size=%{marker.size}<extra></extra>",
         "legendgroup": "A32, 1",
         "marker": {
          "color": "#0d0887",
          "size": [
           1
          ],
          "sizemode": "area",
          "sizeref": 0.01,
          "symbol": "circle"
         },
         "mode": "markers",
         "name": "A32, 1",
         "r": [
          1
         ],
         "showlegend": true,
         "subplot": "polar",
         "theta": [
          "A32"
         ],
         "type": "scatterpolar"
        },
        {
         "hovertemplate": "Cabin=%{theta}<br>symbol=1<br>r=%{r}<br>size=%{marker.size}<extra></extra>",
         "legendgroup": "A34, 1",
         "marker": {
          "color": "#f0f921",
          "size": [
           1
          ],
          "sizemode": "area",
          "sizeref": 0.01,
          "symbol": "circle"
         },
         "mode": "markers",
         "name": "A34, 1",
         "r": [
          1
         ],
         "showlegend": true,
         "subplot": "polar",
         "theta": [
          "A34"
         ],
         "type": "scatterpolar"
        },
        {
         "hovertemplate": "Cabin=%{theta}<br>symbol=1<br>r=%{r}<br>size=%{marker.size}<extra></extra>",
         "legendgroup": "A36, 1",
         "marker": {
          "color": "#fdca26",
          "size": [
           1
          ],
          "sizemode": "area",
          "sizeref": 0.01,
          "symbol": "circle"
         },
         "mode": "markers",
         "name": "A36, 1",
         "r": [
          1
         ],
         "showlegend": true,
         "subplot": "polar",
         "theta": [
          "A36"
         ],
         "type": "scatterpolar"
        },
        {
         "hovertemplate": "Cabin=%{theta}<br>symbol=1<br>r=%{r}<br>size=%{marker.size}<extra></extra>",
         "legendgroup": "A5, 1",
         "marker": {
          "color": "#fb9f3a",
          "size": [
           1
          ],
          "sizemode": "area",
          "sizeref": 0.01,
          "symbol": "circle"
         },
         "mode": "markers",
         "name": "A5, 1",
         "r": [
          1
         ],
         "showlegend": true,
         "subplot": "polar",
         "theta": [
          "A5"
         ],
         "type": "scatterpolar"
        },
        {
         "hovertemplate": "Cabin=%{theta}<br>symbol=1<br>r=%{r}<br>size=%{marker.size}<extra></extra>",
         "legendgroup": "A6, 1",
         "marker": {
          "color": "#ed7953",
          "size": [
           1
          ],
          "sizemode": "area",
          "sizeref": 0.01,
          "symbol": "circle"
         },
         "mode": "markers",
         "name": "A6, 1",
         "r": [
          1
         ],
         "showlegend": true,
         "subplot": "polar",
         "theta": [
          "A6"
         ],
         "type": "scatterpolar"
        },
        {
         "hovertemplate": "Cabin=%{theta}<br>symbol=1<br>r=%{r}<br>size=%{marker.size}<extra></extra>",
         "legendgroup": "A7, 1",
         "marker": {
          "color": "#d8576b",
          "size": [
           1
          ],
          "sizemode": "area",
          "sizeref": 0.01,
          "symbol": "circle"
         },
         "mode": "markers",
         "name": "A7, 1",
         "r": [
          1
         ],
         "showlegend": true,
         "subplot": "polar",
         "theta": [
          "A7"
         ],
         "type": "scatterpolar"
        },
        {
         "hovertemplate": "Cabin=%{theta}<br>symbol=1<br>r=%{r}<br>size=%{marker.size}<extra></extra>",
         "legendgroup": "B101, 1",
         "marker": {
          "color": "#bd3786",
          "size": [
           1
          ],
          "sizemode": "area",
          "sizeref": 0.01,
          "symbol": "circle"
         },
         "mode": "markers",
         "name": "B101, 1",
         "r": [
          1
         ],
         "showlegend": true,
         "subplot": "polar",
         "theta": [
          "B101"
         ],
         "type": "scatterpolar"
        },
        {
         "hovertemplate": "Cabin=%{theta}<br>symbol=1<br>r=%{r}<br>size=%{marker.size}<extra></extra>",
         "legendgroup": "B102, 1",
         "marker": {
          "color": "#9c179e",
          "size": [
           1
          ],
          "sizemode": "area",
          "sizeref": 0.01,
          "symbol": "circle"
         },
         "mode": "markers",
         "name": "B102, 1",
         "r": [
          1
         ],
         "showlegend": true,
         "subplot": "polar",
         "theta": [
          "B102"
         ],
         "type": "scatterpolar"
        },
        {
         "hovertemplate": "Cabin=%{theta}<br>symbol=2<br>r=%{r}<br>size=%{marker.size}<extra></extra>",
         "legendgroup": "B18, 2",
         "marker": {
          "color": "#7201a8",
          "size": [
           2
          ],
          "sizemode": "area",
          "sizeref": 0.01,
          "symbol": "diamond"
         },
         "mode": "markers",
         "name": "B18, 2",
         "r": [
          2
         ],
         "showlegend": true,
         "subplot": "polar",
         "theta": [
          "B18"
         ],
         "type": "scatterpolar"
        },
        {
         "hovertemplate": "Cabin=%{theta}<br>symbol=1<br>r=%{r}<br>size=%{marker.size}<extra></extra>",
         "legendgroup": "B19, 1",
         "marker": {
          "color": "#46039f",
          "size": [
           1
          ],
          "sizemode": "area",
          "sizeref": 0.01,
          "symbol": "circle"
         },
         "mode": "markers",
         "name": "B19, 1",
         "r": [
          1
         ],
         "showlegend": true,
         "subplot": "polar",
         "theta": [
          "B19"
         ],
         "type": "scatterpolar"
        },
        {
         "hovertemplate": "Cabin=%{theta}<br>symbol=2<br>r=%{r}<br>size=%{marker.size}<extra></extra>",
         "legendgroup": "B20, 2",
         "marker": {
          "color": "#0d0887",
          "size": [
           2
          ],
          "sizemode": "area",
          "sizeref": 0.01,
          "symbol": "diamond"
         },
         "mode": "markers",
         "name": "B20, 2",
         "r": [
          2
         ],
         "showlegend": true,
         "subplot": "polar",
         "theta": [
          "B20"
         ],
         "type": "scatterpolar"
        },
        {
         "hovertemplate": "Cabin=%{theta}<br>symbol=2<br>r=%{r}<br>size=%{marker.size}<extra></extra>",
         "legendgroup": "B22, 2",
         "marker": {
          "color": "#f0f921",
          "size": [
           2
          ],
          "sizemode": "area",
          "sizeref": 0.01,
          "symbol": "diamond"
         },
         "mode": "markers",
         "name": "B22, 2",
         "r": [
          2
         ],
         "showlegend": true,
         "subplot": "polar",
         "theta": [
          "B22"
         ],
         "type": "scatterpolar"
        },
        {
         "hovertemplate": "Cabin=%{theta}<br>symbol=2<br>r=%{r}<br>size=%{marker.size}<extra></extra>",
         "legendgroup": "B28, 2",
         "marker": {
          "color": "#fdca26",
          "size": [
           2
          ],
          "sizemode": "area",
          "sizeref": 0.01,
          "symbol": "diamond"
         },
         "mode": "markers",
         "name": "B28, 2",
         "r": [
          2
         ],
         "showlegend": true,
         "subplot": "polar",
         "theta": [
          "B28"
         ],
         "type": "scatterpolar"
        },
        {
         "hovertemplate": "Cabin=%{theta}<br>symbol=1<br>r=%{r}<br>size=%{marker.size}<extra></extra>",
         "legendgroup": "B3, 1",
         "marker": {
          "color": "#fb9f3a",
          "size": [
           1
          ],
          "sizemode": "area",
          "sizeref": 0.01,
          "symbol": "circle"
         },
         "mode": "markers",
         "name": "B3, 1",
         "r": [
          1
         ],
         "showlegend": true,
         "subplot": "polar",
         "theta": [
          "B3"
         ],
         "type": "scatterpolar"
        },
        {
         "hovertemplate": "Cabin=%{theta}<br>symbol=1<br>r=%{r}<br>size=%{marker.size}<extra></extra>",
         "legendgroup": "B30, 1",
         "marker": {
          "color": "#ed7953",
          "size": [
           1
          ],
          "sizemode": "area",
          "sizeref": 0.01,
          "symbol": "circle"
         },
         "mode": "markers",
         "name": "B30, 1",
         "r": [
          1
         ],
         "showlegend": true,
         "subplot": "polar",
         "theta": [
          "B30"
         ],
         "type": "scatterpolar"
        },
        {
         "hovertemplate": "Cabin=%{theta}<br>symbol=2<br>r=%{r}<br>size=%{marker.size}<extra></extra>",
         "legendgroup": "B35, 2",
         "marker": {
          "color": "#d8576b",
          "size": [
           2
          ],
          "sizemode": "area",
          "sizeref": 0.01,
          "symbol": "diamond"
         },
         "mode": "markers",
         "name": "B35, 2",
         "r": [
          2
         ],
         "showlegend": true,
         "subplot": "polar",
         "theta": [
          "B35"
         ],
         "type": "scatterpolar"
        },
        {
         "hovertemplate": "Cabin=%{theta}<br>symbol=1<br>r=%{r}<br>size=%{marker.size}<extra></extra>",
         "legendgroup": "B37, 1",
         "marker": {
          "color": "#bd3786",
          "size": [
           1
          ],
          "sizemode": "area",
          "sizeref": 0.01,
          "symbol": "circle"
         },
         "mode": "markers",
         "name": "B37, 1",
         "r": [
          1
         ],
         "showlegend": true,
         "subplot": "polar",
         "theta": [
          "B37"
         ],
         "type": "scatterpolar"
        },
        {
         "hovertemplate": "Cabin=%{theta}<br>symbol=1<br>r=%{r}<br>size=%{marker.size}<extra></extra>",
         "legendgroup": "B38, 1",
         "marker": {
          "color": "#9c179e",
          "size": [
           1
          ],
          "sizemode": "area",
          "sizeref": 0.01,
          "symbol": "circle"
         },
         "mode": "markers",
         "name": "B38, 1",
         "r": [
          1
         ],
         "showlegend": true,
         "subplot": "polar",
         "theta": [
          "B38"
         ],
         "type": "scatterpolar"
        },
        {
         "hovertemplate": "Cabin=%{theta}<br>symbol=1<br>r=%{r}<br>size=%{marker.size}<extra></extra>",
         "legendgroup": "B39, 1",
         "marker": {
          "color": "#7201a8",
          "size": [
           1
          ],
          "sizemode": "area",
          "sizeref": 0.01,
          "symbol": "circle"
         },
         "mode": "markers",
         "name": "B39, 1",
         "r": [
          1
         ],
         "showlegend": true,
         "subplot": "polar",
         "theta": [
          "B39"
         ],
         "type": "scatterpolar"
        },
        {
         "hovertemplate": "Cabin=%{theta}<br>symbol=1<br>r=%{r}<br>size=%{marker.size}<extra></extra>",
         "legendgroup": "B4, 1",
         "marker": {
          "color": "#46039f",
          "size": [
           1
          ],
          "sizemode": "area",
          "sizeref": 0.01,
          "symbol": "circle"
         },
         "mode": "markers",
         "name": "B4, 1",
         "r": [
          1
         ],
         "showlegend": true,
         "subplot": "polar",
         "theta": [
          "B4"
         ],
         "type": "scatterpolar"
        },
        {
         "hovertemplate": "Cabin=%{theta}<br>symbol=1<br>r=%{r}<br>size=%{marker.size}<extra></extra>",
         "legendgroup": "B41, 1",
         "marker": {
          "color": "#0d0887",
          "size": [
           1
          ],
          "sizemode": "area",
          "sizeref": 0.01,
          "symbol": "circle"
         },
         "mode": "markers",
         "name": "B41, 1",
         "r": [
          1
         ],
         "showlegend": true,
         "subplot": "polar",
         "theta": [
          "B41"
         ],
         "type": "scatterpolar"
        },
        {
         "hovertemplate": "Cabin=%{theta}<br>symbol=1<br>r=%{r}<br>size=%{marker.size}<extra></extra>",
         "legendgroup": "B42, 1",
         "marker": {
          "color": "#f0f921",
          "size": [
           1
          ],
          "sizemode": "area",
          "sizeref": 0.01,
          "symbol": "circle"
         },
         "mode": "markers",
         "name": "B42, 1",
         "r": [
          1
         ],
         "showlegend": true,
         "subplot": "polar",
         "theta": [
          "B42"
         ],
         "type": "scatterpolar"
        },
        {
         "hovertemplate": "Cabin=%{theta}<br>symbol=2<br>r=%{r}<br>size=%{marker.size}<extra></extra>",
         "legendgroup": "B49, 2",
         "marker": {
          "color": "#fdca26",
          "size": [
           2
          ],
          "sizemode": "area",
          "sizeref": 0.01,
          "symbol": "diamond"
         },
         "mode": "markers",
         "name": "B49, 2",
         "r": [
          2
         ],
         "showlegend": true,
         "subplot": "polar",
         "theta": [
          "B49"
         ],
         "type": "scatterpolar"
        },
        {
         "hovertemplate": "Cabin=%{theta}<br>symbol=2<br>r=%{r}<br>size=%{marker.size}<extra></extra>",
         "legendgroup": "B5, 2",
         "marker": {
          "color": "#fb9f3a",
          "size": [
           2
          ],
          "sizemode": "area",
          "sizeref": 0.01,
          "symbol": "diamond"
         },
         "mode": "markers",
         "name": "B5, 2",
         "r": [
          2
         ],
         "showlegend": true,
         "subplot": "polar",
         "theta": [
          "B5"
         ],
         "type": "scatterpolar"
        },
        {
         "hovertemplate": "Cabin=%{theta}<br>symbol=1<br>r=%{r}<br>size=%{marker.size}<extra></extra>",
         "legendgroup": "B50, 1",
         "marker": {
          "color": "#ed7953",
          "size": [
           1
          ],
          "sizemode": "area",
          "sizeref": 0.01,
          "symbol": "circle"
         },
         "mode": "markers",
         "name": "B50, 1",
         "r": [
          1
         ],
         "showlegend": true,
         "subplot": "polar",
         "theta": [
          "B50"
         ],
         "type": "scatterpolar"
        },
        {
         "hovertemplate": "Cabin=%{theta}<br>symbol=2<br>r=%{r}<br>size=%{marker.size}<extra></extra>",
         "legendgroup": "B51 B53 B55, 2",
         "marker": {
          "color": "#d8576b",
          "size": [
           2
          ],
          "sizemode": "area",
          "sizeref": 0.01,
          "symbol": "diamond"
         },
         "mode": "markers",
         "name": "B51 B53 B55, 2",
         "r": [
          2
         ],
         "showlegend": true,
         "subplot": "polar",
         "theta": [
          "B51 B53 B55"
         ],
         "type": "scatterpolar"
        },
        {
         "hovertemplate": "Cabin=%{theta}<br>symbol=2<br>r=%{r}<br>size=%{marker.size}<extra></extra>",
         "legendgroup": "B57 B59 B63 B66, 2",
         "marker": {
          "color": "#bd3786",
          "size": [
           2
          ],
          "sizemode": "area",
          "sizeref": 0.01,
          "symbol": "diamond"
         },
         "mode": "markers",
         "name": "B57 B59 B63 B66, 2",
         "r": [
          2
         ],
         "showlegend": true,
         "subplot": "polar",
         "theta": [
          "B57 B59 B63 B66"
         ],
         "type": "scatterpolar"
        },
        {
         "hovertemplate": "Cabin=%{theta}<br>symbol=2<br>r=%{r}<br>size=%{marker.size}<extra></extra>",
         "legendgroup": "B58 B60, 2",
         "marker": {
          "color": "#9c179e",
          "size": [
           2
          ],
          "sizemode": "area",
          "sizeref": 0.01,
          "symbol": "diamond"
         },
         "mode": "markers",
         "name": "B58 B60, 2",
         "r": [
          2
         ],
         "showlegend": true,
         "subplot": "polar",
         "theta": [
          "B58 B60"
         ],
         "type": "scatterpolar"
        },
        {
         "hovertemplate": "Cabin=%{theta}<br>symbol=1<br>r=%{r}<br>size=%{marker.size}<extra></extra>",
         "legendgroup": "B69, 1",
         "marker": {
          "color": "#7201a8",
          "size": [
           1
          ],
          "sizemode": "area",
          "sizeref": 0.01,
          "symbol": "circle"
         },
         "mode": "markers",
         "name": "B69, 1",
         "r": [
          1
         ],
         "showlegend": true,
         "subplot": "polar",
         "theta": [
          "B69"
         ],
         "type": "scatterpolar"
        },
        {
         "hovertemplate": "Cabin=%{theta}<br>symbol=1<br>r=%{r}<br>size=%{marker.size}<extra></extra>",
         "legendgroup": "B71, 1",
         "marker": {
          "color": "#46039f",
          "size": [
           1
          ],
          "sizemode": "area",
          "sizeref": 0.01,
          "symbol": "circle"
         },
         "mode": "markers",
         "name": "B71, 1",
         "r": [
          1
         ],
         "showlegend": true,
         "subplot": "polar",
         "theta": [
          "B71"
         ],
         "type": "scatterpolar"
        },
        {
         "hovertemplate": "Cabin=%{theta}<br>symbol=1<br>r=%{r}<br>size=%{marker.size}<extra></extra>",
         "legendgroup": "B73, 1",
         "marker": {
          "color": "#0d0887",
          "size": [
           1
          ],
          "sizemode": "area",
          "sizeref": 0.01,
          "symbol": "circle"
         },
         "mode": "markers",
         "name": "B73, 1",
         "r": [
          1
         ],
         "showlegend": true,
         "subplot": "polar",
         "theta": [
          "B73"
         ],
         "type": "scatterpolar"
        },
        {
         "hovertemplate": "Cabin=%{theta}<br>symbol=2<br>r=%{r}<br>size=%{marker.size}<extra></extra>",
         "legendgroup": "B77, 2",
         "marker": {
          "color": "#f0f921",
          "size": [
           2
          ],
          "sizemode": "area",
          "sizeref": 0.01,
          "symbol": "diamond"
         },
         "mode": "markers",
         "name": "B77, 2",
         "r": [
          2
         ],
         "showlegend": true,
         "subplot": "polar",
         "theta": [
          "B77"
         ],
         "type": "scatterpolar"
        },
        {
         "hovertemplate": "Cabin=%{theta}<br>symbol=1<br>r=%{r}<br>size=%{marker.size}<extra></extra>",
         "legendgroup": "B78, 1",
         "marker": {
          "color": "#fdca26",
          "size": [
           1
          ],
          "sizemode": "area",
          "sizeref": 0.01,
          "symbol": "circle"
         },
         "mode": "markers",
         "name": "B78, 1",
         "r": [
          1
         ],
         "showlegend": true,
         "subplot": "polar",
         "theta": [
          "B78"
         ],
         "type": "scatterpolar"
        },
        {
         "hovertemplate": "Cabin=%{theta}<br>symbol=1<br>r=%{r}<br>size=%{marker.size}<extra></extra>",
         "legendgroup": "B79, 1",
         "marker": {
          "color": "#fb9f3a",
          "size": [
           1
          ],
          "sizemode": "area",
          "sizeref": 0.01,
          "symbol": "circle"
         },
         "mode": "markers",
         "name": "B79, 1",
         "r": [
          1
         ],
         "showlegend": true,
         "subplot": "polar",
         "theta": [
          "B79"
         ],
         "type": "scatterpolar"
        },
        {
         "hovertemplate": "Cabin=%{theta}<br>symbol=1<br>r=%{r}<br>size=%{marker.size}<extra></extra>",
         "legendgroup": "B80, 1",
         "marker": {
          "color": "#ed7953",
          "size": [
           1
          ],
          "sizemode": "area",
          "sizeref": 0.01,
          "symbol": "circle"
         },
         "mode": "markers",
         "name": "B80, 1",
         "r": [
          1
         ],
         "showlegend": true,
         "subplot": "polar",
         "theta": [
          "B80"
         ],
         "type": "scatterpolar"
        },
        {
         "hovertemplate": "Cabin=%{theta}<br>symbol=1<br>r=%{r}<br>size=%{marker.size}<extra></extra>",
         "legendgroup": "B82 B84, 1",
         "marker": {
          "color": "#d8576b",
          "size": [
           1
          ],
          "sizemode": "area",
          "sizeref": 0.01,
          "symbol": "circle"
         },
         "mode": "markers",
         "name": "B82 B84, 1",
         "r": [
          1
         ],
         "showlegend": true,
         "subplot": "polar",
         "theta": [
          "B82 B84"
         ],
         "type": "scatterpolar"
        },
        {
         "hovertemplate": "Cabin=%{theta}<br>symbol=1<br>r=%{r}<br>size=%{marker.size}<extra></extra>",
         "legendgroup": "B86, 1",
         "marker": {
          "color": "#bd3786",
          "size": [
           1
          ],
          "sizemode": "area",
          "sizeref": 0.01,
          "symbol": "circle"
         },
         "mode": "markers",
         "name": "B86, 1",
         "r": [
          1
         ],
         "showlegend": true,
         "subplot": "polar",
         "theta": [
          "B86"
         ],
         "type": "scatterpolar"
        },
        {
         "hovertemplate": "Cabin=%{theta}<br>symbol=1<br>r=%{r}<br>size=%{marker.size}<extra></extra>",
         "legendgroup": "B94, 1",
         "marker": {
          "color": "#9c179e",
          "size": [
           1
          ],
          "sizemode": "area",
          "sizeref": 0.01,
          "symbol": "circle"
         },
         "mode": "markers",
         "name": "B94, 1",
         "r": [
          1
         ],
         "showlegend": true,
         "subplot": "polar",
         "theta": [
          "B94"
         ],
         "type": "scatterpolar"
        },
        {
         "hovertemplate": "Cabin=%{theta}<br>symbol=4<br>r=%{r}<br>size=%{marker.size}<extra></extra>",
         "legendgroup": "B96 B98, 4",
         "marker": {
          "color": "#7201a8",
          "size": [
           4
          ],
          "sizemode": "area",
          "sizeref": 0.01,
          "symbol": "square"
         },
         "mode": "markers",
         "name": "B96 B98, 4",
         "r": [
          4
         ],
         "showlegend": true,
         "subplot": "polar",
         "theta": [
          "B96 B98"
         ],
         "type": "scatterpolar"
        },
        {
         "hovertemplate": "Cabin=%{theta}<br>symbol=1<br>r=%{r}<br>size=%{marker.size}<extra></extra>",
         "legendgroup": "C101, 1",
         "marker": {
          "color": "#46039f",
          "size": [
           1
          ],
          "sizemode": "area",
          "sizeref": 0.01,
          "symbol": "circle"
         },
         "mode": "markers",
         "name": "C101, 1",
         "r": [
          1
         ],
         "showlegend": true,
         "subplot": "polar",
         "theta": [
          "C101"
         ],
         "type": "scatterpolar"
        },
        {
         "hovertemplate": "Cabin=%{theta}<br>symbol=1<br>r=%{r}<br>size=%{marker.size}<extra></extra>",
         "legendgroup": "C103, 1",
         "marker": {
          "color": "#0d0887",
          "size": [
           1
          ],
          "sizemode": "area",
          "sizeref": 0.01,
          "symbol": "circle"
         },
         "mode": "markers",
         "name": "C103, 1",
         "r": [
          1
         ],
         "showlegend": true,
         "subplot": "polar",
         "theta": [
          "C103"
         ],
         "type": "scatterpolar"
        },
        {
         "hovertemplate": "Cabin=%{theta}<br>symbol=1<br>r=%{r}<br>size=%{marker.size}<extra></extra>",
         "legendgroup": "C104, 1",
         "marker": {
          "color": "#f0f921",
          "size": [
           1
          ],
          "sizemode": "area",
          "sizeref": 0.01,
          "symbol": "circle"
         },
         "mode": "markers",
         "name": "C104, 1",
         "r": [
          1
         ],
         "showlegend": true,
         "subplot": "polar",
         "theta": [
          "C104"
         ],
         "type": "scatterpolar"
        },
        {
         "hovertemplate": "Cabin=%{theta}<br>symbol=1<br>r=%{r}<br>size=%{marker.size}<extra></extra>",
         "legendgroup": "C106, 1",
         "marker": {
          "color": "#fdca26",
          "size": [
           1
          ],
          "sizemode": "area",
          "sizeref": 0.01,
          "symbol": "circle"
         },
         "mode": "markers",
         "name": "C106, 1",
         "r": [
          1
         ],
         "showlegend": true,
         "subplot": "polar",
         "theta": [
          "C106"
         ],
         "type": "scatterpolar"
        },
        {
         "hovertemplate": "Cabin=%{theta}<br>symbol=1<br>r=%{r}<br>size=%{marker.size}<extra></extra>",
         "legendgroup": "C110, 1",
         "marker": {
          "color": "#fb9f3a",
          "size": [
           1
          ],
          "sizemode": "area",
          "sizeref": 0.01,
          "symbol": "circle"
         },
         "mode": "markers",
         "name": "C110, 1",
         "r": [
          1
         ],
         "showlegend": true,
         "subplot": "polar",
         "theta": [
          "C110"
         ],
         "type": "scatterpolar"
        },
        {
         "hovertemplate": "Cabin=%{theta}<br>symbol=1<br>r=%{r}<br>size=%{marker.size}<extra></extra>",
         "legendgroup": "C111, 1",
         "marker": {
          "color": "#ed7953",
          "size": [
           1
          ],
          "sizemode": "area",
          "sizeref": 0.01,
          "symbol": "circle"
         },
         "mode": "markers",
         "name": "C111, 1",
         "r": [
          1
         ],
         "showlegend": true,
         "subplot": "polar",
         "theta": [
          "C111"
         ],
         "type": "scatterpolar"
        },
        {
         "hovertemplate": "Cabin=%{theta}<br>symbol=1<br>r=%{r}<br>size=%{marker.size}<extra></extra>",
         "legendgroup": "C118, 1",
         "marker": {
          "color": "#d8576b",
          "size": [
           1
          ],
          "sizemode": "area",
          "sizeref": 0.01,
          "symbol": "circle"
         },
         "mode": "markers",
         "name": "C118, 1",
         "r": [
          1
         ],
         "showlegend": true,
         "subplot": "polar",
         "theta": [
          "C118"
         ],
         "type": "scatterpolar"
        },
        {
         "hovertemplate": "Cabin=%{theta}<br>symbol=2<br>r=%{r}<br>size=%{marker.size}<extra></extra>",
         "legendgroup": "C123, 2",
         "marker": {
          "color": "#bd3786",
          "size": [
           2
          ],
          "sizemode": "area",
          "sizeref": 0.01,
          "symbol": "diamond"
         },
         "mode": "markers",
         "name": "C123, 2",
         "r": [
          2
         ],
         "showlegend": true,
         "subplot": "polar",
         "theta": [
          "C123"
         ],
         "type": "scatterpolar"
        },
        {
         "hovertemplate": "Cabin=%{theta}<br>symbol=2<br>r=%{r}<br>size=%{marker.size}<extra></extra>",
         "legendgroup": "C124, 2",
         "marker": {
          "color": "#9c179e",
          "size": [
           2
          ],
          "sizemode": "area",
          "sizeref": 0.01,
          "symbol": "diamond"
         },
         "mode": "markers",
         "name": "C124, 2",
         "r": [
          2
         ],
         "showlegend": true,
         "subplot": "polar",
         "theta": [
          "C124"
         ],
         "type": "scatterpolar"
        },
        {
         "hovertemplate": "Cabin=%{theta}<br>symbol=2<br>r=%{r}<br>size=%{marker.size}<extra></extra>",
         "legendgroup": "C125, 2",
         "marker": {
          "color": "#7201a8",
          "size": [
           2
          ],
          "sizemode": "area",
          "sizeref": 0.01,
          "symbol": "diamond"
         },
         "mode": "markers",
         "name": "C125, 2",
         "r": [
          2
         ],
         "showlegend": true,
         "subplot": "polar",
         "theta": [
          "C125"
         ],
         "type": "scatterpolar"
        },
        {
         "hovertemplate": "Cabin=%{theta}<br>symbol=2<br>r=%{r}<br>size=%{marker.size}<extra></extra>",
         "legendgroup": "C126, 2",
         "marker": {
          "color": "#46039f",
          "size": [
           2
          ],
          "sizemode": "area",
          "sizeref": 0.01,
          "symbol": "diamond"
         },
         "mode": "markers",
         "name": "C126, 2",
         "r": [
          2
         ],
         "showlegend": true,
         "subplot": "polar",
         "theta": [
          "C126"
         ],
         "type": "scatterpolar"
        },
        {
         "hovertemplate": "Cabin=%{theta}<br>symbol=1<br>r=%{r}<br>size=%{marker.size}<extra></extra>",
         "legendgroup": "C128, 1",
         "marker": {
          "color": "#0d0887",
          "size": [
           1
          ],
          "sizemode": "area",
          "sizeref": 0.01,
          "symbol": "circle"
         },
         "mode": "markers",
         "name": "C128, 1",
         "r": [
          1
         ],
         "showlegend": true,
         "subplot": "polar",
         "theta": [
          "C128"
         ],
         "type": "scatterpolar"
        },
        {
         "hovertemplate": "Cabin=%{theta}<br>symbol=1<br>r=%{r}<br>size=%{marker.size}<extra></extra>",
         "legendgroup": "C148, 1",
         "marker": {
          "color": "#f0f921",
          "size": [
           1
          ],
          "sizemode": "area",
          "sizeref": 0.01,
          "symbol": "circle"
         },
         "mode": "markers",
         "name": "C148, 1",
         "r": [
          1
         ],
         "showlegend": true,
         "subplot": "polar",
         "theta": [
          "C148"
         ],
         "type": "scatterpolar"
        },
        {
         "hovertemplate": "Cabin=%{theta}<br>symbol=2<br>r=%{r}<br>size=%{marker.size}<extra></extra>",
         "legendgroup": "C2, 2",
         "marker": {
          "color": "#fdca26",
          "size": [
           2
          ],
          "sizemode": "area",
          "sizeref": 0.01,
          "symbol": "diamond"
         },
         "mode": "markers",
         "name": "C2, 2",
         "r": [
          2
         ],
         "showlegend": true,
         "subplot": "polar",
         "theta": [
          "C2"
         ],
         "type": "scatterpolar"
        },
        {
         "hovertemplate": "Cabin=%{theta}<br>symbol=3<br>r=%{r}<br>size=%{marker.size}<extra></extra>",
         "legendgroup": "C22 C26, 3",
         "marker": {
          "color": "#fb9f3a",
          "size": [
           3
          ],
          "sizemode": "area",
          "sizeref": 0.01,
          "symbol": "x"
         },
         "mode": "markers",
         "name": "C22 C26, 3",
         "r": [
          3
         ],
         "showlegend": true,
         "subplot": "polar",
         "theta": [
          "C22 C26"
         ],
         "type": "scatterpolar"
        },
        {
         "hovertemplate": "Cabin=%{theta}<br>symbol=4<br>r=%{r}<br>size=%{marker.size}<extra></extra>",
         "legendgroup": "C23 C25 C27, 4",
         "marker": {
          "color": "#ed7953",
          "size": [
           4
          ],
          "sizemode": "area",
          "sizeref": 0.01,
          "symbol": "square"
         },
         "mode": "markers",
         "name": "C23 C25 C27, 4",
         "r": [
          4
         ],
         "showlegend": true,
         "subplot": "polar",
         "theta": [
          "C23 C25 C27"
         ],
         "type": "scatterpolar"
        },
        {
         "hovertemplate": "Cabin=%{theta}<br>symbol=1<br>r=%{r}<br>size=%{marker.size}<extra></extra>",
         "legendgroup": "C30, 1",
         "marker": {
          "color": "#d8576b",
          "size": [
           1
          ],
          "sizemode": "area",
          "sizeref": 0.01,
          "symbol": "circle"
         },
         "mode": "markers",
         "name": "C30, 1",
         "r": [
          1
         ],
         "showlegend": true,
         "subplot": "polar",
         "theta": [
          "C30"
         ],
         "type": "scatterpolar"
        },
        {
         "hovertemplate": "Cabin=%{theta}<br>symbol=1<br>r=%{r}<br>size=%{marker.size}<extra></extra>",
         "legendgroup": "C32, 1",
         "marker": {
          "color": "#bd3786",
          "size": [
           1
          ],
          "sizemode": "area",
          "sizeref": 0.01,
          "symbol": "circle"
         },
         "mode": "markers",
         "name": "C32, 1",
         "r": [
          1
         ],
         "showlegend": true,
         "subplot": "polar",
         "theta": [
          "C32"
         ],
         "type": "scatterpolar"
        },
        {
         "hovertemplate": "Cabin=%{theta}<br>symbol=1<br>r=%{r}<br>size=%{marker.size}<extra></extra>",
         "legendgroup": "C45, 1",
         "marker": {
          "color": "#9c179e",
          "size": [
           1
          ],
          "sizemode": "area",
          "sizeref": 0.01,
          "symbol": "circle"
         },
         "mode": "markers",
         "name": "C45, 1",
         "r": [
          1
         ],
         "showlegend": true,
         "subplot": "polar",
         "theta": [
          "C45"
         ],
         "type": "scatterpolar"
        },
        {
         "hovertemplate": "Cabin=%{theta}<br>symbol=1<br>r=%{r}<br>size=%{marker.size}<extra></extra>",
         "legendgroup": "C46, 1",
         "marker": {
          "color": "#7201a8",
          "size": [
           1
          ],
          "sizemode": "area",
          "sizeref": 0.01,
          "symbol": "circle"
         },
         "mode": "markers",
         "name": "C46, 1",
         "r": [
          1
         ],
         "showlegend": true,
         "subplot": "polar",
         "theta": [
          "C46"
         ],
         "type": "scatterpolar"
        },
        {
         "hovertemplate": "Cabin=%{theta}<br>symbol=1<br>r=%{r}<br>size=%{marker.size}<extra></extra>",
         "legendgroup": "C47, 1",
         "marker": {
          "color": "#46039f",
          "size": [
           1
          ],
          "sizemode": "area",
          "sizeref": 0.01,
          "symbol": "circle"
         },
         "mode": "markers",
         "name": "C47, 1",
         "r": [
          1
         ],
         "showlegend": true,
         "subplot": "polar",
         "theta": [
          "C47"
         ],
         "type": "scatterpolar"
        },
        {
         "hovertemplate": "Cabin=%{theta}<br>symbol=1<br>r=%{r}<br>size=%{marker.size}<extra></extra>",
         "legendgroup": "C49, 1",
         "marker": {
          "color": "#0d0887",
          "size": [
           1
          ],
          "sizemode": "area",
          "sizeref": 0.01,
          "symbol": "circle"
         },
         "mode": "markers",
         "name": "C49, 1",
         "r": [
          1
         ],
         "showlegend": true,
         "subplot": "polar",
         "theta": [
          "C49"
         ],
         "type": "scatterpolar"
        },
        {
         "hovertemplate": "Cabin=%{theta}<br>symbol=1<br>r=%{r}<br>size=%{marker.size}<extra></extra>",
         "legendgroup": "C50, 1",
         "marker": {
          "color": "#f0f921",
          "size": [
           1
          ],
          "sizemode": "area",
          "sizeref": 0.01,
          "symbol": "circle"
         },
         "mode": "markers",
         "name": "C50, 1",
         "r": [
          1
         ],
         "showlegend": true,
         "subplot": "polar",
         "theta": [
          "C50"
         ],
         "type": "scatterpolar"
        },
        {
         "hovertemplate": "Cabin=%{theta}<br>symbol=2<br>r=%{r}<br>size=%{marker.size}<extra></extra>",
         "legendgroup": "C52, 2",
         "marker": {
          "color": "#fdca26",
          "size": [
           2
          ],
          "sizemode": "area",
          "sizeref": 0.01,
          "symbol": "diamond"
         },
         "mode": "markers",
         "name": "C52, 2",
         "r": [
          2
         ],
         "showlegend": true,
         "subplot": "polar",
         "theta": [
          "C52"
         ],
         "type": "scatterpolar"
        },
        {
         "hovertemplate": "Cabin=%{theta}<br>symbol=1<br>r=%{r}<br>size=%{marker.size}<extra></extra>",
         "legendgroup": "C54, 1",
         "marker": {
          "color": "#fb9f3a",
          "size": [
           1
          ],
          "sizemode": "area",
          "sizeref": 0.01,
          "symbol": "circle"
         },
         "mode": "markers",
         "name": "C54, 1",
         "r": [
          1
         ],
         "showlegend": true,
         "subplot": "polar",
         "theta": [
          "C54"
         ],
         "type": "scatterpolar"
        },
        {
         "hovertemplate": "Cabin=%{theta}<br>symbol=1<br>r=%{r}<br>size=%{marker.size}<extra></extra>",
         "legendgroup": "C62 C64, 1",
         "marker": {
          "color": "#ed7953",
          "size": [
           1
          ],
          "sizemode": "area",
          "sizeref": 0.01,
          "symbol": "circle"
         },
         "mode": "markers",
         "name": "C62 C64, 1",
         "r": [
          1
         ],
         "showlegend": true,
         "subplot": "polar",
         "theta": [
          "C62 C64"
         ],
         "type": "scatterpolar"
        },
        {
         "hovertemplate": "Cabin=%{theta}<br>symbol=2<br>r=%{r}<br>size=%{marker.size}<extra></extra>",
         "legendgroup": "C65, 2",
         "marker": {
          "color": "#d8576b",
          "size": [
           2
          ],
          "sizemode": "area",
          "sizeref": 0.01,
          "symbol": "diamond"
         },
         "mode": "markers",
         "name": "C65, 2",
         "r": [
          2
         ],
         "showlegend": true,
         "subplot": "polar",
         "theta": [
          "C65"
         ],
         "type": "scatterpolar"
        },
        {
         "hovertemplate": "Cabin=%{theta}<br>symbol=2<br>r=%{r}<br>size=%{marker.size}<extra></extra>",
         "legendgroup": "C68, 2",
         "marker": {
          "color": "#bd3786",
          "size": [
           2
          ],
          "sizemode": "area",
          "sizeref": 0.01,
          "symbol": "diamond"
         },
         "mode": "markers",
         "name": "C68, 2",
         "r": [
          2
         ],
         "showlegend": true,
         "subplot": "polar",
         "theta": [
          "C68"
         ],
         "type": "scatterpolar"
        },
        {
         "hovertemplate": "Cabin=%{theta}<br>symbol=1<br>r=%{r}<br>size=%{marker.size}<extra></extra>",
         "legendgroup": "C7, 1",
         "marker": {
          "color": "#9c179e",
          "size": [
           1
          ],
          "sizemode": "area",
          "sizeref": 0.01,
          "symbol": "circle"
         },
         "mode": "markers",
         "name": "C7, 1",
         "r": [
          1
         ],
         "showlegend": true,
         "subplot": "polar",
         "theta": [
          "C7"
         ],
         "type": "scatterpolar"
        },
        {
         "hovertemplate": "Cabin=%{theta}<br>symbol=1<br>r=%{r}<br>size=%{marker.size}<extra></extra>",
         "legendgroup": "C70, 1",
         "marker": {
          "color": "#7201a8",
          "size": [
           1
          ],
          "sizemode": "area",
          "sizeref": 0.01,
          "symbol": "circle"
         },
         "mode": "markers",
         "name": "C70, 1",
         "r": [
          1
         ],
         "showlegend": true,
         "subplot": "polar",
         "theta": [
          "C70"
         ],
         "type": "scatterpolar"
        },
        {
         "hovertemplate": "Cabin=%{theta}<br>symbol=2<br>r=%{r}<br>size=%{marker.size}<extra></extra>",
         "legendgroup": "C78, 2",
         "marker": {
          "color": "#46039f",
          "size": [
           2
          ],
          "sizemode": "area",
          "sizeref": 0.01,
          "symbol": "diamond"
         },
         "mode": "markers",
         "name": "C78, 2",
         "r": [
          2
         ],
         "showlegend": true,
         "subplot": "polar",
         "theta": [
          "C78"
         ],
         "type": "scatterpolar"
        },
        {
         "hovertemplate": "Cabin=%{theta}<br>symbol=1<br>r=%{r}<br>size=%{marker.size}<extra></extra>",
         "legendgroup": "C82, 1",
         "marker": {
          "color": "#0d0887",
          "size": [
           1
          ],
          "sizemode": "area",
          "sizeref": 0.01,
          "symbol": "circle"
         },
         "mode": "markers",
         "name": "C82, 1",
         "r": [
          1
         ],
         "showlegend": true,
         "subplot": "polar",
         "theta": [
          "C82"
         ],
         "type": "scatterpolar"
        },
        {
         "hovertemplate": "Cabin=%{theta}<br>symbol=2<br>r=%{r}<br>size=%{marker.size}<extra></extra>",
         "legendgroup": "C83, 2",
         "marker": {
          "color": "#f0f921",
          "size": [
           2
          ],
          "sizemode": "area",
          "sizeref": 0.01,
          "symbol": "diamond"
         },
         "mode": "markers",
         "name": "C83, 2",
         "r": [
          2
         ],
         "showlegend": true,
         "subplot": "polar",
         "theta": [
          "C83"
         ],
         "type": "scatterpolar"
        },
        {
         "hovertemplate": "Cabin=%{theta}<br>symbol=1<br>r=%{r}<br>size=%{marker.size}<extra></extra>",
         "legendgroup": "C85, 1",
         "marker": {
          "color": "#fdca26",
          "size": [
           1
          ],
          "sizemode": "area",
          "sizeref": 0.01,
          "symbol": "circle"
         },
         "mode": "markers",
         "name": "C85, 1",
         "r": [
          1
         ],
         "showlegend": true,
         "subplot": "polar",
         "theta": [
          "C85"
         ],
         "type": "scatterpolar"
        },
        {
         "hovertemplate": "Cabin=%{theta}<br>symbol=1<br>r=%{r}<br>size=%{marker.size}<extra></extra>",
         "legendgroup": "C86, 1",
         "marker": {
          "color": "#fb9f3a",
          "size": [
           1
          ],
          "sizemode": "area",
          "sizeref": 0.01,
          "symbol": "circle"
         },
         "mode": "markers",
         "name": "C86, 1",
         "r": [
          1
         ],
         "showlegend": true,
         "subplot": "polar",
         "theta": [
          "C86"
         ],
         "type": "scatterpolar"
        },
        {
         "hovertemplate": "Cabin=%{theta}<br>symbol=1<br>r=%{r}<br>size=%{marker.size}<extra></extra>",
         "legendgroup": "C87, 1",
         "marker": {
          "color": "#ed7953",
          "size": [
           1
          ],
          "sizemode": "area",
          "sizeref": 0.01,
          "symbol": "circle"
         },
         "mode": "markers",
         "name": "C87, 1",
         "r": [
          1
         ],
         "showlegend": true,
         "subplot": "polar",
         "theta": [
          "C87"
         ],
         "type": "scatterpolar"
        },
        {
         "hovertemplate": "Cabin=%{theta}<br>symbol=1<br>r=%{r}<br>size=%{marker.size}<extra></extra>",
         "legendgroup": "C90, 1",
         "marker": {
          "color": "#d8576b",
          "size": [
           1
          ],
          "sizemode": "area",
          "sizeref": 0.01,
          "symbol": "circle"
         },
         "mode": "markers",
         "name": "C90, 1",
         "r": [
          1
         ],
         "showlegend": true,
         "subplot": "polar",
         "theta": [
          "C90"
         ],
         "type": "scatterpolar"
        },
        {
         "hovertemplate": "Cabin=%{theta}<br>symbol=1<br>r=%{r}<br>size=%{marker.size}<extra></extra>",
         "legendgroup": "C91, 1",
         "marker": {
          "color": "#bd3786",
          "size": [
           1
          ],
          "sizemode": "area",
          "sizeref": 0.01,
          "symbol": "circle"
         },
         "mode": "markers",
         "name": "C91, 1",
         "r": [
          1
         ],
         "showlegend": true,
         "subplot": "polar",
         "theta": [
          "C91"
         ],
         "type": "scatterpolar"
        },
        {
         "hovertemplate": "Cabin=%{theta}<br>symbol=2<br>r=%{r}<br>size=%{marker.size}<extra></extra>",
         "legendgroup": "C92, 2",
         "marker": {
          "color": "#9c179e",
          "size": [
           2
          ],
          "sizemode": "area",
          "sizeref": 0.01,
          "symbol": "diamond"
         },
         "mode": "markers",
         "name": "C92, 2",
         "r": [
          2
         ],
         "showlegend": true,
         "subplot": "polar",
         "theta": [
          "C92"
         ],
         "type": "scatterpolar"
        },
        {
         "hovertemplate": "Cabin=%{theta}<br>symbol=2<br>r=%{r}<br>size=%{marker.size}<extra></extra>",
         "legendgroup": "C93, 2",
         "marker": {
          "color": "#7201a8",
          "size": [
           2
          ],
          "sizemode": "area",
          "sizeref": 0.01,
          "symbol": "diamond"
         },
         "mode": "markers",
         "name": "C93, 2",
         "r": [
          2
         ],
         "showlegend": true,
         "subplot": "polar",
         "theta": [
          "C93"
         ],
         "type": "scatterpolar"
        },
        {
         "hovertemplate": "Cabin=%{theta}<br>symbol=1<br>r=%{r}<br>size=%{marker.size}<extra></extra>",
         "legendgroup": "C95, 1",
         "marker": {
          "color": "#46039f",
          "size": [
           1
          ],
          "sizemode": "area",
          "sizeref": 0.01,
          "symbol": "circle"
         },
         "mode": "markers",
         "name": "C95, 1",
         "r": [
          1
         ],
         "showlegend": true,
         "subplot": "polar",
         "theta": [
          "C95"
         ],
         "type": "scatterpolar"
        },
        {
         "hovertemplate": "Cabin=%{theta}<br>symbol=1<br>r=%{r}<br>size=%{marker.size}<extra></extra>",
         "legendgroup": "C99, 1",
         "marker": {
          "color": "#0d0887",
          "size": [
           1
          ],
          "sizemode": "area",
          "sizeref": 0.01,
          "symbol": "circle"
         },
         "mode": "markers",
         "name": "C99, 1",
         "r": [
          1
         ],
         "showlegend": true,
         "subplot": "polar",
         "theta": [
          "C99"
         ],
         "type": "scatterpolar"
        },
        {
         "hovertemplate": "Cabin=%{theta}<br>symbol=3<br>r=%{r}<br>size=%{marker.size}<extra></extra>",
         "legendgroup": "D, 3",
         "marker": {
          "color": "#f0f921",
          "size": [
           3
          ],
          "sizemode": "area",
          "sizeref": 0.01,
          "symbol": "x"
         },
         "mode": "markers",
         "name": "D, 3",
         "r": [
          3
         ],
         "showlegend": true,
         "subplot": "polar",
         "theta": [
          "D"
         ],
         "type": "scatterpolar"
        },
        {
         "hovertemplate": "Cabin=%{theta}<br>symbol=1<br>r=%{r}<br>size=%{marker.size}<extra></extra>",
         "legendgroup": "D10 D12, 1",
         "marker": {
          "color": "#fdca26",
          "size": [
           1
          ],
          "sizemode": "area",
          "sizeref": 0.01,
          "symbol": "circle"
         },
         "mode": "markers",
         "name": "D10 D12, 1",
         "r": [
          1
         ],
         "showlegend": true,
         "subplot": "polar",
         "theta": [
          "D10 D12"
         ],
         "type": "scatterpolar"
        },
        {
         "hovertemplate": "Cabin=%{theta}<br>symbol=1<br>r=%{r}<br>size=%{marker.size}<extra></extra>",
         "legendgroup": "D11, 1",
         "marker": {
          "color": "#fb9f3a",
          "size": [
           1
          ],
          "sizemode": "area",
          "sizeref": 0.01,
          "symbol": "circle"
         },
         "mode": "markers",
         "name": "D11, 1",
         "r": [
          1
         ],
         "showlegend": true,
         "subplot": "polar",
         "theta": [
          "D11"
         ],
         "type": "scatterpolar"
        },
        {
         "hovertemplate": "Cabin=%{theta}<br>symbol=1<br>r=%{r}<br>size=%{marker.size}<extra></extra>",
         "legendgroup": "D15, 1",
         "marker": {
          "color": "#ed7953",
          "size": [
           1
          ],
          "sizemode": "area",
          "sizeref": 0.01,
          "symbol": "circle"
         },
         "mode": "markers",
         "name": "D15, 1",
         "r": [
          1
         ],
         "showlegend": true,
         "subplot": "polar",
         "theta": [
          "D15"
         ],
         "type": "scatterpolar"
        },
        {
         "hovertemplate": "Cabin=%{theta}<br>symbol=2<br>r=%{r}<br>size=%{marker.size}<extra></extra>",
         "legendgroup": "D17, 2",
         "marker": {
          "color": "#d8576b",
          "size": [
           2
          ],
          "sizemode": "area",
          "sizeref": 0.01,
          "symbol": "diamond"
         },
         "mode": "markers",
         "name": "D17, 2",
         "r": [
          2
         ],
         "showlegend": true,
         "subplot": "polar",
         "theta": [
          "D17"
         ],
         "type": "scatterpolar"
        },
        {
         "hovertemplate": "Cabin=%{theta}<br>symbol=1<br>r=%{r}<br>size=%{marker.size}<extra></extra>",
         "legendgroup": "D19, 1",
         "marker": {
          "color": "#bd3786",
          "size": [
           1
          ],
          "sizemode": "area",
          "sizeref": 0.01,
          "symbol": "circle"
         },
         "mode": "markers",
         "name": "D19, 1",
         "r": [
          1
         ],
         "showlegend": true,
         "subplot": "polar",
         "theta": [
          "D19"
         ],
         "type": "scatterpolar"
        },
        {
         "hovertemplate": "Cabin=%{theta}<br>symbol=2<br>r=%{r}<br>size=%{marker.size}<extra></extra>",
         "legendgroup": "D20, 2",
         "marker": {
          "color": "#9c179e",
          "size": [
           2
          ],
          "sizemode": "area",
          "sizeref": 0.01,
          "symbol": "diamond"
         },
         "mode": "markers",
         "name": "D20, 2",
         "r": [
          2
         ],
         "showlegend": true,
         "subplot": "polar",
         "theta": [
          "D20"
         ],
         "type": "scatterpolar"
        },
        {
         "hovertemplate": "Cabin=%{theta}<br>symbol=1<br>r=%{r}<br>size=%{marker.size}<extra></extra>",
         "legendgroup": "D21, 1",
         "marker": {
          "color": "#7201a8",
          "size": [
           1
          ],
          "sizemode": "area",
          "sizeref": 0.01,
          "symbol": "circle"
         },
         "mode": "markers",
         "name": "D21, 1",
         "r": [
          1
         ],
         "showlegend": true,
         "subplot": "polar",
         "theta": [
          "D21"
         ],
         "type": "scatterpolar"
        },
        {
         "hovertemplate": "Cabin=%{theta}<br>symbol=2<br>r=%{r}<br>size=%{marker.size}<extra></extra>",
         "legendgroup": "D26, 2",
         "marker": {
          "color": "#46039f",
          "size": [
           2
          ],
          "sizemode": "area",
          "sizeref": 0.01,
          "symbol": "diamond"
         },
         "mode": "markers",
         "name": "D26, 2",
         "r": [
          2
         ],
         "showlegend": true,
         "subplot": "polar",
         "theta": [
          "D26"
         ],
         "type": "scatterpolar"
        },
        {
         "hovertemplate": "Cabin=%{theta}<br>symbol=1<br>r=%{r}<br>size=%{marker.size}<extra></extra>",
         "legendgroup": "D28, 1",
         "marker": {
          "color": "#0d0887",
          "size": [
           1
          ],
          "sizemode": "area",
          "sizeref": 0.01,
          "symbol": "circle"
         },
         "mode": "markers",
         "name": "D28, 1",
         "r": [
          1
         ],
         "showlegend": true,
         "subplot": "polar",
         "theta": [
          "D28"
         ],
         "type": "scatterpolar"
        },
        {
         "hovertemplate": "Cabin=%{theta}<br>symbol=1<br>r=%{r}<br>size=%{marker.size}<extra></extra>",
         "legendgroup": "D30, 1",
         "marker": {
          "color": "#f0f921",
          "size": [
           1
          ],
          "sizemode": "area",
          "sizeref": 0.01,
          "symbol": "circle"
         },
         "mode": "markers",
         "name": "D30, 1",
         "r": [
          1
         ],
         "showlegend": true,
         "subplot": "polar",
         "theta": [
          "D30"
         ],
         "type": "scatterpolar"
        },
        {
         "hovertemplate": "Cabin=%{theta}<br>symbol=2<br>r=%{r}<br>size=%{marker.size}<extra></extra>",
         "legendgroup": "D33, 2",
         "marker": {
          "color": "#fdca26",
          "size": [
           2
          ],
          "sizemode": "area",
          "sizeref": 0.01,
          "symbol": "diamond"
         },
         "mode": "markers",
         "name": "D33, 2",
         "r": [
          2
         ],
         "showlegend": true,
         "subplot": "polar",
         "theta": [
          "D33"
         ],
         "type": "scatterpolar"
        },
        {
         "hovertemplate": "Cabin=%{theta}<br>symbol=2<br>r=%{r}<br>size=%{marker.size}<extra></extra>",
         "legendgroup": "D35, 2",
         "marker": {
          "color": "#fb9f3a",
          "size": [
           2
          ],
          "sizemode": "area",
          "sizeref": 0.01,
          "symbol": "diamond"
         },
         "mode": "markers",
         "name": "D35, 2",
         "r": [
          2
         ],
         "showlegend": true,
         "subplot": "polar",
         "theta": [
          "D35"
         ],
         "type": "scatterpolar"
        },
        {
         "hovertemplate": "Cabin=%{theta}<br>symbol=2<br>r=%{r}<br>size=%{marker.size}<extra></extra>",
         "legendgroup": "D36, 2",
         "marker": {
          "color": "#ed7953",
          "size": [
           2
          ],
          "sizemode": "area",
          "sizeref": 0.01,
          "symbol": "diamond"
         },
         "mode": "markers",
         "name": "D36, 2",
         "r": [
          2
         ],
         "showlegend": true,
         "subplot": "polar",
         "theta": [
          "D36"
         ],
         "type": "scatterpolar"
        },
        {
         "hovertemplate": "Cabin=%{theta}<br>symbol=1<br>r=%{r}<br>size=%{marker.size}<extra></extra>",
         "legendgroup": "D37, 1",
         "marker": {
          "color": "#d8576b",
          "size": [
           1
          ],
          "sizemode": "area",
          "sizeref": 0.01,
          "symbol": "circle"
         },
         "mode": "markers",
         "name": "D37, 1",
         "r": [
          1
         ],
         "showlegend": true,
         "subplot": "polar",
         "theta": [
          "D37"
         ],
         "type": "scatterpolar"
        },
        {
         "hovertemplate": "Cabin=%{theta}<br>symbol=1<br>r=%{r}<br>size=%{marker.size}<extra></extra>",
         "legendgroup": "D45, 1",
         "marker": {
          "color": "#bd3786",
          "size": [
           1
          ],
          "sizemode": "area",
          "sizeref": 0.01,
          "symbol": "circle"
         },
         "mode": "markers",
         "name": "D45, 1",
         "r": [
          1
         ],
         "showlegend": true,
         "subplot": "polar",
         "theta": [
          "D45"
         ],
         "type": "scatterpolar"
        },
        {
         "hovertemplate": "Cabin=%{theta}<br>symbol=1<br>r=%{r}<br>size=%{marker.size}<extra></extra>",
         "legendgroup": "D46, 1",
         "marker": {
          "color": "#9c179e",
          "size": [
           1
          ],
          "sizemode": "area",
          "sizeref": 0.01,
          "symbol": "circle"
         },
         "mode": "markers",
         "name": "D46, 1",
         "r": [
          1
         ],
         "showlegend": true,
         "subplot": "polar",
         "theta": [
          "D46"
         ],
         "type": "scatterpolar"
        },
        {
         "hovertemplate": "Cabin=%{theta}<br>symbol=1<br>r=%{r}<br>size=%{marker.size}<extra></extra>",
         "legendgroup": "D47, 1",
         "marker": {
          "color": "#7201a8",
          "size": [
           1
          ],
          "sizemode": "area",
          "sizeref": 0.01,
          "symbol": "circle"
         },
         "mode": "markers",
         "name": "D47, 1",
         "r": [
          1
         ],
         "showlegend": true,
         "subplot": "polar",
         "theta": [
          "D47"
         ],
         "type": "scatterpolar"
        },
        {
         "hovertemplate": "Cabin=%{theta}<br>symbol=1<br>r=%{r}<br>size=%{marker.size}<extra></extra>",
         "legendgroup": "D48, 1",
         "marker": {
          "color": "#46039f",
          "size": [
           1
          ],
          "sizemode": "area",
          "sizeref": 0.01,
          "symbol": "circle"
         },
         "mode": "markers",
         "name": "D48, 1",
         "r": [
          1
         ],
         "showlegend": true,
         "subplot": "polar",
         "theta": [
          "D48"
         ],
         "type": "scatterpolar"
        },
        {
         "hovertemplate": "Cabin=%{theta}<br>symbol=1<br>r=%{r}<br>size=%{marker.size}<extra></extra>",
         "legendgroup": "D49, 1",
         "marker": {
          "color": "#0d0887",
          "size": [
           1
          ],
          "sizemode": "area",
          "sizeref": 0.01,
          "symbol": "circle"
         },
         "mode": "markers",
         "name": "D49, 1",
         "r": [
          1
         ],
         "showlegend": true,
         "subplot": "polar",
         "theta": [
          "D49"
         ],
         "type": "scatterpolar"
        },
        {
         "hovertemplate": "Cabin=%{theta}<br>symbol=1<br>r=%{r}<br>size=%{marker.size}<extra></extra>",
         "legendgroup": "D50, 1",
         "marker": {
          "color": "#f0f921",
          "size": [
           1
          ],
          "sizemode": "area",
          "sizeref": 0.01,
          "symbol": "circle"
         },
         "mode": "markers",
         "name": "D50, 1",
         "r": [
          1
         ],
         "showlegend": true,
         "subplot": "polar",
         "theta": [
          "D50"
         ],
         "type": "scatterpolar"
        },
        {
         "hovertemplate": "Cabin=%{theta}<br>symbol=1<br>r=%{r}<br>size=%{marker.size}<extra></extra>",
         "legendgroup": "D56, 1",
         "marker": {
          "color": "#fdca26",
          "size": [
           1
          ],
          "sizemode": "area",
          "sizeref": 0.01,
          "symbol": "circle"
         },
         "mode": "markers",
         "name": "D56, 1",
         "r": [
          1
         ],
         "showlegend": true,
         "subplot": "polar",
         "theta": [
          "D56"
         ],
         "type": "scatterpolar"
        },
        {
         "hovertemplate": "Cabin=%{theta}<br>symbol=1<br>r=%{r}<br>size=%{marker.size}<extra></extra>",
         "legendgroup": "D6, 1",
         "marker": {
          "color": "#fb9f3a",
          "size": [
           1
          ],
          "sizemode": "area",
          "sizeref": 0.01,
          "symbol": "circle"
         },
         "mode": "markers",
         "name": "D6, 1",
         "r": [
          1
         ],
         "showlegend": true,
         "subplot": "polar",
         "theta": [
          "D6"
         ],
         "type": "scatterpolar"
        },
        {
         "hovertemplate": "Cabin=%{theta}<br>symbol=1<br>r=%{r}<br>size=%{marker.size}<extra></extra>",
         "legendgroup": "D7, 1",
         "marker": {
          "color": "#ed7953",
          "size": [
           1
          ],
          "sizemode": "area",
          "sizeref": 0.01,
          "symbol": "circle"
         },
         "mode": "markers",
         "name": "D7, 1",
         "r": [
          1
         ],
         "showlegend": true,
         "subplot": "polar",
         "theta": [
          "D7"
         ],
         "type": "scatterpolar"
        },
        {
         "hovertemplate": "Cabin=%{theta}<br>symbol=1<br>r=%{r}<br>size=%{marker.size}<extra></extra>",
         "legendgroup": "D9, 1",
         "marker": {
          "color": "#d8576b",
          "size": [
           1
          ],
          "sizemode": "area",
          "sizeref": 0.01,
          "symbol": "circle"
         },
         "mode": "markers",
         "name": "D9, 1",
         "r": [
          1
         ],
         "showlegend": true,
         "subplot": "polar",
         "theta": [
          "D9"
         ],
         "type": "scatterpolar"
        },
        {
         "hovertemplate": "Cabin=%{theta}<br>symbol=1<br>r=%{r}<br>size=%{marker.size}<extra></extra>",
         "legendgroup": "E10, 1",
         "marker": {
          "color": "#bd3786",
          "size": [
           1
          ],
          "sizemode": "area",
          "sizeref": 0.01,
          "symbol": "circle"
         },
         "mode": "markers",
         "name": "E10, 1",
         "r": [
          1
         ],
         "showlegend": true,
         "subplot": "polar",
         "theta": [
          "E10"
         ],
         "type": "scatterpolar"
        },
        {
         "hovertemplate": "Cabin=%{theta}<br>symbol=3<br>r=%{r}<br>size=%{marker.size}<extra></extra>",
         "legendgroup": "E101, 3",
         "marker": {
          "color": "#9c179e",
          "size": [
           3
          ],
          "sizemode": "area",
          "sizeref": 0.01,
          "symbol": "x"
         },
         "mode": "markers",
         "name": "E101, 3",
         "r": [
          3
         ],
         "showlegend": true,
         "subplot": "polar",
         "theta": [
          "E101"
         ],
         "type": "scatterpolar"
        },
        {
         "hovertemplate": "Cabin=%{theta}<br>symbol=1<br>r=%{r}<br>size=%{marker.size}<extra></extra>",
         "legendgroup": "E12, 1",
         "marker": {
          "color": "#7201a8",
          "size": [
           1
          ],
          "sizemode": "area",
          "sizeref": 0.01,
          "symbol": "circle"
         },
         "mode": "markers",
         "name": "E12, 1",
         "r": [
          1
         ],
         "showlegend": true,
         "subplot": "polar",
         "theta": [
          "E12"
         ],
         "type": "scatterpolar"
        },
        {
         "hovertemplate": "Cabin=%{theta}<br>symbol=2<br>r=%{r}<br>size=%{marker.size}<extra></extra>",
         "legendgroup": "E121, 2",
         "marker": {
          "color": "#46039f",
          "size": [
           2
          ],
          "sizemode": "area",
          "sizeref": 0.01,
          "symbol": "diamond"
         },
         "mode": "markers",
         "name": "E121, 2",
         "r": [
          2
         ],
         "showlegend": true,
         "subplot": "polar",
         "theta": [
          "E121"
         ],
         "type": "scatterpolar"
        },
        {
         "hovertemplate": "Cabin=%{theta}<br>symbol=1<br>r=%{r}<br>size=%{marker.size}<extra></extra>",
         "legendgroup": "E17, 1",
         "marker": {
          "color": "#0d0887",
          "size": [
           1
          ],
          "sizemode": "area",
          "sizeref": 0.01,
          "symbol": "circle"
         },
         "mode": "markers",
         "name": "E17, 1",
         "r": [
          1
         ],
         "showlegend": true,
         "subplot": "polar",
         "theta": [
          "E17"
         ],
         "type": "scatterpolar"
        },
        {
         "hovertemplate": "Cabin=%{theta}<br>symbol=2<br>r=%{r}<br>size=%{marker.size}<extra></extra>",
         "legendgroup": "E24, 2",
         "marker": {
          "color": "#f0f921",
          "size": [
           2
          ],
          "sizemode": "area",
          "sizeref": 0.01,
          "symbol": "diamond"
         },
         "mode": "markers",
         "name": "E24, 2",
         "r": [
          2
         ],
         "showlegend": true,
         "subplot": "polar",
         "theta": [
          "E24"
         ],
         "type": "scatterpolar"
        },
        {
         "hovertemplate": "Cabin=%{theta}<br>symbol=2<br>r=%{r}<br>size=%{marker.size}<extra></extra>",
         "legendgroup": "E25, 2",
         "marker": {
          "color": "#fdca26",
          "size": [
           2
          ],
          "sizemode": "area",
          "sizeref": 0.01,
          "symbol": "diamond"
         },
         "mode": "markers",
         "name": "E25, 2",
         "r": [
          2
         ],
         "showlegend": true,
         "subplot": "polar",
         "theta": [
          "E25"
         ],
         "type": "scatterpolar"
        },
        {
         "hovertemplate": "Cabin=%{theta}<br>symbol=1<br>r=%{r}<br>size=%{marker.size}<extra></extra>",
         "legendgroup": "E31, 1",
         "marker": {
          "color": "#fb9f3a",
          "size": [
           1
          ],
          "sizemode": "area",
          "sizeref": 0.01,
          "symbol": "circle"
         },
         "mode": "markers",
         "name": "E31, 1",
         "r": [
          1
         ],
         "showlegend": true,
         "subplot": "polar",
         "theta": [
          "E31"
         ],
         "type": "scatterpolar"
        },
        {
         "hovertemplate": "Cabin=%{theta}<br>symbol=2<br>r=%{r}<br>size=%{marker.size}<extra></extra>",
         "legendgroup": "E33, 2",
         "marker": {
          "color": "#ed7953",
          "size": [
           2
          ],
          "sizemode": "area",
          "sizeref": 0.01,
          "symbol": "diamond"
         },
         "mode": "markers",
         "name": "E33, 2",
         "r": [
          2
         ],
         "showlegend": true,
         "subplot": "polar",
         "theta": [
          "E33"
         ],
         "type": "scatterpolar"
        },
        {
         "hovertemplate": "Cabin=%{theta}<br>symbol=1<br>r=%{r}<br>size=%{marker.size}<extra></extra>",
         "legendgroup": "E34, 1",
         "marker": {
          "color": "#d8576b",
          "size": [
           1
          ],
          "sizemode": "area",
          "sizeref": 0.01,
          "symbol": "circle"
         },
         "mode": "markers",
         "name": "E34, 1",
         "r": [
          1
         ],
         "showlegend": true,
         "subplot": "polar",
         "theta": [
          "E34"
         ],
         "type": "scatterpolar"
        },
        {
         "hovertemplate": "Cabin=%{theta}<br>symbol=1<br>r=%{r}<br>size=%{marker.size}<extra></extra>",
         "legendgroup": "E36, 1",
         "marker": {
          "color": "#bd3786",
          "size": [
           1
          ],
          "sizemode": "area",
          "sizeref": 0.01,
          "symbol": "circle"
         },
         "mode": "markers",
         "name": "E36, 1",
         "r": [
          1
         ],
         "showlegend": true,
         "subplot": "polar",
         "theta": [
          "E36"
         ],
         "type": "scatterpolar"
        },
        {
         "hovertemplate": "Cabin=%{theta}<br>symbol=1<br>r=%{r}<br>size=%{marker.size}<extra></extra>",
         "legendgroup": "E38, 1",
         "marker": {
          "color": "#9c179e",
          "size": [
           1
          ],
          "sizemode": "area",
          "sizeref": 0.01,
          "symbol": "circle"
         },
         "mode": "markers",
         "name": "E38, 1",
         "r": [
          1
         ],
         "showlegend": true,
         "subplot": "polar",
         "theta": [
          "E38"
         ],
         "type": "scatterpolar"
        },
        {
         "hovertemplate": "Cabin=%{theta}<br>symbol=1<br>r=%{r}<br>size=%{marker.size}<extra></extra>",
         "legendgroup": "E40, 1",
         "marker": {
          "color": "#7201a8",
          "size": [
           1
          ],
          "sizemode": "area",
          "sizeref": 0.01,
          "symbol": "circle"
         },
         "mode": "markers",
         "name": "E40, 1",
         "r": [
          1
         ],
         "showlegend": true,
         "subplot": "polar",
         "theta": [
          "E40"
         ],
         "type": "scatterpolar"
        },
        {
         "hovertemplate": "Cabin=%{theta}<br>symbol=2<br>r=%{r}<br>size=%{marker.size}<extra></extra>",
         "legendgroup": "E44, 2",
         "marker": {
          "color": "#46039f",
          "size": [
           2
          ],
          "sizemode": "area",
          "sizeref": 0.01,
          "symbol": "diamond"
         },
         "mode": "markers",
         "name": "E44, 2",
         "r": [
          2
         ],
         "showlegend": true,
         "subplot": "polar",
         "theta": [
          "E44"
         ],
         "type": "scatterpolar"
        },
        {
         "hovertemplate": "Cabin=%{theta}<br>symbol=1<br>r=%{r}<br>size=%{marker.size}<extra></extra>",
         "legendgroup": "E46, 1",
         "marker": {
          "color": "#0d0887",
          "size": [
           1
          ],
          "sizemode": "area",
          "sizeref": 0.01,
          "symbol": "circle"
         },
         "mode": "markers",
         "name": "E46, 1",
         "r": [
          1
         ],
         "showlegend": true,
         "subplot": "polar",
         "theta": [
          "E46"
         ],
         "type": "scatterpolar"
        },
        {
         "hovertemplate": "Cabin=%{theta}<br>symbol=1<br>r=%{r}<br>size=%{marker.size}<extra></extra>",
         "legendgroup": "E49, 1",
         "marker": {
          "color": "#f0f921",
          "size": [
           1
          ],
          "sizemode": "area",
          "sizeref": 0.01,
          "symbol": "circle"
         },
         "mode": "markers",
         "name": "E49, 1",
         "r": [
          1
         ],
         "showlegend": true,
         "subplot": "polar",
         "theta": [
          "E49"
         ],
         "type": "scatterpolar"
        },
        {
         "hovertemplate": "Cabin=%{theta}<br>symbol=1<br>r=%{r}<br>size=%{marker.size}<extra></extra>",
         "legendgroup": "E50, 1",
         "marker": {
          "color": "#fdca26",
          "size": [
           1
          ],
          "sizemode": "area",
          "sizeref": 0.01,
          "symbol": "circle"
         },
         "mode": "markers",
         "name": "E50, 1",
         "r": [
          1
         ],
         "showlegend": true,
         "subplot": "polar",
         "theta": [
          "E50"
         ],
         "type": "scatterpolar"
        },
        {
         "hovertemplate": "Cabin=%{theta}<br>symbol=1<br>r=%{r}<br>size=%{marker.size}<extra></extra>",
         "legendgroup": "E58, 1",
         "marker": {
          "color": "#fb9f3a",
          "size": [
           1
          ],
          "sizemode": "area",
          "sizeref": 0.01,
          "symbol": "circle"
         },
         "mode": "markers",
         "name": "E58, 1",
         "r": [
          1
         ],
         "showlegend": true,
         "subplot": "polar",
         "theta": [
          "E58"
         ],
         "type": "scatterpolar"
        },
        {
         "hovertemplate": "Cabin=%{theta}<br>symbol=1<br>r=%{r}<br>size=%{marker.size}<extra></extra>",
         "legendgroup": "E63, 1",
         "marker": {
          "color": "#ed7953",
          "size": [
           1
          ],
          "sizemode": "area",
          "sizeref": 0.01,
          "symbol": "circle"
         },
         "mode": "markers",
         "name": "E63, 1",
         "r": [
          1
         ],
         "showlegend": true,
         "subplot": "polar",
         "theta": [
          "E63"
         ],
         "type": "scatterpolar"
        },
        {
         "hovertemplate": "Cabin=%{theta}<br>symbol=2<br>r=%{r}<br>size=%{marker.size}<extra></extra>",
         "legendgroup": "E67, 2",
         "marker": {
          "color": "#d8576b",
          "size": [
           2
          ],
          "sizemode": "area",
          "sizeref": 0.01,
          "symbol": "diamond"
         },
         "mode": "markers",
         "name": "E67, 2",
         "r": [
          2
         ],
         "showlegend": true,
         "subplot": "polar",
         "theta": [
          "E67"
         ],
         "type": "scatterpolar"
        },
        {
         "hovertemplate": "Cabin=%{theta}<br>symbol=1<br>r=%{r}<br>size=%{marker.size}<extra></extra>",
         "legendgroup": "E68, 1",
         "marker": {
          "color": "#bd3786",
          "size": [
           1
          ],
          "sizemode": "area",
          "sizeref": 0.01,
          "symbol": "circle"
         },
         "mode": "markers",
         "name": "E68, 1",
         "r": [
          1
         ],
         "showlegend": true,
         "subplot": "polar",
         "theta": [
          "E68"
         ],
         "type": "scatterpolar"
        },
        {
         "hovertemplate": "Cabin=%{theta}<br>symbol=1<br>r=%{r}<br>size=%{marker.size}<extra></extra>",
         "legendgroup": "E77, 1",
         "marker": {
          "color": "#9c179e",
          "size": [
           1
          ],
          "sizemode": "area",
          "sizeref": 0.01,
          "symbol": "circle"
         },
         "mode": "markers",
         "name": "E77, 1",
         "r": [
          1
         ],
         "showlegend": true,
         "subplot": "polar",
         "theta": [
          "E77"
         ],
         "type": "scatterpolar"
        },
        {
         "hovertemplate": "Cabin=%{theta}<br>symbol=2<br>r=%{r}<br>size=%{marker.size}<extra></extra>",
         "legendgroup": "E8, 2",
         "marker": {
          "color": "#7201a8",
          "size": [
           2
          ],
          "sizemode": "area",
          "sizeref": 0.01,
          "symbol": "diamond"
         },
         "mode": "markers",
         "name": "E8, 2",
         "r": [
          2
         ],
         "showlegend": true,
         "subplot": "polar",
         "theta": [
          "E8"
         ],
         "type": "scatterpolar"
        },
        {
         "hovertemplate": "Cabin=%{theta}<br>symbol=1<br>r=%{r}<br>size=%{marker.size}<extra></extra>",
         "legendgroup": "F E69, 1",
         "marker": {
          "color": "#46039f",
          "size": [
           1
          ],
          "sizemode": "area",
          "sizeref": 0.01,
          "symbol": "circle"
         },
         "mode": "markers",
         "name": "F E69, 1",
         "r": [
          1
         ],
         "showlegend": true,
         "subplot": "polar",
         "theta": [
          "F E69"
         ],
         "type": "scatterpolar"
        },
        {
         "hovertemplate": "Cabin=%{theta}<br>symbol=1<br>r=%{r}<br>size=%{marker.size}<extra></extra>",
         "legendgroup": "F G63, 1",
         "marker": {
          "color": "#0d0887",
          "size": [
           1
          ],
          "sizemode": "area",
          "sizeref": 0.01,
          "symbol": "circle"
         },
         "mode": "markers",
         "name": "F G63, 1",
         "r": [
          1
         ],
         "showlegend": true,
         "subplot": "polar",
         "theta": [
          "F G63"
         ],
         "type": "scatterpolar"
        },
        {
         "hovertemplate": "Cabin=%{theta}<br>symbol=2<br>r=%{r}<br>size=%{marker.size}<extra></extra>",
         "legendgroup": "F G73, 2",
         "marker": {
          "color": "#f0f921",
          "size": [
           2
          ],
          "sizemode": "area",
          "sizeref": 0.01,
          "symbol": "diamond"
         },
         "mode": "markers",
         "name": "F G73, 2",
         "r": [
          2
         ],
         "showlegend": true,
         "subplot": "polar",
         "theta": [
          "F G73"
         ],
         "type": "scatterpolar"
        },
        {
         "hovertemplate": "Cabin=%{theta}<br>symbol=3<br>r=%{r}<br>size=%{marker.size}<extra></extra>",
         "legendgroup": "F2, 3",
         "marker": {
          "color": "#fdca26",
          "size": [
           3
          ],
          "sizemode": "area",
          "sizeref": 0.01,
          "symbol": "x"
         },
         "mode": "markers",
         "name": "F2, 3",
         "r": [
          3
         ],
         "showlegend": true,
         "subplot": "polar",
         "theta": [
          "F2"
         ],
         "type": "scatterpolar"
        },
        {
         "hovertemplate": "Cabin=%{theta}<br>symbol=3<br>r=%{r}<br>size=%{marker.size}<extra></extra>",
         "legendgroup": "F33, 3",
         "marker": {
          "color": "#fb9f3a",
          "size": [
           3
          ],
          "sizemode": "area",
          "sizeref": 0.01,
          "symbol": "x"
         },
         "mode": "markers",
         "name": "F33, 3",
         "r": [
          3
         ],
         "showlegend": true,
         "subplot": "polar",
         "theta": [
          "F33"
         ],
         "type": "scatterpolar"
        },
        {
         "hovertemplate": "Cabin=%{theta}<br>symbol=1<br>r=%{r}<br>size=%{marker.size}<extra></extra>",
         "legendgroup": "F38, 1",
         "marker": {
          "color": "#ed7953",
          "size": [
           1
          ],
          "sizemode": "area",
          "sizeref": 0.01,
          "symbol": "circle"
         },
         "mode": "markers",
         "name": "F38, 1",
         "r": [
          1
         ],
         "showlegend": true,
         "subplot": "polar",
         "theta": [
          "F38"
         ],
         "type": "scatterpolar"
        },
        {
         "hovertemplate": "Cabin=%{theta}<br>symbol=2<br>r=%{r}<br>size=%{marker.size}<extra></extra>",
         "legendgroup": "F4, 2",
         "marker": {
          "color": "#d8576b",
          "size": [
           2
          ],
          "sizemode": "area",
          "sizeref": 0.01,
          "symbol": "diamond"
         },
         "mode": "markers",
         "name": "F4, 2",
         "r": [
          2
         ],
         "showlegend": true,
         "subplot": "polar",
         "theta": [
          "F4"
         ],
         "type": "scatterpolar"
        },
        {
         "hovertemplate": "Cabin=%{theta}<br>symbol=4<br>r=%{r}<br>size=%{marker.size}<extra></extra>",
         "legendgroup": "G6, 4",
         "marker": {
          "color": "#bd3786",
          "size": [
           4
          ],
          "sizemode": "area",
          "sizeref": 0.01,
          "symbol": "square"
         },
         "mode": "markers",
         "name": "G6, 4",
         "r": [
          4
         ],
         "showlegend": true,
         "subplot": "polar",
         "theta": [
          "G6"
         ],
         "type": "scatterpolar"
        },
        {
         "hovertemplate": "Cabin=%{theta}<br>symbol=1<br>r=%{r}<br>size=%{marker.size}<extra></extra>",
         "legendgroup": "T, 1",
         "marker": {
          "color": "#9c179e",
          "size": [
           1
          ],
          "sizemode": "area",
          "sizeref": 0.01,
          "symbol": "circle"
         },
         "mode": "markers",
         "name": "T, 1",
         "r": [
          1
         ],
         "showlegend": true,
         "subplot": "polar",
         "theta": [
          "T"
         ],
         "type": "scatterpolar"
        }
       ],
       "layout": {
        "legend": {
         "itemsizing": "constant",
         "title": {
          "text": "Cabin, symbol"
         },
         "tracegroupgap": 0
        },
        "polar": {
         "angularaxis": {
          "categoryarray": [
           "A10",
           "A14",
           "A16",
           "A19",
           "A20",
           "A23",
           "A24",
           "A26",
           "A31",
           "A32",
           "A34",
           "A36",
           "A5",
           "A6",
           "A7",
           "B101",
           "B102",
           "B18",
           "B19",
           "B20",
           "B22",
           "B28",
           "B3",
           "B30",
           "B35",
           "B37",
           "B38",
           "B39",
           "B4",
           "B41",
           "B42",
           "B49",
           "B5",
           "B50",
           "B51 B53 B55",
           "B57 B59 B63 B66",
           "B58 B60",
           "B69",
           "B71",
           "B73",
           "B77",
           "B78",
           "B79",
           "B80",
           "B82 B84",
           "B86",
           "B94",
           "B96 B98",
           "C101",
           "C103",
           "C104",
           "C106",
           "C110",
           "C111",
           "C118",
           "C123",
           "C124",
           "C125",
           "C126",
           "C128",
           "C148",
           "C2",
           "C22 C26",
           "C23 C25 C27",
           "C30",
           "C32",
           "C45",
           "C46",
           "C47",
           "C49",
           "C50",
           "C52",
           "C54",
           "C62 C64",
           "C65",
           "C68",
           "C7",
           "C70",
           "C78",
           "C82",
           "C83",
           "C85",
           "C86",
           "C87",
           "C90",
           "C91",
           "C92",
           "C93",
           "C95",
           "C99",
           "D",
           "D10 D12",
           "D11",
           "D15",
           "D17",
           "D19",
           "D20",
           "D21",
           "D26",
           "D28",
           "D30",
           "D33",
           "D35",
           "D36",
           "D37",
           "D45",
           "D46",
           "D47",
           "D48",
           "D49",
           "D50",
           "D56",
           "D6",
           "D7",
           "D9",
           "E10",
           "E101",
           "E12",
           "E121",
           "E17",
           "E24",
           "E25",
           "E31",
           "E33",
           "E34",
           "E36",
           "E38",
           "E40",
           "E44",
           "E46",
           "E49",
           "E50",
           "E58",
           "E63",
           "E67",
           "E68",
           "E77",
           "E8",
           "F E69",
           "F G63",
           "F G73",
           "F2",
           "F33",
           "F38",
           "F4",
           "G6",
           "T"
          ],
          "categoryorder": "array",
          "direction": "clockwise",
          "rotation": 90
         },
         "domain": {
          "x": [
           0,
           1
          ],
          "y": [
           0,
           1
          ]
         }
        },
        "template": {
         "data": {
          "bar": [
           {
            "error_x": {
             "color": "#2a3f5f"
            },
            "error_y": {
             "color": "#2a3f5f"
            },
            "marker": {
             "line": {
              "color": "#E5ECF6",
              "width": 0.5
             }
            },
            "type": "bar"
           }
          ],
          "barpolar": [
           {
            "marker": {
             "line": {
              "color": "#E5ECF6",
              "width": 0.5
             }
            },
            "type": "barpolar"
           }
          ],
          "carpet": [
           {
            "aaxis": {
             "endlinecolor": "#2a3f5f",
             "gridcolor": "white",
             "linecolor": "white",
             "minorgridcolor": "white",
             "startlinecolor": "#2a3f5f"
            },
            "baxis": {
             "endlinecolor": "#2a3f5f",
             "gridcolor": "white",
             "linecolor": "white",
             "minorgridcolor": "white",
             "startlinecolor": "#2a3f5f"
            },
            "type": "carpet"
           }
          ],
          "choropleth": [
           {
            "colorbar": {
             "outlinewidth": 0,
             "ticks": ""
            },
            "type": "choropleth"
           }
          ],
          "contour": [
           {
            "colorbar": {
             "outlinewidth": 0,
             "ticks": ""
            },
            "colorscale": [
             [
              0,
              "#0d0887"
             ],
             [
              0.1111111111111111,
              "#46039f"
             ],
             [
              0.2222222222222222,
              "#7201a8"
             ],
             [
              0.3333333333333333,
              "#9c179e"
             ],
             [
              0.4444444444444444,
              "#bd3786"
             ],
             [
              0.5555555555555556,
              "#d8576b"
             ],
             [
              0.6666666666666666,
              "#ed7953"
             ],
             [
              0.7777777777777778,
              "#fb9f3a"
             ],
             [
              0.8888888888888888,
              "#fdca26"
             ],
             [
              1,
              "#f0f921"
             ]
            ],
            "type": "contour"
           }
          ],
          "contourcarpet": [
           {
            "colorbar": {
             "outlinewidth": 0,
             "ticks": ""
            },
            "type": "contourcarpet"
           }
          ],
          "heatmap": [
           {
            "colorbar": {
             "outlinewidth": 0,
             "ticks": ""
            },
            "colorscale": [
             [
              0,
              "#0d0887"
             ],
             [
              0.1111111111111111,
              "#46039f"
             ],
             [
              0.2222222222222222,
              "#7201a8"
             ],
             [
              0.3333333333333333,
              "#9c179e"
             ],
             [
              0.4444444444444444,
              "#bd3786"
             ],
             [
              0.5555555555555556,
              "#d8576b"
             ],
             [
              0.6666666666666666,
              "#ed7953"
             ],
             [
              0.7777777777777778,
              "#fb9f3a"
             ],
             [
              0.8888888888888888,
              "#fdca26"
             ],
             [
              1,
              "#f0f921"
             ]
            ],
            "type": "heatmap"
           }
          ],
          "heatmapgl": [
           {
            "colorbar": {
             "outlinewidth": 0,
             "ticks": ""
            },
            "colorscale": [
             [
              0,
              "#0d0887"
             ],
             [
              0.1111111111111111,
              "#46039f"
             ],
             [
              0.2222222222222222,
              "#7201a8"
             ],
             [
              0.3333333333333333,
              "#9c179e"
             ],
             [
              0.4444444444444444,
              "#bd3786"
             ],
             [
              0.5555555555555556,
              "#d8576b"
             ],
             [
              0.6666666666666666,
              "#ed7953"
             ],
             [
              0.7777777777777778,
              "#fb9f3a"
             ],
             [
              0.8888888888888888,
              "#fdca26"
             ],
             [
              1,
              "#f0f921"
             ]
            ],
            "type": "heatmapgl"
           }
          ],
          "histogram": [
           {
            "marker": {
             "colorbar": {
              "outlinewidth": 0,
              "ticks": ""
             }
            },
            "type": "histogram"
           }
          ],
          "histogram2d": [
           {
            "colorbar": {
             "outlinewidth": 0,
             "ticks": ""
            },
            "colorscale": [
             [
              0,
              "#0d0887"
             ],
             [
              0.1111111111111111,
              "#46039f"
             ],
             [
              0.2222222222222222,
              "#7201a8"
             ],
             [
              0.3333333333333333,
              "#9c179e"
             ],
             [
              0.4444444444444444,
              "#bd3786"
             ],
             [
              0.5555555555555556,
              "#d8576b"
             ],
             [
              0.6666666666666666,
              "#ed7953"
             ],
             [
              0.7777777777777778,
              "#fb9f3a"
             ],
             [
              0.8888888888888888,
              "#fdca26"
             ],
             [
              1,
              "#f0f921"
             ]
            ],
            "type": "histogram2d"
           }
          ],
          "histogram2dcontour": [
           {
            "colorbar": {
             "outlinewidth": 0,
             "ticks": ""
            },
            "colorscale": [
             [
              0,
              "#0d0887"
             ],
             [
              0.1111111111111111,
              "#46039f"
             ],
             [
              0.2222222222222222,
              "#7201a8"
             ],
             [
              0.3333333333333333,
              "#9c179e"
             ],
             [
              0.4444444444444444,
              "#bd3786"
             ],
             [
              0.5555555555555556,
              "#d8576b"
             ],
             [
              0.6666666666666666,
              "#ed7953"
             ],
             [
              0.7777777777777778,
              "#fb9f3a"
             ],
             [
              0.8888888888888888,
              "#fdca26"
             ],
             [
              1,
              "#f0f921"
             ]
            ],
            "type": "histogram2dcontour"
           }
          ],
          "mesh3d": [
           {
            "colorbar": {
             "outlinewidth": 0,
             "ticks": ""
            },
            "type": "mesh3d"
           }
          ],
          "parcoords": [
           {
            "line": {
             "colorbar": {
              "outlinewidth": 0,
              "ticks": ""
             }
            },
            "type": "parcoords"
           }
          ],
          "pie": [
           {
            "automargin": true,
            "type": "pie"
           }
          ],
          "scatter": [
           {
            "marker": {
             "colorbar": {
              "outlinewidth": 0,
              "ticks": ""
             }
            },
            "type": "scatter"
           }
          ],
          "scatter3d": [
           {
            "line": {
             "colorbar": {
              "outlinewidth": 0,
              "ticks": ""
             }
            },
            "marker": {
             "colorbar": {
              "outlinewidth": 0,
              "ticks": ""
             }
            },
            "type": "scatter3d"
           }
          ],
          "scattercarpet": [
           {
            "marker": {
             "colorbar": {
              "outlinewidth": 0,
              "ticks": ""
             }
            },
            "type": "scattercarpet"
           }
          ],
          "scattergeo": [
           {
            "marker": {
             "colorbar": {
              "outlinewidth": 0,
              "ticks": ""
             }
            },
            "type": "scattergeo"
           }
          ],
          "scattergl": [
           {
            "marker": {
             "colorbar": {
              "outlinewidth": 0,
              "ticks": ""
             }
            },
            "type": "scattergl"
           }
          ],
          "scattermapbox": [
           {
            "marker": {
             "colorbar": {
              "outlinewidth": 0,
              "ticks": ""
             }
            },
            "type": "scattermapbox"
           }
          ],
          "scatterpolar": [
           {
            "marker": {
             "colorbar": {
              "outlinewidth": 0,
              "ticks": ""
             }
            },
            "type": "scatterpolar"
           }
          ],
          "scatterpolargl": [
           {
            "marker": {
             "colorbar": {
              "outlinewidth": 0,
              "ticks": ""
             }
            },
            "type": "scatterpolargl"
           }
          ],
          "scatterternary": [
           {
            "marker": {
             "colorbar": {
              "outlinewidth": 0,
              "ticks": ""
             }
            },
            "type": "scatterternary"
           }
          ],
          "surface": [
           {
            "colorbar": {
             "outlinewidth": 0,
             "ticks": ""
            },
            "colorscale": [
             [
              0,
              "#0d0887"
             ],
             [
              0.1111111111111111,
              "#46039f"
             ],
             [
              0.2222222222222222,
              "#7201a8"
             ],
             [
              0.3333333333333333,
              "#9c179e"
             ],
             [
              0.4444444444444444,
              "#bd3786"
             ],
             [
              0.5555555555555556,
              "#d8576b"
             ],
             [
              0.6666666666666666,
              "#ed7953"
             ],
             [
              0.7777777777777778,
              "#fb9f3a"
             ],
             [
              0.8888888888888888,
              "#fdca26"
             ],
             [
              1,
              "#f0f921"
             ]
            ],
            "type": "surface"
           }
          ],
          "table": [
           {
            "cells": {
             "fill": {
              "color": "#EBF0F8"
             },
             "line": {
              "color": "white"
             }
            },
            "header": {
             "fill": {
              "color": "#C8D4E3"
             },
             "line": {
              "color": "white"
             }
            },
            "type": "table"
           }
          ]
         },
         "layout": {
          "annotationdefaults": {
           "arrowcolor": "#2a3f5f",
           "arrowhead": 0,
           "arrowwidth": 1
          },
          "autotypenumbers": "strict",
          "coloraxis": {
           "colorbar": {
            "outlinewidth": 0,
            "ticks": ""
           }
          },
          "colorscale": {
           "diverging": [
            [
             0,
             "#8e0152"
            ],
            [
             0.1,
             "#c51b7d"
            ],
            [
             0.2,
             "#de77ae"
            ],
            [
             0.3,
             "#f1b6da"
            ],
            [
             0.4,
             "#fde0ef"
            ],
            [
             0.5,
             "#f7f7f7"
            ],
            [
             0.6,
             "#e6f5d0"
            ],
            [
             0.7,
             "#b8e186"
            ],
            [
             0.8,
             "#7fbc41"
            ],
            [
             0.9,
             "#4d9221"
            ],
            [
             1,
             "#276419"
            ]
           ],
           "sequential": [
            [
             0,
             "#0d0887"
            ],
            [
             0.1111111111111111,
             "#46039f"
            ],
            [
             0.2222222222222222,
             "#7201a8"
            ],
            [
             0.3333333333333333,
             "#9c179e"
            ],
            [
             0.4444444444444444,
             "#bd3786"
            ],
            [
             0.5555555555555556,
             "#d8576b"
            ],
            [
             0.6666666666666666,
             "#ed7953"
            ],
            [
             0.7777777777777778,
             "#fb9f3a"
            ],
            [
             0.8888888888888888,
             "#fdca26"
            ],
            [
             1,
             "#f0f921"
            ]
           ],
           "sequentialminus": [
            [
             0,
             "#0d0887"
            ],
            [
             0.1111111111111111,
             "#46039f"
            ],
            [
             0.2222222222222222,
             "#7201a8"
            ],
            [
             0.3333333333333333,
             "#9c179e"
            ],
            [
             0.4444444444444444,
             "#bd3786"
            ],
            [
             0.5555555555555556,
             "#d8576b"
            ],
            [
             0.6666666666666666,
             "#ed7953"
            ],
            [
             0.7777777777777778,
             "#fb9f3a"
            ],
            [
             0.8888888888888888,
             "#fdca26"
            ],
            [
             1,
             "#f0f921"
            ]
           ]
          },
          "colorway": [
           "#636efa",
           "#EF553B",
           "#00cc96",
           "#ab63fa",
           "#FFA15A",
           "#19d3f3",
           "#FF6692",
           "#B6E880",
           "#FF97FF",
           "#FECB52"
          ],
          "font": {
           "color": "#2a3f5f"
          },
          "geo": {
           "bgcolor": "white",
           "lakecolor": "white",
           "landcolor": "#E5ECF6",
           "showlakes": true,
           "showland": true,
           "subunitcolor": "white"
          },
          "hoverlabel": {
           "align": "left"
          },
          "hovermode": "closest",
          "mapbox": {
           "style": "light"
          },
          "paper_bgcolor": "white",
          "plot_bgcolor": "#E5ECF6",
          "polar": {
           "angularaxis": {
            "gridcolor": "white",
            "linecolor": "white",
            "ticks": ""
           },
           "bgcolor": "#E5ECF6",
           "radialaxis": {
            "gridcolor": "white",
            "linecolor": "white",
            "ticks": ""
           }
          },
          "scene": {
           "xaxis": {
            "backgroundcolor": "#E5ECF6",
            "gridcolor": "white",
            "gridwidth": 2,
            "linecolor": "white",
            "showbackground": true,
            "ticks": "",
            "zerolinecolor": "white"
           },
           "yaxis": {
            "backgroundcolor": "#E5ECF6",
            "gridcolor": "white",
            "gridwidth": 2,
            "linecolor": "white",
            "showbackground": true,
            "ticks": "",
            "zerolinecolor": "white"
           },
           "zaxis": {
            "backgroundcolor": "#E5ECF6",
            "gridcolor": "white",
            "gridwidth": 2,
            "linecolor": "white",
            "showbackground": true,
            "ticks": "",
            "zerolinecolor": "white"
           }
          },
          "shapedefaults": {
           "line": {
            "color": "#2a3f5f"
           }
          },
          "ternary": {
           "aaxis": {
            "gridcolor": "white",
            "linecolor": "white",
            "ticks": ""
           },
           "baxis": {
            "gridcolor": "white",
            "linecolor": "white",
            "ticks": ""
           },
           "bgcolor": "#E5ECF6",
           "caxis": {
            "gridcolor": "white",
            "linecolor": "white",
            "ticks": ""
           }
          },
          "title": {
           "x": 0.05
          },
          "xaxis": {
           "automargin": true,
           "gridcolor": "white",
           "linecolor": "white",
           "ticks": "",
           "title": {
            "standoff": 15
           },
           "zerolinecolor": "white",
           "zerolinewidth": 2
          },
          "yaxis": {
           "automargin": true,
           "gridcolor": "white",
           "linecolor": "white",
           "ticks": "",
           "title": {
            "standoff": 15
           },
           "zerolinecolor": "white",
           "zerolinewidth": 2
          }
         }
        },
        "title": {
         "text": "Survived by Cabin"
        }
       }
      },
      "text/html": [
       "<div>                            <div id=\"cae04ca8-50d1-4ae9-8aed-24b1338bd361\" class=\"plotly-graph-div\" style=\"height:525px; width:100%;\"></div>            <script type=\"text/javascript\">                require([\"plotly\"], function(Plotly) {                    window.PLOTLYENV=window.PLOTLYENV || {};                                    if (document.getElementById(\"cae04ca8-50d1-4ae9-8aed-24b1338bd361\")) {                    Plotly.newPlot(                        \"cae04ca8-50d1-4ae9-8aed-24b1338bd361\",                        [{\"hovertemplate\": \"Cabin=%{theta}<br>symbol=1<br>r=%{r}<br>size=%{marker.size}<extra></extra>\", \"legendgroup\": \"A10, 1\", \"marker\": {\"color\": \"#f0f921\", \"size\": [1], \"sizemode\": \"area\", \"sizeref\": 0.01, \"symbol\": \"circle\"}, \"mode\": \"markers\", \"name\": \"A10, 1\", \"r\": [1], \"showlegend\": true, \"subplot\": \"polar\", \"theta\": [\"A10\"], \"type\": \"scatterpolar\"}, {\"hovertemplate\": \"Cabin=%{theta}<br>symbol=1<br>r=%{r}<br>size=%{marker.size}<extra></extra>\", \"legendgroup\": \"A14, 1\", \"marker\": {\"color\": \"#fdca26\", \"size\": [1], \"sizemode\": \"area\", \"sizeref\": 0.01, \"symbol\": \"circle\"}, \"mode\": \"markers\", \"name\": \"A14, 1\", \"r\": [1], \"showlegend\": true, \"subplot\": \"polar\", \"theta\": [\"A14\"], \"type\": \"scatterpolar\"}, {\"hovertemplate\": \"Cabin=%{theta}<br>symbol=1<br>r=%{r}<br>size=%{marker.size}<extra></extra>\", \"legendgroup\": \"A16, 1\", \"marker\": {\"color\": \"#fb9f3a\", \"size\": [1], \"sizemode\": \"area\", \"sizeref\": 0.01, \"symbol\": \"circle\"}, \"mode\": \"markers\", \"name\": \"A16, 1\", \"r\": [1], \"showlegend\": true, \"subplot\": \"polar\", \"theta\": [\"A16\"], \"type\": \"scatterpolar\"}, {\"hovertemplate\": \"Cabin=%{theta}<br>symbol=1<br>r=%{r}<br>size=%{marker.size}<extra></extra>\", \"legendgroup\": \"A19, 1\", \"marker\": {\"color\": \"#ed7953\", \"size\": [1], \"sizemode\": \"area\", \"sizeref\": 0.01, \"symbol\": \"circle\"}, \"mode\": \"markers\", \"name\": \"A19, 1\", \"r\": [1], \"showlegend\": true, \"subplot\": \"polar\", \"theta\": [\"A19\"], \"type\": \"scatterpolar\"}, {\"hovertemplate\": \"Cabin=%{theta}<br>symbol=1<br>r=%{r}<br>size=%{marker.size}<extra></extra>\", \"legendgroup\": \"A20, 1\", \"marker\": {\"color\": \"#d8576b\", \"size\": [1], \"sizemode\": \"area\", \"sizeref\": 0.01, \"symbol\": \"circle\"}, \"mode\": \"markers\", \"name\": \"A20, 1\", \"r\": [1], \"showlegend\": true, \"subplot\": \"polar\", \"theta\": [\"A20\"], \"type\": \"scatterpolar\"}, {\"hovertemplate\": \"Cabin=%{theta}<br>symbol=1<br>r=%{r}<br>size=%{marker.size}<extra></extra>\", \"legendgroup\": \"A23, 1\", \"marker\": {\"color\": \"#bd3786\", \"size\": [1], \"sizemode\": \"area\", \"sizeref\": 0.01, \"symbol\": \"circle\"}, \"mode\": \"markers\", \"name\": \"A23, 1\", \"r\": [1], \"showlegend\": true, \"subplot\": \"polar\", \"theta\": [\"A23\"], \"type\": \"scatterpolar\"}, {\"hovertemplate\": \"Cabin=%{theta}<br>symbol=1<br>r=%{r}<br>size=%{marker.size}<extra></extra>\", \"legendgroup\": \"A24, 1\", \"marker\": {\"color\": \"#9c179e\", \"size\": [1], \"sizemode\": \"area\", \"sizeref\": 0.01, \"symbol\": \"circle\"}, \"mode\": \"markers\", \"name\": \"A24, 1\", \"r\": [1], \"showlegend\": true, \"subplot\": \"polar\", \"theta\": [\"A24\"], \"type\": \"scatterpolar\"}, {\"hovertemplate\": \"Cabin=%{theta}<br>symbol=1<br>r=%{r}<br>size=%{marker.size}<extra></extra>\", \"legendgroup\": \"A26, 1\", \"marker\": {\"color\": \"#7201a8\", \"size\": [1], \"sizemode\": \"area\", \"sizeref\": 0.01, \"symbol\": \"circle\"}, \"mode\": \"markers\", \"name\": \"A26, 1\", \"r\": [1], \"showlegend\": true, \"subplot\": \"polar\", \"theta\": [\"A26\"], \"type\": \"scatterpolar\"}, {\"hovertemplate\": \"Cabin=%{theta}<br>symbol=1<br>r=%{r}<br>size=%{marker.size}<extra></extra>\", \"legendgroup\": \"A31, 1\", \"marker\": {\"color\": \"#46039f\", \"size\": [1], \"sizemode\": \"area\", \"sizeref\": 0.01, \"symbol\": \"circle\"}, \"mode\": \"markers\", \"name\": \"A31, 1\", \"r\": [1], \"showlegend\": true, \"subplot\": \"polar\", \"theta\": [\"A31\"], \"type\": \"scatterpolar\"}, {\"hovertemplate\": \"Cabin=%{theta}<br>symbol=1<br>r=%{r}<br>size=%{marker.size}<extra></extra>\", \"legendgroup\": \"A32, 1\", \"marker\": {\"color\": \"#0d0887\", \"size\": [1], \"sizemode\": \"area\", \"sizeref\": 0.01, \"symbol\": \"circle\"}, \"mode\": \"markers\", \"name\": \"A32, 1\", \"r\": [1], \"showlegend\": true, \"subplot\": \"polar\", \"theta\": [\"A32\"], \"type\": \"scatterpolar\"}, {\"hovertemplate\": \"Cabin=%{theta}<br>symbol=1<br>r=%{r}<br>size=%{marker.size}<extra></extra>\", \"legendgroup\": \"A34, 1\", \"marker\": {\"color\": \"#f0f921\", \"size\": [1], \"sizemode\": \"area\", \"sizeref\": 0.01, \"symbol\": \"circle\"}, \"mode\": \"markers\", \"name\": \"A34, 1\", \"r\": [1], \"showlegend\": true, \"subplot\": \"polar\", \"theta\": [\"A34\"], \"type\": \"scatterpolar\"}, {\"hovertemplate\": \"Cabin=%{theta}<br>symbol=1<br>r=%{r}<br>size=%{marker.size}<extra></extra>\", \"legendgroup\": \"A36, 1\", \"marker\": {\"color\": \"#fdca26\", \"size\": [1], \"sizemode\": \"area\", \"sizeref\": 0.01, \"symbol\": \"circle\"}, \"mode\": \"markers\", \"name\": \"A36, 1\", \"r\": [1], \"showlegend\": true, \"subplot\": \"polar\", \"theta\": [\"A36\"], \"type\": \"scatterpolar\"}, {\"hovertemplate\": \"Cabin=%{theta}<br>symbol=1<br>r=%{r}<br>size=%{marker.size}<extra></extra>\", \"legendgroup\": \"A5, 1\", \"marker\": {\"color\": \"#fb9f3a\", \"size\": [1], \"sizemode\": \"area\", \"sizeref\": 0.01, \"symbol\": \"circle\"}, \"mode\": \"markers\", \"name\": \"A5, 1\", \"r\": [1], \"showlegend\": true, \"subplot\": \"polar\", \"theta\": [\"A5\"], \"type\": \"scatterpolar\"}, {\"hovertemplate\": \"Cabin=%{theta}<br>symbol=1<br>r=%{r}<br>size=%{marker.size}<extra></extra>\", \"legendgroup\": \"A6, 1\", \"marker\": {\"color\": \"#ed7953\", \"size\": [1], \"sizemode\": \"area\", \"sizeref\": 0.01, \"symbol\": \"circle\"}, \"mode\": \"markers\", \"name\": \"A6, 1\", \"r\": [1], \"showlegend\": true, \"subplot\": \"polar\", \"theta\": [\"A6\"], \"type\": \"scatterpolar\"}, {\"hovertemplate\": \"Cabin=%{theta}<br>symbol=1<br>r=%{r}<br>size=%{marker.size}<extra></extra>\", \"legendgroup\": \"A7, 1\", \"marker\": {\"color\": \"#d8576b\", \"size\": [1], \"sizemode\": \"area\", \"sizeref\": 0.01, \"symbol\": \"circle\"}, \"mode\": \"markers\", \"name\": \"A7, 1\", \"r\": [1], \"showlegend\": true, \"subplot\": \"polar\", \"theta\": [\"A7\"], \"type\": \"scatterpolar\"}, {\"hovertemplate\": \"Cabin=%{theta}<br>symbol=1<br>r=%{r}<br>size=%{marker.size}<extra></extra>\", \"legendgroup\": \"B101, 1\", \"marker\": {\"color\": \"#bd3786\", \"size\": [1], \"sizemode\": \"area\", \"sizeref\": 0.01, \"symbol\": \"circle\"}, \"mode\": \"markers\", \"name\": \"B101, 1\", \"r\": [1], \"showlegend\": true, \"subplot\": \"polar\", \"theta\": [\"B101\"], \"type\": \"scatterpolar\"}, {\"hovertemplate\": \"Cabin=%{theta}<br>symbol=1<br>r=%{r}<br>size=%{marker.size}<extra></extra>\", \"legendgroup\": \"B102, 1\", \"marker\": {\"color\": \"#9c179e\", \"size\": [1], \"sizemode\": \"area\", \"sizeref\": 0.01, \"symbol\": \"circle\"}, \"mode\": \"markers\", \"name\": \"B102, 1\", \"r\": [1], \"showlegend\": true, \"subplot\": \"polar\", \"theta\": [\"B102\"], \"type\": \"scatterpolar\"}, {\"hovertemplate\": \"Cabin=%{theta}<br>symbol=2<br>r=%{r}<br>size=%{marker.size}<extra></extra>\", \"legendgroup\": \"B18, 2\", \"marker\": {\"color\": \"#7201a8\", \"size\": [2], \"sizemode\": \"area\", \"sizeref\": 0.01, \"symbol\": \"diamond\"}, \"mode\": \"markers\", \"name\": \"B18, 2\", \"r\": [2], \"showlegend\": true, \"subplot\": \"polar\", \"theta\": [\"B18\"], \"type\": \"scatterpolar\"}, {\"hovertemplate\": \"Cabin=%{theta}<br>symbol=1<br>r=%{r}<br>size=%{marker.size}<extra></extra>\", \"legendgroup\": \"B19, 1\", \"marker\": {\"color\": \"#46039f\", \"size\": [1], \"sizemode\": \"area\", \"sizeref\": 0.01, \"symbol\": \"circle\"}, \"mode\": \"markers\", \"name\": \"B19, 1\", \"r\": [1], \"showlegend\": true, \"subplot\": \"polar\", \"theta\": [\"B19\"], \"type\": \"scatterpolar\"}, {\"hovertemplate\": \"Cabin=%{theta}<br>symbol=2<br>r=%{r}<br>size=%{marker.size}<extra></extra>\", \"legendgroup\": \"B20, 2\", \"marker\": {\"color\": \"#0d0887\", \"size\": [2], \"sizemode\": \"area\", \"sizeref\": 0.01, \"symbol\": \"diamond\"}, \"mode\": \"markers\", \"name\": \"B20, 2\", \"r\": [2], \"showlegend\": true, \"subplot\": \"polar\", \"theta\": [\"B20\"], \"type\": \"scatterpolar\"}, {\"hovertemplate\": \"Cabin=%{theta}<br>symbol=2<br>r=%{r}<br>size=%{marker.size}<extra></extra>\", \"legendgroup\": \"B22, 2\", \"marker\": {\"color\": \"#f0f921\", \"size\": [2], \"sizemode\": \"area\", \"sizeref\": 0.01, \"symbol\": \"diamond\"}, \"mode\": \"markers\", \"name\": \"B22, 2\", \"r\": [2], \"showlegend\": true, \"subplot\": \"polar\", \"theta\": [\"B22\"], \"type\": \"scatterpolar\"}, {\"hovertemplate\": \"Cabin=%{theta}<br>symbol=2<br>r=%{r}<br>size=%{marker.size}<extra></extra>\", \"legendgroup\": \"B28, 2\", \"marker\": {\"color\": \"#fdca26\", \"size\": [2], \"sizemode\": \"area\", \"sizeref\": 0.01, \"symbol\": \"diamond\"}, \"mode\": \"markers\", \"name\": \"B28, 2\", \"r\": [2], \"showlegend\": true, \"subplot\": \"polar\", \"theta\": [\"B28\"], \"type\": \"scatterpolar\"}, {\"hovertemplate\": \"Cabin=%{theta}<br>symbol=1<br>r=%{r}<br>size=%{marker.size}<extra></extra>\", \"legendgroup\": \"B3, 1\", \"marker\": {\"color\": \"#fb9f3a\", \"size\": [1], \"sizemode\": \"area\", \"sizeref\": 0.01, \"symbol\": \"circle\"}, \"mode\": \"markers\", \"name\": \"B3, 1\", \"r\": [1], \"showlegend\": true, \"subplot\": \"polar\", \"theta\": [\"B3\"], \"type\": \"scatterpolar\"}, {\"hovertemplate\": \"Cabin=%{theta}<br>symbol=1<br>r=%{r}<br>size=%{marker.size}<extra></extra>\", \"legendgroup\": \"B30, 1\", \"marker\": {\"color\": \"#ed7953\", \"size\": [1], \"sizemode\": \"area\", \"sizeref\": 0.01, \"symbol\": \"circle\"}, \"mode\": \"markers\", \"name\": \"B30, 1\", \"r\": [1], \"showlegend\": true, \"subplot\": \"polar\", \"theta\": [\"B30\"], \"type\": \"scatterpolar\"}, {\"hovertemplate\": \"Cabin=%{theta}<br>symbol=2<br>r=%{r}<br>size=%{marker.size}<extra></extra>\", \"legendgroup\": \"B35, 2\", \"marker\": {\"color\": \"#d8576b\", \"size\": [2], \"sizemode\": \"area\", \"sizeref\": 0.01, \"symbol\": \"diamond\"}, \"mode\": \"markers\", \"name\": \"B35, 2\", \"r\": [2], \"showlegend\": true, \"subplot\": \"polar\", \"theta\": [\"B35\"], \"type\": \"scatterpolar\"}, {\"hovertemplate\": \"Cabin=%{theta}<br>symbol=1<br>r=%{r}<br>size=%{marker.size}<extra></extra>\", \"legendgroup\": \"B37, 1\", \"marker\": {\"color\": \"#bd3786\", \"size\": [1], \"sizemode\": \"area\", \"sizeref\": 0.01, \"symbol\": \"circle\"}, \"mode\": \"markers\", \"name\": \"B37, 1\", \"r\": [1], \"showlegend\": true, \"subplot\": \"polar\", \"theta\": [\"B37\"], \"type\": \"scatterpolar\"}, {\"hovertemplate\": \"Cabin=%{theta}<br>symbol=1<br>r=%{r}<br>size=%{marker.size}<extra></extra>\", \"legendgroup\": \"B38, 1\", \"marker\": {\"color\": \"#9c179e\", \"size\": [1], \"sizemode\": \"area\", \"sizeref\": 0.01, \"symbol\": \"circle\"}, \"mode\": \"markers\", \"name\": \"B38, 1\", \"r\": [1], \"showlegend\": true, \"subplot\": \"polar\", \"theta\": [\"B38\"], \"type\": \"scatterpolar\"}, {\"hovertemplate\": \"Cabin=%{theta}<br>symbol=1<br>r=%{r}<br>size=%{marker.size}<extra></extra>\", \"legendgroup\": \"B39, 1\", \"marker\": {\"color\": \"#7201a8\", \"size\": [1], \"sizemode\": \"area\", \"sizeref\": 0.01, \"symbol\": \"circle\"}, \"mode\": \"markers\", \"name\": \"B39, 1\", \"r\": [1], \"showlegend\": true, \"subplot\": \"polar\", \"theta\": [\"B39\"], \"type\": \"scatterpolar\"}, {\"hovertemplate\": \"Cabin=%{theta}<br>symbol=1<br>r=%{r}<br>size=%{marker.size}<extra></extra>\", \"legendgroup\": \"B4, 1\", \"marker\": {\"color\": \"#46039f\", \"size\": [1], \"sizemode\": \"area\", \"sizeref\": 0.01, \"symbol\": \"circle\"}, \"mode\": \"markers\", \"name\": \"B4, 1\", \"r\": [1], \"showlegend\": true, \"subplot\": \"polar\", \"theta\": [\"B4\"], \"type\": \"scatterpolar\"}, {\"hovertemplate\": \"Cabin=%{theta}<br>symbol=1<br>r=%{r}<br>size=%{marker.size}<extra></extra>\", \"legendgroup\": \"B41, 1\", \"marker\": {\"color\": \"#0d0887\", \"size\": [1], \"sizemode\": \"area\", \"sizeref\": 0.01, \"symbol\": \"circle\"}, \"mode\": \"markers\", \"name\": \"B41, 1\", \"r\": [1], \"showlegend\": true, \"subplot\": \"polar\", \"theta\": [\"B41\"], \"type\": \"scatterpolar\"}, {\"hovertemplate\": \"Cabin=%{theta}<br>symbol=1<br>r=%{r}<br>size=%{marker.size}<extra></extra>\", \"legendgroup\": \"B42, 1\", \"marker\": {\"color\": \"#f0f921\", \"size\": [1], \"sizemode\": \"area\", \"sizeref\": 0.01, \"symbol\": \"circle\"}, \"mode\": \"markers\", \"name\": \"B42, 1\", \"r\": [1], \"showlegend\": true, \"subplot\": \"polar\", \"theta\": [\"B42\"], \"type\": \"scatterpolar\"}, {\"hovertemplate\": \"Cabin=%{theta}<br>symbol=2<br>r=%{r}<br>size=%{marker.size}<extra></extra>\", \"legendgroup\": \"B49, 2\", \"marker\": {\"color\": \"#fdca26\", \"size\": [2], \"sizemode\": \"area\", \"sizeref\": 0.01, \"symbol\": \"diamond\"}, \"mode\": \"markers\", \"name\": \"B49, 2\", \"r\": [2], \"showlegend\": true, \"subplot\": \"polar\", \"theta\": [\"B49\"], \"type\": \"scatterpolar\"}, {\"hovertemplate\": \"Cabin=%{theta}<br>symbol=2<br>r=%{r}<br>size=%{marker.size}<extra></extra>\", \"legendgroup\": \"B5, 2\", \"marker\": {\"color\": \"#fb9f3a\", \"size\": [2], \"sizemode\": \"area\", \"sizeref\": 0.01, \"symbol\": \"diamond\"}, \"mode\": \"markers\", \"name\": \"B5, 2\", \"r\": [2], \"showlegend\": true, \"subplot\": \"polar\", \"theta\": [\"B5\"], \"type\": \"scatterpolar\"}, {\"hovertemplate\": \"Cabin=%{theta}<br>symbol=1<br>r=%{r}<br>size=%{marker.size}<extra></extra>\", \"legendgroup\": \"B50, 1\", \"marker\": {\"color\": \"#ed7953\", \"size\": [1], \"sizemode\": \"area\", \"sizeref\": 0.01, \"symbol\": \"circle\"}, \"mode\": \"markers\", \"name\": \"B50, 1\", \"r\": [1], \"showlegend\": true, \"subplot\": \"polar\", \"theta\": [\"B50\"], \"type\": \"scatterpolar\"}, {\"hovertemplate\": \"Cabin=%{theta}<br>symbol=2<br>r=%{r}<br>size=%{marker.size}<extra></extra>\", \"legendgroup\": \"B51 B53 B55, 2\", \"marker\": {\"color\": \"#d8576b\", \"size\": [2], \"sizemode\": \"area\", \"sizeref\": 0.01, \"symbol\": \"diamond\"}, \"mode\": \"markers\", \"name\": \"B51 B53 B55, 2\", \"r\": [2], \"showlegend\": true, \"subplot\": \"polar\", \"theta\": [\"B51 B53 B55\"], \"type\": \"scatterpolar\"}, {\"hovertemplate\": \"Cabin=%{theta}<br>symbol=2<br>r=%{r}<br>size=%{marker.size}<extra></extra>\", \"legendgroup\": \"B57 B59 B63 B66, 2\", \"marker\": {\"color\": \"#bd3786\", \"size\": [2], \"sizemode\": \"area\", \"sizeref\": 0.01, \"symbol\": \"diamond\"}, \"mode\": \"markers\", \"name\": \"B57 B59 B63 B66, 2\", \"r\": [2], \"showlegend\": true, \"subplot\": \"polar\", \"theta\": [\"B57 B59 B63 B66\"], \"type\": \"scatterpolar\"}, {\"hovertemplate\": \"Cabin=%{theta}<br>symbol=2<br>r=%{r}<br>size=%{marker.size}<extra></extra>\", \"legendgroup\": \"B58 B60, 2\", \"marker\": {\"color\": \"#9c179e\", \"size\": [2], \"sizemode\": \"area\", \"sizeref\": 0.01, \"symbol\": \"diamond\"}, \"mode\": \"markers\", \"name\": \"B58 B60, 2\", \"r\": [2], \"showlegend\": true, \"subplot\": \"polar\", \"theta\": [\"B58 B60\"], \"type\": \"scatterpolar\"}, {\"hovertemplate\": \"Cabin=%{theta}<br>symbol=1<br>r=%{r}<br>size=%{marker.size}<extra></extra>\", \"legendgroup\": \"B69, 1\", \"marker\": {\"color\": \"#7201a8\", \"size\": [1], \"sizemode\": \"area\", \"sizeref\": 0.01, \"symbol\": \"circle\"}, \"mode\": \"markers\", \"name\": \"B69, 1\", \"r\": [1], \"showlegend\": true, \"subplot\": \"polar\", \"theta\": [\"B69\"], \"type\": \"scatterpolar\"}, {\"hovertemplate\": \"Cabin=%{theta}<br>symbol=1<br>r=%{r}<br>size=%{marker.size}<extra></extra>\", \"legendgroup\": \"B71, 1\", \"marker\": {\"color\": \"#46039f\", \"size\": [1], \"sizemode\": \"area\", \"sizeref\": 0.01, \"symbol\": \"circle\"}, \"mode\": \"markers\", \"name\": \"B71, 1\", \"r\": [1], \"showlegend\": true, \"subplot\": \"polar\", \"theta\": [\"B71\"], \"type\": \"scatterpolar\"}, {\"hovertemplate\": \"Cabin=%{theta}<br>symbol=1<br>r=%{r}<br>size=%{marker.size}<extra></extra>\", \"legendgroup\": \"B73, 1\", \"marker\": {\"color\": \"#0d0887\", \"size\": [1], \"sizemode\": \"area\", \"sizeref\": 0.01, \"symbol\": \"circle\"}, \"mode\": \"markers\", \"name\": \"B73, 1\", \"r\": [1], \"showlegend\": true, \"subplot\": \"polar\", \"theta\": [\"B73\"], \"type\": \"scatterpolar\"}, {\"hovertemplate\": \"Cabin=%{theta}<br>symbol=2<br>r=%{r}<br>size=%{marker.size}<extra></extra>\", \"legendgroup\": \"B77, 2\", \"marker\": {\"color\": \"#f0f921\", \"size\": [2], \"sizemode\": \"area\", \"sizeref\": 0.01, \"symbol\": \"diamond\"}, \"mode\": \"markers\", \"name\": \"B77, 2\", \"r\": [2], \"showlegend\": true, \"subplot\": \"polar\", \"theta\": [\"B77\"], \"type\": \"scatterpolar\"}, {\"hovertemplate\": \"Cabin=%{theta}<br>symbol=1<br>r=%{r}<br>size=%{marker.size}<extra></extra>\", \"legendgroup\": \"B78, 1\", \"marker\": {\"color\": \"#fdca26\", \"size\": [1], \"sizemode\": \"area\", \"sizeref\": 0.01, \"symbol\": \"circle\"}, \"mode\": \"markers\", \"name\": \"B78, 1\", \"r\": [1], \"showlegend\": true, \"subplot\": \"polar\", \"theta\": [\"B78\"], \"type\": \"scatterpolar\"}, {\"hovertemplate\": \"Cabin=%{theta}<br>symbol=1<br>r=%{r}<br>size=%{marker.size}<extra></extra>\", \"legendgroup\": \"B79, 1\", \"marker\": {\"color\": \"#fb9f3a\", \"size\": [1], \"sizemode\": \"area\", \"sizeref\": 0.01, \"symbol\": \"circle\"}, \"mode\": \"markers\", \"name\": \"B79, 1\", \"r\": [1], \"showlegend\": true, \"subplot\": \"polar\", \"theta\": [\"B79\"], \"type\": \"scatterpolar\"}, {\"hovertemplate\": \"Cabin=%{theta}<br>symbol=1<br>r=%{r}<br>size=%{marker.size}<extra></extra>\", \"legendgroup\": \"B80, 1\", \"marker\": {\"color\": \"#ed7953\", \"size\": [1], \"sizemode\": \"area\", \"sizeref\": 0.01, \"symbol\": \"circle\"}, \"mode\": \"markers\", \"name\": \"B80, 1\", \"r\": [1], \"showlegend\": true, \"subplot\": \"polar\", \"theta\": [\"B80\"], \"type\": \"scatterpolar\"}, {\"hovertemplate\": \"Cabin=%{theta}<br>symbol=1<br>r=%{r}<br>size=%{marker.size}<extra></extra>\", \"legendgroup\": \"B82 B84, 1\", \"marker\": {\"color\": \"#d8576b\", \"size\": [1], \"sizemode\": \"area\", \"sizeref\": 0.01, \"symbol\": \"circle\"}, \"mode\": \"markers\", \"name\": \"B82 B84, 1\", \"r\": [1], \"showlegend\": true, \"subplot\": \"polar\", \"theta\": [\"B82 B84\"], \"type\": \"scatterpolar\"}, {\"hovertemplate\": \"Cabin=%{theta}<br>symbol=1<br>r=%{r}<br>size=%{marker.size}<extra></extra>\", \"legendgroup\": \"B86, 1\", \"marker\": {\"color\": \"#bd3786\", \"size\": [1], \"sizemode\": \"area\", \"sizeref\": 0.01, \"symbol\": \"circle\"}, \"mode\": \"markers\", \"name\": \"B86, 1\", \"r\": [1], \"showlegend\": true, \"subplot\": \"polar\", \"theta\": [\"B86\"], \"type\": \"scatterpolar\"}, {\"hovertemplate\": \"Cabin=%{theta}<br>symbol=1<br>r=%{r}<br>size=%{marker.size}<extra></extra>\", \"legendgroup\": \"B94, 1\", \"marker\": {\"color\": \"#9c179e\", \"size\": [1], \"sizemode\": \"area\", \"sizeref\": 0.01, \"symbol\": \"circle\"}, \"mode\": \"markers\", \"name\": \"B94, 1\", \"r\": [1], \"showlegend\": true, \"subplot\": \"polar\", \"theta\": [\"B94\"], \"type\": \"scatterpolar\"}, {\"hovertemplate\": \"Cabin=%{theta}<br>symbol=4<br>r=%{r}<br>size=%{marker.size}<extra></extra>\", \"legendgroup\": \"B96 B98, 4\", \"marker\": {\"color\": \"#7201a8\", \"size\": [4], \"sizemode\": \"area\", \"sizeref\": 0.01, \"symbol\": \"square\"}, \"mode\": \"markers\", \"name\": \"B96 B98, 4\", \"r\": [4], \"showlegend\": true, \"subplot\": \"polar\", \"theta\": [\"B96 B98\"], \"type\": \"scatterpolar\"}, {\"hovertemplate\": \"Cabin=%{theta}<br>symbol=1<br>r=%{r}<br>size=%{marker.size}<extra></extra>\", \"legendgroup\": \"C101, 1\", \"marker\": {\"color\": \"#46039f\", \"size\": [1], \"sizemode\": \"area\", \"sizeref\": 0.01, \"symbol\": \"circle\"}, \"mode\": \"markers\", \"name\": \"C101, 1\", \"r\": [1], \"showlegend\": true, \"subplot\": \"polar\", \"theta\": [\"C101\"], \"type\": \"scatterpolar\"}, {\"hovertemplate\": \"Cabin=%{theta}<br>symbol=1<br>r=%{r}<br>size=%{marker.size}<extra></extra>\", \"legendgroup\": \"C103, 1\", \"marker\": {\"color\": \"#0d0887\", \"size\": [1], \"sizemode\": \"area\", \"sizeref\": 0.01, \"symbol\": \"circle\"}, \"mode\": \"markers\", \"name\": \"C103, 1\", \"r\": [1], \"showlegend\": true, \"subplot\": \"polar\", \"theta\": [\"C103\"], \"type\": \"scatterpolar\"}, {\"hovertemplate\": \"Cabin=%{theta}<br>symbol=1<br>r=%{r}<br>size=%{marker.size}<extra></extra>\", \"legendgroup\": \"C104, 1\", \"marker\": {\"color\": \"#f0f921\", \"size\": [1], \"sizemode\": \"area\", \"sizeref\": 0.01, \"symbol\": \"circle\"}, \"mode\": \"markers\", \"name\": \"C104, 1\", \"r\": [1], \"showlegend\": true, \"subplot\": \"polar\", \"theta\": [\"C104\"], \"type\": \"scatterpolar\"}, {\"hovertemplate\": \"Cabin=%{theta}<br>symbol=1<br>r=%{r}<br>size=%{marker.size}<extra></extra>\", \"legendgroup\": \"C106, 1\", \"marker\": {\"color\": \"#fdca26\", \"size\": [1], \"sizemode\": \"area\", \"sizeref\": 0.01, \"symbol\": \"circle\"}, \"mode\": \"markers\", \"name\": \"C106, 1\", \"r\": [1], \"showlegend\": true, \"subplot\": \"polar\", \"theta\": [\"C106\"], \"type\": \"scatterpolar\"}, {\"hovertemplate\": \"Cabin=%{theta}<br>symbol=1<br>r=%{r}<br>size=%{marker.size}<extra></extra>\", \"legendgroup\": \"C110, 1\", \"marker\": {\"color\": \"#fb9f3a\", \"size\": [1], \"sizemode\": \"area\", \"sizeref\": 0.01, \"symbol\": \"circle\"}, \"mode\": \"markers\", \"name\": \"C110, 1\", \"r\": [1], \"showlegend\": true, \"subplot\": \"polar\", \"theta\": [\"C110\"], \"type\": \"scatterpolar\"}, {\"hovertemplate\": \"Cabin=%{theta}<br>symbol=1<br>r=%{r}<br>size=%{marker.size}<extra></extra>\", \"legendgroup\": \"C111, 1\", \"marker\": {\"color\": \"#ed7953\", \"size\": [1], \"sizemode\": \"area\", \"sizeref\": 0.01, \"symbol\": \"circle\"}, \"mode\": \"markers\", \"name\": \"C111, 1\", \"r\": [1], \"showlegend\": true, \"subplot\": \"polar\", \"theta\": [\"C111\"], \"type\": \"scatterpolar\"}, {\"hovertemplate\": \"Cabin=%{theta}<br>symbol=1<br>r=%{r}<br>size=%{marker.size}<extra></extra>\", \"legendgroup\": \"C118, 1\", \"marker\": {\"color\": \"#d8576b\", \"size\": [1], \"sizemode\": \"area\", \"sizeref\": 0.01, \"symbol\": \"circle\"}, \"mode\": \"markers\", \"name\": \"C118, 1\", \"r\": [1], \"showlegend\": true, \"subplot\": \"polar\", \"theta\": [\"C118\"], \"type\": \"scatterpolar\"}, {\"hovertemplate\": \"Cabin=%{theta}<br>symbol=2<br>r=%{r}<br>size=%{marker.size}<extra></extra>\", \"legendgroup\": \"C123, 2\", \"marker\": {\"color\": \"#bd3786\", \"size\": [2], \"sizemode\": \"area\", \"sizeref\": 0.01, \"symbol\": \"diamond\"}, \"mode\": \"markers\", \"name\": \"C123, 2\", \"r\": [2], \"showlegend\": true, \"subplot\": \"polar\", \"theta\": [\"C123\"], \"type\": \"scatterpolar\"}, {\"hovertemplate\": \"Cabin=%{theta}<br>symbol=2<br>r=%{r}<br>size=%{marker.size}<extra></extra>\", \"legendgroup\": \"C124, 2\", \"marker\": {\"color\": \"#9c179e\", \"size\": [2], \"sizemode\": \"area\", \"sizeref\": 0.01, \"symbol\": \"diamond\"}, \"mode\": \"markers\", \"name\": \"C124, 2\", \"r\": [2], \"showlegend\": true, \"subplot\": \"polar\", \"theta\": [\"C124\"], \"type\": \"scatterpolar\"}, {\"hovertemplate\": \"Cabin=%{theta}<br>symbol=2<br>r=%{r}<br>size=%{marker.size}<extra></extra>\", \"legendgroup\": \"C125, 2\", \"marker\": {\"color\": \"#7201a8\", \"size\": [2], \"sizemode\": \"area\", \"sizeref\": 0.01, \"symbol\": \"diamond\"}, \"mode\": \"markers\", \"name\": \"C125, 2\", \"r\": [2], \"showlegend\": true, \"subplot\": \"polar\", \"theta\": [\"C125\"], \"type\": \"scatterpolar\"}, {\"hovertemplate\": \"Cabin=%{theta}<br>symbol=2<br>r=%{r}<br>size=%{marker.size}<extra></extra>\", \"legendgroup\": \"C126, 2\", \"marker\": {\"color\": \"#46039f\", \"size\": [2], \"sizemode\": \"area\", \"sizeref\": 0.01, \"symbol\": \"diamond\"}, \"mode\": \"markers\", \"name\": \"C126, 2\", \"r\": [2], \"showlegend\": true, \"subplot\": \"polar\", \"theta\": [\"C126\"], \"type\": \"scatterpolar\"}, {\"hovertemplate\": \"Cabin=%{theta}<br>symbol=1<br>r=%{r}<br>size=%{marker.size}<extra></extra>\", \"legendgroup\": \"C128, 1\", \"marker\": {\"color\": \"#0d0887\", \"size\": [1], \"sizemode\": \"area\", \"sizeref\": 0.01, \"symbol\": \"circle\"}, \"mode\": \"markers\", \"name\": \"C128, 1\", \"r\": [1], \"showlegend\": true, \"subplot\": \"polar\", \"theta\": [\"C128\"], \"type\": \"scatterpolar\"}, {\"hovertemplate\": \"Cabin=%{theta}<br>symbol=1<br>r=%{r}<br>size=%{marker.size}<extra></extra>\", \"legendgroup\": \"C148, 1\", \"marker\": {\"color\": \"#f0f921\", \"size\": [1], \"sizemode\": \"area\", \"sizeref\": 0.01, \"symbol\": \"circle\"}, \"mode\": \"markers\", \"name\": \"C148, 1\", \"r\": [1], \"showlegend\": true, \"subplot\": \"polar\", \"theta\": [\"C148\"], \"type\": \"scatterpolar\"}, {\"hovertemplate\": \"Cabin=%{theta}<br>symbol=2<br>r=%{r}<br>size=%{marker.size}<extra></extra>\", \"legendgroup\": \"C2, 2\", \"marker\": {\"color\": \"#fdca26\", \"size\": [2], \"sizemode\": \"area\", \"sizeref\": 0.01, \"symbol\": \"diamond\"}, \"mode\": \"markers\", \"name\": \"C2, 2\", \"r\": [2], \"showlegend\": true, \"subplot\": \"polar\", \"theta\": [\"C2\"], \"type\": \"scatterpolar\"}, {\"hovertemplate\": \"Cabin=%{theta}<br>symbol=3<br>r=%{r}<br>size=%{marker.size}<extra></extra>\", \"legendgroup\": \"C22 C26, 3\", \"marker\": {\"color\": \"#fb9f3a\", \"size\": [3], \"sizemode\": \"area\", \"sizeref\": 0.01, \"symbol\": \"x\"}, \"mode\": \"markers\", \"name\": \"C22 C26, 3\", \"r\": [3], \"showlegend\": true, \"subplot\": \"polar\", \"theta\": [\"C22 C26\"], \"type\": \"scatterpolar\"}, {\"hovertemplate\": \"Cabin=%{theta}<br>symbol=4<br>r=%{r}<br>size=%{marker.size}<extra></extra>\", \"legendgroup\": \"C23 C25 C27, 4\", \"marker\": {\"color\": \"#ed7953\", \"size\": [4], \"sizemode\": \"area\", \"sizeref\": 0.01, \"symbol\": \"square\"}, \"mode\": \"markers\", \"name\": \"C23 C25 C27, 4\", \"r\": [4], \"showlegend\": true, \"subplot\": \"polar\", \"theta\": [\"C23 C25 C27\"], \"type\": \"scatterpolar\"}, {\"hovertemplate\": \"Cabin=%{theta}<br>symbol=1<br>r=%{r}<br>size=%{marker.size}<extra></extra>\", \"legendgroup\": \"C30, 1\", \"marker\": {\"color\": \"#d8576b\", \"size\": [1], \"sizemode\": \"area\", \"sizeref\": 0.01, \"symbol\": \"circle\"}, \"mode\": \"markers\", \"name\": \"C30, 1\", \"r\": [1], \"showlegend\": true, \"subplot\": \"polar\", \"theta\": [\"C30\"], \"type\": \"scatterpolar\"}, {\"hovertemplate\": \"Cabin=%{theta}<br>symbol=1<br>r=%{r}<br>size=%{marker.size}<extra></extra>\", \"legendgroup\": \"C32, 1\", \"marker\": {\"color\": \"#bd3786\", \"size\": [1], \"sizemode\": \"area\", \"sizeref\": 0.01, \"symbol\": \"circle\"}, \"mode\": \"markers\", \"name\": \"C32, 1\", \"r\": [1], \"showlegend\": true, \"subplot\": \"polar\", \"theta\": [\"C32\"], \"type\": \"scatterpolar\"}, {\"hovertemplate\": \"Cabin=%{theta}<br>symbol=1<br>r=%{r}<br>size=%{marker.size}<extra></extra>\", \"legendgroup\": \"C45, 1\", \"marker\": {\"color\": \"#9c179e\", \"size\": [1], \"sizemode\": \"area\", \"sizeref\": 0.01, \"symbol\": \"circle\"}, \"mode\": \"markers\", \"name\": \"C45, 1\", \"r\": [1], \"showlegend\": true, \"subplot\": \"polar\", \"theta\": [\"C45\"], \"type\": \"scatterpolar\"}, {\"hovertemplate\": \"Cabin=%{theta}<br>symbol=1<br>r=%{r}<br>size=%{marker.size}<extra></extra>\", \"legendgroup\": \"C46, 1\", \"marker\": {\"color\": \"#7201a8\", \"size\": [1], \"sizemode\": \"area\", \"sizeref\": 0.01, \"symbol\": \"circle\"}, \"mode\": \"markers\", \"name\": \"C46, 1\", \"r\": [1], \"showlegend\": true, \"subplot\": \"polar\", \"theta\": [\"C46\"], \"type\": \"scatterpolar\"}, {\"hovertemplate\": \"Cabin=%{theta}<br>symbol=1<br>r=%{r}<br>size=%{marker.size}<extra></extra>\", \"legendgroup\": \"C47, 1\", \"marker\": {\"color\": \"#46039f\", \"size\": [1], \"sizemode\": \"area\", \"sizeref\": 0.01, \"symbol\": \"circle\"}, \"mode\": \"markers\", \"name\": \"C47, 1\", \"r\": [1], \"showlegend\": true, \"subplot\": \"polar\", \"theta\": [\"C47\"], \"type\": \"scatterpolar\"}, {\"hovertemplate\": \"Cabin=%{theta}<br>symbol=1<br>r=%{r}<br>size=%{marker.size}<extra></extra>\", \"legendgroup\": \"C49, 1\", \"marker\": {\"color\": \"#0d0887\", \"size\": [1], \"sizemode\": \"area\", \"sizeref\": 0.01, \"symbol\": \"circle\"}, \"mode\": \"markers\", \"name\": \"C49, 1\", \"r\": [1], \"showlegend\": true, \"subplot\": \"polar\", \"theta\": [\"C49\"], \"type\": \"scatterpolar\"}, {\"hovertemplate\": \"Cabin=%{theta}<br>symbol=1<br>r=%{r}<br>size=%{marker.size}<extra></extra>\", \"legendgroup\": \"C50, 1\", \"marker\": {\"color\": \"#f0f921\", \"size\": [1], \"sizemode\": \"area\", \"sizeref\": 0.01, \"symbol\": \"circle\"}, \"mode\": \"markers\", \"name\": \"C50, 1\", \"r\": [1], \"showlegend\": true, \"subplot\": \"polar\", \"theta\": [\"C50\"], \"type\": \"scatterpolar\"}, {\"hovertemplate\": \"Cabin=%{theta}<br>symbol=2<br>r=%{r}<br>size=%{marker.size}<extra></extra>\", \"legendgroup\": \"C52, 2\", \"marker\": {\"color\": \"#fdca26\", \"size\": [2], \"sizemode\": \"area\", \"sizeref\": 0.01, \"symbol\": \"diamond\"}, \"mode\": \"markers\", \"name\": \"C52, 2\", \"r\": [2], \"showlegend\": true, \"subplot\": \"polar\", \"theta\": [\"C52\"], \"type\": \"scatterpolar\"}, {\"hovertemplate\": \"Cabin=%{theta}<br>symbol=1<br>r=%{r}<br>size=%{marker.size}<extra></extra>\", \"legendgroup\": \"C54, 1\", \"marker\": {\"color\": \"#fb9f3a\", \"size\": [1], \"sizemode\": \"area\", \"sizeref\": 0.01, \"symbol\": \"circle\"}, \"mode\": \"markers\", \"name\": \"C54, 1\", \"r\": [1], \"showlegend\": true, \"subplot\": \"polar\", \"theta\": [\"C54\"], \"type\": \"scatterpolar\"}, {\"hovertemplate\": \"Cabin=%{theta}<br>symbol=1<br>r=%{r}<br>size=%{marker.size}<extra></extra>\", \"legendgroup\": \"C62 C64, 1\", \"marker\": {\"color\": \"#ed7953\", \"size\": [1], \"sizemode\": \"area\", \"sizeref\": 0.01, \"symbol\": \"circle\"}, \"mode\": \"markers\", \"name\": \"C62 C64, 1\", \"r\": [1], \"showlegend\": true, \"subplot\": \"polar\", \"theta\": [\"C62 C64\"], \"type\": \"scatterpolar\"}, {\"hovertemplate\": \"Cabin=%{theta}<br>symbol=2<br>r=%{r}<br>size=%{marker.size}<extra></extra>\", \"legendgroup\": \"C65, 2\", \"marker\": {\"color\": \"#d8576b\", \"size\": [2], \"sizemode\": \"area\", \"sizeref\": 0.01, \"symbol\": \"diamond\"}, \"mode\": \"markers\", \"name\": \"C65, 2\", \"r\": [2], \"showlegend\": true, \"subplot\": \"polar\", \"theta\": [\"C65\"], \"type\": \"scatterpolar\"}, {\"hovertemplate\": \"Cabin=%{theta}<br>symbol=2<br>r=%{r}<br>size=%{marker.size}<extra></extra>\", \"legendgroup\": \"C68, 2\", \"marker\": {\"color\": \"#bd3786\", \"size\": [2], \"sizemode\": \"area\", \"sizeref\": 0.01, \"symbol\": \"diamond\"}, \"mode\": \"markers\", \"name\": \"C68, 2\", \"r\": [2], \"showlegend\": true, \"subplot\": \"polar\", \"theta\": [\"C68\"], \"type\": \"scatterpolar\"}, {\"hovertemplate\": \"Cabin=%{theta}<br>symbol=1<br>r=%{r}<br>size=%{marker.size}<extra></extra>\", \"legendgroup\": \"C7, 1\", \"marker\": {\"color\": \"#9c179e\", \"size\": [1], \"sizemode\": \"area\", \"sizeref\": 0.01, \"symbol\": \"circle\"}, \"mode\": \"markers\", \"name\": \"C7, 1\", \"r\": [1], \"showlegend\": true, \"subplot\": \"polar\", \"theta\": [\"C7\"], \"type\": \"scatterpolar\"}, {\"hovertemplate\": \"Cabin=%{theta}<br>symbol=1<br>r=%{r}<br>size=%{marker.size}<extra></extra>\", \"legendgroup\": \"C70, 1\", \"marker\": {\"color\": \"#7201a8\", \"size\": [1], \"sizemode\": \"area\", \"sizeref\": 0.01, \"symbol\": \"circle\"}, \"mode\": \"markers\", \"name\": \"C70, 1\", \"r\": [1], \"showlegend\": true, \"subplot\": \"polar\", \"theta\": [\"C70\"], \"type\": \"scatterpolar\"}, {\"hovertemplate\": \"Cabin=%{theta}<br>symbol=2<br>r=%{r}<br>size=%{marker.size}<extra></extra>\", \"legendgroup\": \"C78, 2\", \"marker\": {\"color\": \"#46039f\", \"size\": [2], \"sizemode\": \"area\", \"sizeref\": 0.01, \"symbol\": \"diamond\"}, \"mode\": \"markers\", \"name\": \"C78, 2\", \"r\": [2], \"showlegend\": true, \"subplot\": \"polar\", \"theta\": [\"C78\"], \"type\": \"scatterpolar\"}, {\"hovertemplate\": \"Cabin=%{theta}<br>symbol=1<br>r=%{r}<br>size=%{marker.size}<extra></extra>\", \"legendgroup\": \"C82, 1\", \"marker\": {\"color\": \"#0d0887\", \"size\": [1], \"sizemode\": \"area\", \"sizeref\": 0.01, \"symbol\": \"circle\"}, \"mode\": \"markers\", \"name\": \"C82, 1\", \"r\": [1], \"showlegend\": true, \"subplot\": \"polar\", \"theta\": [\"C82\"], \"type\": \"scatterpolar\"}, {\"hovertemplate\": \"Cabin=%{theta}<br>symbol=2<br>r=%{r}<br>size=%{marker.size}<extra></extra>\", \"legendgroup\": \"C83, 2\", \"marker\": {\"color\": \"#f0f921\", \"size\": [2], \"sizemode\": \"area\", \"sizeref\": 0.01, \"symbol\": \"diamond\"}, \"mode\": \"markers\", \"name\": \"C83, 2\", \"r\": [2], \"showlegend\": true, \"subplot\": \"polar\", \"theta\": [\"C83\"], \"type\": \"scatterpolar\"}, {\"hovertemplate\": \"Cabin=%{theta}<br>symbol=1<br>r=%{r}<br>size=%{marker.size}<extra></extra>\", \"legendgroup\": \"C85, 1\", \"marker\": {\"color\": \"#fdca26\", \"size\": [1], \"sizemode\": \"area\", \"sizeref\": 0.01, \"symbol\": \"circle\"}, \"mode\": \"markers\", \"name\": \"C85, 1\", \"r\": [1], \"showlegend\": true, \"subplot\": \"polar\", \"theta\": [\"C85\"], \"type\": \"scatterpolar\"}, {\"hovertemplate\": \"Cabin=%{theta}<br>symbol=1<br>r=%{r}<br>size=%{marker.size}<extra></extra>\", \"legendgroup\": \"C86, 1\", \"marker\": {\"color\": \"#fb9f3a\", \"size\": [1], \"sizemode\": \"area\", \"sizeref\": 0.01, \"symbol\": \"circle\"}, \"mode\": \"markers\", \"name\": \"C86, 1\", \"r\": [1], \"showlegend\": true, \"subplot\": \"polar\", \"theta\": [\"C86\"], \"type\": \"scatterpolar\"}, {\"hovertemplate\": \"Cabin=%{theta}<br>symbol=1<br>r=%{r}<br>size=%{marker.size}<extra></extra>\", \"legendgroup\": \"C87, 1\", \"marker\": {\"color\": \"#ed7953\", \"size\": [1], \"sizemode\": \"area\", \"sizeref\": 0.01, \"symbol\": \"circle\"}, \"mode\": \"markers\", \"name\": \"C87, 1\", \"r\": [1], \"showlegend\": true, \"subplot\": \"polar\", \"theta\": [\"C87\"], \"type\": \"scatterpolar\"}, {\"hovertemplate\": \"Cabin=%{theta}<br>symbol=1<br>r=%{r}<br>size=%{marker.size}<extra></extra>\", \"legendgroup\": \"C90, 1\", \"marker\": {\"color\": \"#d8576b\", \"size\": [1], \"sizemode\": \"area\", \"sizeref\": 0.01, \"symbol\": \"circle\"}, \"mode\": \"markers\", \"name\": \"C90, 1\", \"r\": [1], \"showlegend\": true, \"subplot\": \"polar\", \"theta\": [\"C90\"], \"type\": \"scatterpolar\"}, {\"hovertemplate\": \"Cabin=%{theta}<br>symbol=1<br>r=%{r}<br>size=%{marker.size}<extra></extra>\", \"legendgroup\": \"C91, 1\", \"marker\": {\"color\": \"#bd3786\", \"size\": [1], \"sizemode\": \"area\", \"sizeref\": 0.01, \"symbol\": \"circle\"}, \"mode\": \"markers\", \"name\": \"C91, 1\", \"r\": [1], \"showlegend\": true, \"subplot\": \"polar\", \"theta\": [\"C91\"], \"type\": \"scatterpolar\"}, {\"hovertemplate\": \"Cabin=%{theta}<br>symbol=2<br>r=%{r}<br>size=%{marker.size}<extra></extra>\", \"legendgroup\": \"C92, 2\", \"marker\": {\"color\": \"#9c179e\", \"size\": [2], \"sizemode\": \"area\", \"sizeref\": 0.01, \"symbol\": \"diamond\"}, \"mode\": \"markers\", \"name\": \"C92, 2\", \"r\": [2], \"showlegend\": true, \"subplot\": \"polar\", \"theta\": [\"C92\"], \"type\": \"scatterpolar\"}, {\"hovertemplate\": \"Cabin=%{theta}<br>symbol=2<br>r=%{r}<br>size=%{marker.size}<extra></extra>\", \"legendgroup\": \"C93, 2\", \"marker\": {\"color\": \"#7201a8\", \"size\": [2], \"sizemode\": \"area\", \"sizeref\": 0.01, \"symbol\": \"diamond\"}, \"mode\": \"markers\", \"name\": \"C93, 2\", \"r\": [2], \"showlegend\": true, \"subplot\": \"polar\", \"theta\": [\"C93\"], \"type\": \"scatterpolar\"}, {\"hovertemplate\": \"Cabin=%{theta}<br>symbol=1<br>r=%{r}<br>size=%{marker.size}<extra></extra>\", \"legendgroup\": \"C95, 1\", \"marker\": {\"color\": \"#46039f\", \"size\": [1], \"sizemode\": \"area\", \"sizeref\": 0.01, \"symbol\": \"circle\"}, \"mode\": \"markers\", \"name\": \"C95, 1\", \"r\": [1], \"showlegend\": true, \"subplot\": \"polar\", \"theta\": [\"C95\"], \"type\": \"scatterpolar\"}, {\"hovertemplate\": \"Cabin=%{theta}<br>symbol=1<br>r=%{r}<br>size=%{marker.size}<extra></extra>\", \"legendgroup\": \"C99, 1\", \"marker\": {\"color\": \"#0d0887\", \"size\": [1], \"sizemode\": \"area\", \"sizeref\": 0.01, \"symbol\": \"circle\"}, \"mode\": \"markers\", \"name\": \"C99, 1\", \"r\": [1], \"showlegend\": true, \"subplot\": \"polar\", \"theta\": [\"C99\"], \"type\": \"scatterpolar\"}, {\"hovertemplate\": \"Cabin=%{theta}<br>symbol=3<br>r=%{r}<br>size=%{marker.size}<extra></extra>\", \"legendgroup\": \"D, 3\", \"marker\": {\"color\": \"#f0f921\", \"size\": [3], \"sizemode\": \"area\", \"sizeref\": 0.01, \"symbol\": \"x\"}, \"mode\": \"markers\", \"name\": \"D, 3\", \"r\": [3], \"showlegend\": true, \"subplot\": \"polar\", \"theta\": [\"D\"], \"type\": \"scatterpolar\"}, {\"hovertemplate\": \"Cabin=%{theta}<br>symbol=1<br>r=%{r}<br>size=%{marker.size}<extra></extra>\", \"legendgroup\": \"D10 D12, 1\", \"marker\": {\"color\": \"#fdca26\", \"size\": [1], \"sizemode\": \"area\", \"sizeref\": 0.01, \"symbol\": \"circle\"}, \"mode\": \"markers\", \"name\": \"D10 D12, 1\", \"r\": [1], \"showlegend\": true, \"subplot\": \"polar\", \"theta\": [\"D10 D12\"], \"type\": \"scatterpolar\"}, {\"hovertemplate\": \"Cabin=%{theta}<br>symbol=1<br>r=%{r}<br>size=%{marker.size}<extra></extra>\", \"legendgroup\": \"D11, 1\", \"marker\": {\"color\": \"#fb9f3a\", \"size\": [1], \"sizemode\": \"area\", \"sizeref\": 0.01, \"symbol\": \"circle\"}, \"mode\": \"markers\", \"name\": \"D11, 1\", \"r\": [1], \"showlegend\": true, \"subplot\": \"polar\", \"theta\": [\"D11\"], \"type\": \"scatterpolar\"}, {\"hovertemplate\": \"Cabin=%{theta}<br>symbol=1<br>r=%{r}<br>size=%{marker.size}<extra></extra>\", \"legendgroup\": \"D15, 1\", \"marker\": {\"color\": \"#ed7953\", \"size\": [1], \"sizemode\": \"area\", \"sizeref\": 0.01, \"symbol\": \"circle\"}, \"mode\": \"markers\", \"name\": \"D15, 1\", \"r\": [1], \"showlegend\": true, \"subplot\": \"polar\", \"theta\": [\"D15\"], \"type\": \"scatterpolar\"}, {\"hovertemplate\": \"Cabin=%{theta}<br>symbol=2<br>r=%{r}<br>size=%{marker.size}<extra></extra>\", \"legendgroup\": \"D17, 2\", \"marker\": {\"color\": \"#d8576b\", \"size\": [2], \"sizemode\": \"area\", \"sizeref\": 0.01, \"symbol\": \"diamond\"}, \"mode\": \"markers\", \"name\": \"D17, 2\", \"r\": [2], \"showlegend\": true, \"subplot\": \"polar\", \"theta\": [\"D17\"], \"type\": \"scatterpolar\"}, {\"hovertemplate\": \"Cabin=%{theta}<br>symbol=1<br>r=%{r}<br>size=%{marker.size}<extra></extra>\", \"legendgroup\": \"D19, 1\", \"marker\": {\"color\": \"#bd3786\", \"size\": [1], \"sizemode\": \"area\", \"sizeref\": 0.01, \"symbol\": \"circle\"}, \"mode\": \"markers\", \"name\": \"D19, 1\", \"r\": [1], \"showlegend\": true, \"subplot\": \"polar\", \"theta\": [\"D19\"], \"type\": \"scatterpolar\"}, {\"hovertemplate\": \"Cabin=%{theta}<br>symbol=2<br>r=%{r}<br>size=%{marker.size}<extra></extra>\", \"legendgroup\": \"D20, 2\", \"marker\": {\"color\": \"#9c179e\", \"size\": [2], \"sizemode\": \"area\", \"sizeref\": 0.01, \"symbol\": \"diamond\"}, \"mode\": \"markers\", \"name\": \"D20, 2\", \"r\": [2], \"showlegend\": true, \"subplot\": \"polar\", \"theta\": [\"D20\"], \"type\": \"scatterpolar\"}, {\"hovertemplate\": \"Cabin=%{theta}<br>symbol=1<br>r=%{r}<br>size=%{marker.size}<extra></extra>\", \"legendgroup\": \"D21, 1\", \"marker\": {\"color\": \"#7201a8\", \"size\": [1], \"sizemode\": \"area\", \"sizeref\": 0.01, \"symbol\": \"circle\"}, \"mode\": \"markers\", \"name\": \"D21, 1\", \"r\": [1], \"showlegend\": true, \"subplot\": \"polar\", \"theta\": [\"D21\"], \"type\": \"scatterpolar\"}, {\"hovertemplate\": \"Cabin=%{theta}<br>symbol=2<br>r=%{r}<br>size=%{marker.size}<extra></extra>\", \"legendgroup\": \"D26, 2\", \"marker\": {\"color\": \"#46039f\", \"size\": [2], \"sizemode\": \"area\", \"sizeref\": 0.01, \"symbol\": \"diamond\"}, \"mode\": \"markers\", \"name\": \"D26, 2\", \"r\": [2], \"showlegend\": true, \"subplot\": \"polar\", \"theta\": [\"D26\"], \"type\": \"scatterpolar\"}, {\"hovertemplate\": \"Cabin=%{theta}<br>symbol=1<br>r=%{r}<br>size=%{marker.size}<extra></extra>\", \"legendgroup\": \"D28, 1\", \"marker\": {\"color\": \"#0d0887\", \"size\": [1], \"sizemode\": \"area\", \"sizeref\": 0.01, \"symbol\": \"circle\"}, \"mode\": \"markers\", \"name\": \"D28, 1\", \"r\": [1], \"showlegend\": true, \"subplot\": \"polar\", \"theta\": [\"D28\"], \"type\": \"scatterpolar\"}, {\"hovertemplate\": \"Cabin=%{theta}<br>symbol=1<br>r=%{r}<br>size=%{marker.size}<extra></extra>\", \"legendgroup\": \"D30, 1\", \"marker\": {\"color\": \"#f0f921\", \"size\": [1], \"sizemode\": \"area\", \"sizeref\": 0.01, \"symbol\": \"circle\"}, \"mode\": \"markers\", \"name\": \"D30, 1\", \"r\": [1], \"showlegend\": true, \"subplot\": \"polar\", \"theta\": [\"D30\"], \"type\": \"scatterpolar\"}, {\"hovertemplate\": \"Cabin=%{theta}<br>symbol=2<br>r=%{r}<br>size=%{marker.size}<extra></extra>\", \"legendgroup\": \"D33, 2\", \"marker\": {\"color\": \"#fdca26\", \"size\": [2], \"sizemode\": \"area\", \"sizeref\": 0.01, \"symbol\": \"diamond\"}, \"mode\": \"markers\", \"name\": \"D33, 2\", \"r\": [2], \"showlegend\": true, \"subplot\": \"polar\", \"theta\": [\"D33\"], \"type\": \"scatterpolar\"}, {\"hovertemplate\": \"Cabin=%{theta}<br>symbol=2<br>r=%{r}<br>size=%{marker.size}<extra></extra>\", \"legendgroup\": \"D35, 2\", \"marker\": {\"color\": \"#fb9f3a\", \"size\": [2], \"sizemode\": \"area\", \"sizeref\": 0.01, \"symbol\": \"diamond\"}, \"mode\": \"markers\", \"name\": \"D35, 2\", \"r\": [2], \"showlegend\": true, \"subplot\": \"polar\", \"theta\": [\"D35\"], \"type\": \"scatterpolar\"}, {\"hovertemplate\": \"Cabin=%{theta}<br>symbol=2<br>r=%{r}<br>size=%{marker.size}<extra></extra>\", \"legendgroup\": \"D36, 2\", \"marker\": {\"color\": \"#ed7953\", \"size\": [2], \"sizemode\": \"area\", \"sizeref\": 0.01, \"symbol\": \"diamond\"}, \"mode\": \"markers\", \"name\": \"D36, 2\", \"r\": [2], \"showlegend\": true, \"subplot\": \"polar\", \"theta\": [\"D36\"], \"type\": \"scatterpolar\"}, {\"hovertemplate\": \"Cabin=%{theta}<br>symbol=1<br>r=%{r}<br>size=%{marker.size}<extra></extra>\", \"legendgroup\": \"D37, 1\", \"marker\": {\"color\": \"#d8576b\", \"size\": [1], \"sizemode\": \"area\", \"sizeref\": 0.01, \"symbol\": \"circle\"}, \"mode\": \"markers\", \"name\": \"D37, 1\", \"r\": [1], \"showlegend\": true, \"subplot\": \"polar\", \"theta\": [\"D37\"], \"type\": \"scatterpolar\"}, {\"hovertemplate\": \"Cabin=%{theta}<br>symbol=1<br>r=%{r}<br>size=%{marker.size}<extra></extra>\", \"legendgroup\": \"D45, 1\", \"marker\": {\"color\": \"#bd3786\", \"size\": [1], \"sizemode\": \"area\", \"sizeref\": 0.01, \"symbol\": \"circle\"}, \"mode\": \"markers\", \"name\": \"D45, 1\", \"r\": [1], \"showlegend\": true, \"subplot\": \"polar\", \"theta\": [\"D45\"], \"type\": \"scatterpolar\"}, {\"hovertemplate\": \"Cabin=%{theta}<br>symbol=1<br>r=%{r}<br>size=%{marker.size}<extra></extra>\", \"legendgroup\": \"D46, 1\", \"marker\": {\"color\": \"#9c179e\", \"size\": [1], \"sizemode\": \"area\", \"sizeref\": 0.01, \"symbol\": \"circle\"}, \"mode\": \"markers\", \"name\": \"D46, 1\", \"r\": [1], \"showlegend\": true, \"subplot\": \"polar\", \"theta\": [\"D46\"], \"type\": \"scatterpolar\"}, {\"hovertemplate\": \"Cabin=%{theta}<br>symbol=1<br>r=%{r}<br>size=%{marker.size}<extra></extra>\", \"legendgroup\": \"D47, 1\", \"marker\": {\"color\": \"#7201a8\", \"size\": [1], \"sizemode\": \"area\", \"sizeref\": 0.01, \"symbol\": \"circle\"}, \"mode\": \"markers\", \"name\": \"D47, 1\", \"r\": [1], \"showlegend\": true, \"subplot\": \"polar\", \"theta\": [\"D47\"], \"type\": \"scatterpolar\"}, {\"hovertemplate\": \"Cabin=%{theta}<br>symbol=1<br>r=%{r}<br>size=%{marker.size}<extra></extra>\", \"legendgroup\": \"D48, 1\", \"marker\": {\"color\": \"#46039f\", \"size\": [1], \"sizemode\": \"area\", \"sizeref\": 0.01, \"symbol\": \"circle\"}, \"mode\": \"markers\", \"name\": \"D48, 1\", \"r\": [1], \"showlegend\": true, \"subplot\": \"polar\", \"theta\": [\"D48\"], \"type\": \"scatterpolar\"}, {\"hovertemplate\": \"Cabin=%{theta}<br>symbol=1<br>r=%{r}<br>size=%{marker.size}<extra></extra>\", \"legendgroup\": \"D49, 1\", \"marker\": {\"color\": \"#0d0887\", \"size\": [1], \"sizemode\": \"area\", \"sizeref\": 0.01, \"symbol\": \"circle\"}, \"mode\": \"markers\", \"name\": \"D49, 1\", \"r\": [1], \"showlegend\": true, \"subplot\": \"polar\", \"theta\": [\"D49\"], \"type\": \"scatterpolar\"}, {\"hovertemplate\": \"Cabin=%{theta}<br>symbol=1<br>r=%{r}<br>size=%{marker.size}<extra></extra>\", \"legendgroup\": \"D50, 1\", \"marker\": {\"color\": \"#f0f921\", \"size\": [1], \"sizemode\": \"area\", \"sizeref\": 0.01, \"symbol\": \"circle\"}, \"mode\": \"markers\", \"name\": \"D50, 1\", \"r\": [1], \"showlegend\": true, \"subplot\": \"polar\", \"theta\": [\"D50\"], \"type\": \"scatterpolar\"}, {\"hovertemplate\": \"Cabin=%{theta}<br>symbol=1<br>r=%{r}<br>size=%{marker.size}<extra></extra>\", \"legendgroup\": \"D56, 1\", \"marker\": {\"color\": \"#fdca26\", \"size\": [1], \"sizemode\": \"area\", \"sizeref\": 0.01, \"symbol\": \"circle\"}, \"mode\": \"markers\", \"name\": \"D56, 1\", \"r\": [1], \"showlegend\": true, \"subplot\": \"polar\", \"theta\": [\"D56\"], \"type\": \"scatterpolar\"}, {\"hovertemplate\": \"Cabin=%{theta}<br>symbol=1<br>r=%{r}<br>size=%{marker.size}<extra></extra>\", \"legendgroup\": \"D6, 1\", \"marker\": {\"color\": \"#fb9f3a\", \"size\": [1], \"sizemode\": \"area\", \"sizeref\": 0.01, \"symbol\": \"circle\"}, \"mode\": \"markers\", \"name\": \"D6, 1\", \"r\": [1], \"showlegend\": true, \"subplot\": \"polar\", \"theta\": [\"D6\"], \"type\": \"scatterpolar\"}, {\"hovertemplate\": \"Cabin=%{theta}<br>symbol=1<br>r=%{r}<br>size=%{marker.size}<extra></extra>\", \"legendgroup\": \"D7, 1\", \"marker\": {\"color\": \"#ed7953\", \"size\": [1], \"sizemode\": \"area\", \"sizeref\": 0.01, \"symbol\": \"circle\"}, \"mode\": \"markers\", \"name\": \"D7, 1\", \"r\": [1], \"showlegend\": true, \"subplot\": \"polar\", \"theta\": [\"D7\"], \"type\": \"scatterpolar\"}, {\"hovertemplate\": \"Cabin=%{theta}<br>symbol=1<br>r=%{r}<br>size=%{marker.size}<extra></extra>\", \"legendgroup\": \"D9, 1\", \"marker\": {\"color\": \"#d8576b\", \"size\": [1], \"sizemode\": \"area\", \"sizeref\": 0.01, \"symbol\": \"circle\"}, \"mode\": \"markers\", \"name\": \"D9, 1\", \"r\": [1], \"showlegend\": true, \"subplot\": \"polar\", \"theta\": [\"D9\"], \"type\": \"scatterpolar\"}, {\"hovertemplate\": \"Cabin=%{theta}<br>symbol=1<br>r=%{r}<br>size=%{marker.size}<extra></extra>\", \"legendgroup\": \"E10, 1\", \"marker\": {\"color\": \"#bd3786\", \"size\": [1], \"sizemode\": \"area\", \"sizeref\": 0.01, \"symbol\": \"circle\"}, \"mode\": \"markers\", \"name\": \"E10, 1\", \"r\": [1], \"showlegend\": true, \"subplot\": \"polar\", \"theta\": [\"E10\"], \"type\": \"scatterpolar\"}, {\"hovertemplate\": \"Cabin=%{theta}<br>symbol=3<br>r=%{r}<br>size=%{marker.size}<extra></extra>\", \"legendgroup\": \"E101, 3\", \"marker\": {\"color\": \"#9c179e\", \"size\": [3], \"sizemode\": \"area\", \"sizeref\": 0.01, \"symbol\": \"x\"}, \"mode\": \"markers\", \"name\": \"E101, 3\", \"r\": [3], \"showlegend\": true, \"subplot\": \"polar\", \"theta\": [\"E101\"], \"type\": \"scatterpolar\"}, {\"hovertemplate\": \"Cabin=%{theta}<br>symbol=1<br>r=%{r}<br>size=%{marker.size}<extra></extra>\", \"legendgroup\": \"E12, 1\", \"marker\": {\"color\": \"#7201a8\", \"size\": [1], \"sizemode\": \"area\", \"sizeref\": 0.01, \"symbol\": \"circle\"}, \"mode\": \"markers\", \"name\": \"E12, 1\", \"r\": [1], \"showlegend\": true, \"subplot\": \"polar\", \"theta\": [\"E12\"], \"type\": \"scatterpolar\"}, {\"hovertemplate\": \"Cabin=%{theta}<br>symbol=2<br>r=%{r}<br>size=%{marker.size}<extra></extra>\", \"legendgroup\": \"E121, 2\", \"marker\": {\"color\": \"#46039f\", \"size\": [2], \"sizemode\": \"area\", \"sizeref\": 0.01, \"symbol\": \"diamond\"}, \"mode\": \"markers\", \"name\": \"E121, 2\", \"r\": [2], \"showlegend\": true, \"subplot\": \"polar\", \"theta\": [\"E121\"], \"type\": \"scatterpolar\"}, {\"hovertemplate\": \"Cabin=%{theta}<br>symbol=1<br>r=%{r}<br>size=%{marker.size}<extra></extra>\", \"legendgroup\": \"E17, 1\", \"marker\": {\"color\": \"#0d0887\", \"size\": [1], \"sizemode\": \"area\", \"sizeref\": 0.01, \"symbol\": \"circle\"}, \"mode\": \"markers\", \"name\": \"E17, 1\", \"r\": [1], \"showlegend\": true, \"subplot\": \"polar\", \"theta\": [\"E17\"], \"type\": \"scatterpolar\"}, {\"hovertemplate\": \"Cabin=%{theta}<br>symbol=2<br>r=%{r}<br>size=%{marker.size}<extra></extra>\", \"legendgroup\": \"E24, 2\", \"marker\": {\"color\": \"#f0f921\", \"size\": [2], \"sizemode\": \"area\", \"sizeref\": 0.01, \"symbol\": \"diamond\"}, \"mode\": \"markers\", \"name\": \"E24, 2\", \"r\": [2], \"showlegend\": true, \"subplot\": \"polar\", \"theta\": [\"E24\"], \"type\": \"scatterpolar\"}, {\"hovertemplate\": \"Cabin=%{theta}<br>symbol=2<br>r=%{r}<br>size=%{marker.size}<extra></extra>\", \"legendgroup\": \"E25, 2\", \"marker\": {\"color\": \"#fdca26\", \"size\": [2], \"sizemode\": \"area\", \"sizeref\": 0.01, \"symbol\": \"diamond\"}, \"mode\": \"markers\", \"name\": \"E25, 2\", \"r\": [2], \"showlegend\": true, \"subplot\": \"polar\", \"theta\": [\"E25\"], \"type\": \"scatterpolar\"}, {\"hovertemplate\": \"Cabin=%{theta}<br>symbol=1<br>r=%{r}<br>size=%{marker.size}<extra></extra>\", \"legendgroup\": \"E31, 1\", \"marker\": {\"color\": \"#fb9f3a\", \"size\": [1], \"sizemode\": \"area\", \"sizeref\": 0.01, \"symbol\": \"circle\"}, \"mode\": \"markers\", \"name\": \"E31, 1\", \"r\": [1], \"showlegend\": true, \"subplot\": \"polar\", \"theta\": [\"E31\"], \"type\": \"scatterpolar\"}, {\"hovertemplate\": \"Cabin=%{theta}<br>symbol=2<br>r=%{r}<br>size=%{marker.size}<extra></extra>\", \"legendgroup\": \"E33, 2\", \"marker\": {\"color\": \"#ed7953\", \"size\": [2], \"sizemode\": \"area\", \"sizeref\": 0.01, \"symbol\": \"diamond\"}, \"mode\": \"markers\", \"name\": \"E33, 2\", \"r\": [2], \"showlegend\": true, \"subplot\": \"polar\", \"theta\": [\"E33\"], \"type\": \"scatterpolar\"}, {\"hovertemplate\": \"Cabin=%{theta}<br>symbol=1<br>r=%{r}<br>size=%{marker.size}<extra></extra>\", \"legendgroup\": \"E34, 1\", \"marker\": {\"color\": \"#d8576b\", \"size\": [1], \"sizemode\": \"area\", \"sizeref\": 0.01, \"symbol\": \"circle\"}, \"mode\": \"markers\", \"name\": \"E34, 1\", \"r\": [1], \"showlegend\": true, \"subplot\": \"polar\", \"theta\": [\"E34\"], \"type\": \"scatterpolar\"}, {\"hovertemplate\": \"Cabin=%{theta}<br>symbol=1<br>r=%{r}<br>size=%{marker.size}<extra></extra>\", \"legendgroup\": \"E36, 1\", \"marker\": {\"color\": \"#bd3786\", \"size\": [1], \"sizemode\": \"area\", \"sizeref\": 0.01, \"symbol\": \"circle\"}, \"mode\": \"markers\", \"name\": \"E36, 1\", \"r\": [1], \"showlegend\": true, \"subplot\": \"polar\", \"theta\": [\"E36\"], \"type\": \"scatterpolar\"}, {\"hovertemplate\": \"Cabin=%{theta}<br>symbol=1<br>r=%{r}<br>size=%{marker.size}<extra></extra>\", \"legendgroup\": \"E38, 1\", \"marker\": {\"color\": \"#9c179e\", \"size\": [1], \"sizemode\": \"area\", \"sizeref\": 0.01, \"symbol\": \"circle\"}, \"mode\": \"markers\", \"name\": \"E38, 1\", \"r\": [1], \"showlegend\": true, \"subplot\": \"polar\", \"theta\": [\"E38\"], \"type\": \"scatterpolar\"}, {\"hovertemplate\": \"Cabin=%{theta}<br>symbol=1<br>r=%{r}<br>size=%{marker.size}<extra></extra>\", \"legendgroup\": \"E40, 1\", \"marker\": {\"color\": \"#7201a8\", \"size\": [1], \"sizemode\": \"area\", \"sizeref\": 0.01, \"symbol\": \"circle\"}, \"mode\": \"markers\", \"name\": \"E40, 1\", \"r\": [1], \"showlegend\": true, \"subplot\": \"polar\", \"theta\": [\"E40\"], \"type\": \"scatterpolar\"}, {\"hovertemplate\": \"Cabin=%{theta}<br>symbol=2<br>r=%{r}<br>size=%{marker.size}<extra></extra>\", \"legendgroup\": \"E44, 2\", \"marker\": {\"color\": \"#46039f\", \"size\": [2], \"sizemode\": \"area\", \"sizeref\": 0.01, \"symbol\": \"diamond\"}, \"mode\": \"markers\", \"name\": \"E44, 2\", \"r\": [2], \"showlegend\": true, \"subplot\": \"polar\", \"theta\": [\"E44\"], \"type\": \"scatterpolar\"}, {\"hovertemplate\": \"Cabin=%{theta}<br>symbol=1<br>r=%{r}<br>size=%{marker.size}<extra></extra>\", \"legendgroup\": \"E46, 1\", \"marker\": {\"color\": \"#0d0887\", \"size\": [1], \"sizemode\": \"area\", \"sizeref\": 0.01, \"symbol\": \"circle\"}, \"mode\": \"markers\", \"name\": \"E46, 1\", \"r\": [1], \"showlegend\": true, \"subplot\": \"polar\", \"theta\": [\"E46\"], \"type\": \"scatterpolar\"}, {\"hovertemplate\": \"Cabin=%{theta}<br>symbol=1<br>r=%{r}<br>size=%{marker.size}<extra></extra>\", \"legendgroup\": \"E49, 1\", \"marker\": {\"color\": \"#f0f921\", \"size\": [1], \"sizemode\": \"area\", \"sizeref\": 0.01, \"symbol\": \"circle\"}, \"mode\": \"markers\", \"name\": \"E49, 1\", \"r\": [1], \"showlegend\": true, \"subplot\": \"polar\", \"theta\": [\"E49\"], \"type\": \"scatterpolar\"}, {\"hovertemplate\": \"Cabin=%{theta}<br>symbol=1<br>r=%{r}<br>size=%{marker.size}<extra></extra>\", \"legendgroup\": \"E50, 1\", \"marker\": {\"color\": \"#fdca26\", \"size\": [1], \"sizemode\": \"area\", \"sizeref\": 0.01, \"symbol\": \"circle\"}, \"mode\": \"markers\", \"name\": \"E50, 1\", \"r\": [1], \"showlegend\": true, \"subplot\": \"polar\", \"theta\": [\"E50\"], \"type\": \"scatterpolar\"}, {\"hovertemplate\": \"Cabin=%{theta}<br>symbol=1<br>r=%{r}<br>size=%{marker.size}<extra></extra>\", \"legendgroup\": \"E58, 1\", \"marker\": {\"color\": \"#fb9f3a\", \"size\": [1], \"sizemode\": \"area\", \"sizeref\": 0.01, \"symbol\": \"circle\"}, \"mode\": \"markers\", \"name\": \"E58, 1\", \"r\": [1], \"showlegend\": true, \"subplot\": \"polar\", \"theta\": [\"E58\"], \"type\": \"scatterpolar\"}, {\"hovertemplate\": \"Cabin=%{theta}<br>symbol=1<br>r=%{r}<br>size=%{marker.size}<extra></extra>\", \"legendgroup\": \"E63, 1\", \"marker\": {\"color\": \"#ed7953\", \"size\": [1], \"sizemode\": \"area\", \"sizeref\": 0.01, \"symbol\": \"circle\"}, \"mode\": \"markers\", \"name\": \"E63, 1\", \"r\": [1], \"showlegend\": true, \"subplot\": \"polar\", \"theta\": [\"E63\"], \"type\": \"scatterpolar\"}, {\"hovertemplate\": \"Cabin=%{theta}<br>symbol=2<br>r=%{r}<br>size=%{marker.size}<extra></extra>\", \"legendgroup\": \"E67, 2\", \"marker\": {\"color\": \"#d8576b\", \"size\": [2], \"sizemode\": \"area\", \"sizeref\": 0.01, \"symbol\": \"diamond\"}, \"mode\": \"markers\", \"name\": \"E67, 2\", \"r\": [2], \"showlegend\": true, \"subplot\": \"polar\", \"theta\": [\"E67\"], \"type\": \"scatterpolar\"}, {\"hovertemplate\": \"Cabin=%{theta}<br>symbol=1<br>r=%{r}<br>size=%{marker.size}<extra></extra>\", \"legendgroup\": \"E68, 1\", \"marker\": {\"color\": \"#bd3786\", \"size\": [1], \"sizemode\": \"area\", \"sizeref\": 0.01, \"symbol\": \"circle\"}, \"mode\": \"markers\", \"name\": \"E68, 1\", \"r\": [1], \"showlegend\": true, \"subplot\": \"polar\", \"theta\": [\"E68\"], \"type\": \"scatterpolar\"}, {\"hovertemplate\": \"Cabin=%{theta}<br>symbol=1<br>r=%{r}<br>size=%{marker.size}<extra></extra>\", \"legendgroup\": \"E77, 1\", \"marker\": {\"color\": \"#9c179e\", \"size\": [1], \"sizemode\": \"area\", \"sizeref\": 0.01, \"symbol\": \"circle\"}, \"mode\": \"markers\", \"name\": \"E77, 1\", \"r\": [1], \"showlegend\": true, \"subplot\": \"polar\", \"theta\": [\"E77\"], \"type\": \"scatterpolar\"}, {\"hovertemplate\": \"Cabin=%{theta}<br>symbol=2<br>r=%{r}<br>size=%{marker.size}<extra></extra>\", \"legendgroup\": \"E8, 2\", \"marker\": {\"color\": \"#7201a8\", \"size\": [2], \"sizemode\": \"area\", \"sizeref\": 0.01, \"symbol\": \"diamond\"}, \"mode\": \"markers\", \"name\": \"E8, 2\", \"r\": [2], \"showlegend\": true, \"subplot\": \"polar\", \"theta\": [\"E8\"], \"type\": \"scatterpolar\"}, {\"hovertemplate\": \"Cabin=%{theta}<br>symbol=1<br>r=%{r}<br>size=%{marker.size}<extra></extra>\", \"legendgroup\": \"F E69, 1\", \"marker\": {\"color\": \"#46039f\", \"size\": [1], \"sizemode\": \"area\", \"sizeref\": 0.01, \"symbol\": \"circle\"}, \"mode\": \"markers\", \"name\": \"F E69, 1\", \"r\": [1], \"showlegend\": true, \"subplot\": \"polar\", \"theta\": [\"F E69\"], \"type\": \"scatterpolar\"}, {\"hovertemplate\": \"Cabin=%{theta}<br>symbol=1<br>r=%{r}<br>size=%{marker.size}<extra></extra>\", \"legendgroup\": \"F G63, 1\", \"marker\": {\"color\": \"#0d0887\", \"size\": [1], \"sizemode\": \"area\", \"sizeref\": 0.01, \"symbol\": \"circle\"}, \"mode\": \"markers\", \"name\": \"F G63, 1\", \"r\": [1], \"showlegend\": true, \"subplot\": \"polar\", \"theta\": [\"F G63\"], \"type\": \"scatterpolar\"}, {\"hovertemplate\": \"Cabin=%{theta}<br>symbol=2<br>r=%{r}<br>size=%{marker.size}<extra></extra>\", \"legendgroup\": \"F G73, 2\", \"marker\": {\"color\": \"#f0f921\", \"size\": [2], \"sizemode\": \"area\", \"sizeref\": 0.01, \"symbol\": \"diamond\"}, \"mode\": \"markers\", \"name\": \"F G73, 2\", \"r\": [2], \"showlegend\": true, \"subplot\": \"polar\", \"theta\": [\"F G73\"], \"type\": \"scatterpolar\"}, {\"hovertemplate\": \"Cabin=%{theta}<br>symbol=3<br>r=%{r}<br>size=%{marker.size}<extra></extra>\", \"legendgroup\": \"F2, 3\", \"marker\": {\"color\": \"#fdca26\", \"size\": [3], \"sizemode\": \"area\", \"sizeref\": 0.01, \"symbol\": \"x\"}, \"mode\": \"markers\", \"name\": \"F2, 3\", \"r\": [3], \"showlegend\": true, \"subplot\": \"polar\", \"theta\": [\"F2\"], \"type\": \"scatterpolar\"}, {\"hovertemplate\": \"Cabin=%{theta}<br>symbol=3<br>r=%{r}<br>size=%{marker.size}<extra></extra>\", \"legendgroup\": \"F33, 3\", \"marker\": {\"color\": \"#fb9f3a\", \"size\": [3], \"sizemode\": \"area\", \"sizeref\": 0.01, \"symbol\": \"x\"}, \"mode\": \"markers\", \"name\": \"F33, 3\", \"r\": [3], \"showlegend\": true, \"subplot\": \"polar\", \"theta\": [\"F33\"], \"type\": \"scatterpolar\"}, {\"hovertemplate\": \"Cabin=%{theta}<br>symbol=1<br>r=%{r}<br>size=%{marker.size}<extra></extra>\", \"legendgroup\": \"F38, 1\", \"marker\": {\"color\": \"#ed7953\", \"size\": [1], \"sizemode\": \"area\", \"sizeref\": 0.01, \"symbol\": \"circle\"}, \"mode\": \"markers\", \"name\": \"F38, 1\", \"r\": [1], \"showlegend\": true, \"subplot\": \"polar\", \"theta\": [\"F38\"], \"type\": \"scatterpolar\"}, {\"hovertemplate\": \"Cabin=%{theta}<br>symbol=2<br>r=%{r}<br>size=%{marker.size}<extra></extra>\", \"legendgroup\": \"F4, 2\", \"marker\": {\"color\": \"#d8576b\", \"size\": [2], \"sizemode\": \"area\", \"sizeref\": 0.01, \"symbol\": \"diamond\"}, \"mode\": \"markers\", \"name\": \"F4, 2\", \"r\": [2], \"showlegend\": true, \"subplot\": \"polar\", \"theta\": [\"F4\"], \"type\": \"scatterpolar\"}, {\"hovertemplate\": \"Cabin=%{theta}<br>symbol=4<br>r=%{r}<br>size=%{marker.size}<extra></extra>\", \"legendgroup\": \"G6, 4\", \"marker\": {\"color\": \"#bd3786\", \"size\": [4], \"sizemode\": \"area\", \"sizeref\": 0.01, \"symbol\": \"square\"}, \"mode\": \"markers\", \"name\": \"G6, 4\", \"r\": [4], \"showlegend\": true, \"subplot\": \"polar\", \"theta\": [\"G6\"], \"type\": \"scatterpolar\"}, {\"hovertemplate\": \"Cabin=%{theta}<br>symbol=1<br>r=%{r}<br>size=%{marker.size}<extra></extra>\", \"legendgroup\": \"T, 1\", \"marker\": {\"color\": \"#9c179e\", \"size\": [1], \"sizemode\": \"area\", \"sizeref\": 0.01, \"symbol\": \"circle\"}, \"mode\": \"markers\", \"name\": \"T, 1\", \"r\": [1], \"showlegend\": true, \"subplot\": \"polar\", \"theta\": [\"T\"], \"type\": \"scatterpolar\"}],                        {\"legend\": {\"itemsizing\": \"constant\", \"title\": {\"text\": \"Cabin, symbol\"}, \"tracegroupgap\": 0}, \"polar\": {\"angularaxis\": {\"categoryarray\": [\"A10\", \"A14\", \"A16\", \"A19\", \"A20\", \"A23\", \"A24\", \"A26\", \"A31\", \"A32\", \"A34\", \"A36\", \"A5\", \"A6\", \"A7\", \"B101\", \"B102\", \"B18\", \"B19\", \"B20\", \"B22\", \"B28\", \"B3\", \"B30\", \"B35\", \"B37\", \"B38\", \"B39\", \"B4\", \"B41\", \"B42\", \"B49\", \"B5\", \"B50\", \"B51 B53 B55\", \"B57 B59 B63 B66\", \"B58 B60\", \"B69\", \"B71\", \"B73\", \"B77\", \"B78\", \"B79\", \"B80\", \"B82 B84\", \"B86\", \"B94\", \"B96 B98\", \"C101\", \"C103\", \"C104\", \"C106\", \"C110\", \"C111\", \"C118\", \"C123\", \"C124\", \"C125\", \"C126\", \"C128\", \"C148\", \"C2\", \"C22 C26\", \"C23 C25 C27\", \"C30\", \"C32\", \"C45\", \"C46\", \"C47\", \"C49\", \"C50\", \"C52\", \"C54\", \"C62 C64\", \"C65\", \"C68\", \"C7\", \"C70\", \"C78\", \"C82\", \"C83\", \"C85\", \"C86\", \"C87\", \"C90\", \"C91\", \"C92\", \"C93\", \"C95\", \"C99\", \"D\", \"D10 D12\", \"D11\", \"D15\", \"D17\", \"D19\", \"D20\", \"D21\", \"D26\", \"D28\", \"D30\", \"D33\", \"D35\", \"D36\", \"D37\", \"D45\", \"D46\", \"D47\", \"D48\", \"D49\", \"D50\", \"D56\", \"D6\", \"D7\", \"D9\", \"E10\", \"E101\", \"E12\", \"E121\", \"E17\", \"E24\", \"E25\", \"E31\", \"E33\", \"E34\", \"E36\", \"E38\", \"E40\", \"E44\", \"E46\", \"E49\", \"E50\", \"E58\", \"E63\", \"E67\", \"E68\", \"E77\", \"E8\", \"F E69\", \"F G63\", \"F G73\", \"F2\", \"F33\", \"F38\", \"F4\", \"G6\", \"T\"], \"categoryorder\": \"array\", \"direction\": \"clockwise\", \"rotation\": 90}, \"domain\": {\"x\": [0.0, 1.0], \"y\": [0.0, 1.0]}}, \"template\": {\"data\": {\"bar\": [{\"error_x\": {\"color\": \"#2a3f5f\"}, \"error_y\": {\"color\": \"#2a3f5f\"}, \"marker\": {\"line\": {\"color\": \"#E5ECF6\", \"width\": 0.5}}, \"type\": \"bar\"}], \"barpolar\": [{\"marker\": {\"line\": {\"color\": \"#E5ECF6\", \"width\": 0.5}}, \"type\": \"barpolar\"}], \"carpet\": [{\"aaxis\": {\"endlinecolor\": \"#2a3f5f\", \"gridcolor\": \"white\", \"linecolor\": \"white\", \"minorgridcolor\": \"white\", \"startlinecolor\": \"#2a3f5f\"}, \"baxis\": {\"endlinecolor\": \"#2a3f5f\", \"gridcolor\": \"white\", \"linecolor\": \"white\", \"minorgridcolor\": \"white\", \"startlinecolor\": \"#2a3f5f\"}, \"type\": \"carpet\"}], \"choropleth\": [{\"colorbar\": {\"outlinewidth\": 0, \"ticks\": \"\"}, \"type\": \"choropleth\"}], \"contour\": [{\"colorbar\": {\"outlinewidth\": 0, \"ticks\": \"\"}, \"colorscale\": [[0.0, \"#0d0887\"], [0.1111111111111111, \"#46039f\"], [0.2222222222222222, \"#7201a8\"], [0.3333333333333333, \"#9c179e\"], [0.4444444444444444, \"#bd3786\"], [0.5555555555555556, \"#d8576b\"], [0.6666666666666666, \"#ed7953\"], [0.7777777777777778, \"#fb9f3a\"], [0.8888888888888888, \"#fdca26\"], [1.0, \"#f0f921\"]], \"type\": \"contour\"}], \"contourcarpet\": [{\"colorbar\": {\"outlinewidth\": 0, \"ticks\": \"\"}, \"type\": \"contourcarpet\"}], \"heatmap\": [{\"colorbar\": {\"outlinewidth\": 0, \"ticks\": \"\"}, \"colorscale\": [[0.0, \"#0d0887\"], [0.1111111111111111, \"#46039f\"], [0.2222222222222222, \"#7201a8\"], [0.3333333333333333, \"#9c179e\"], [0.4444444444444444, \"#bd3786\"], [0.5555555555555556, \"#d8576b\"], [0.6666666666666666, \"#ed7953\"], [0.7777777777777778, \"#fb9f3a\"], [0.8888888888888888, \"#fdca26\"], [1.0, \"#f0f921\"]], \"type\": \"heatmap\"}], \"heatmapgl\": [{\"colorbar\": {\"outlinewidth\": 0, \"ticks\": \"\"}, \"colorscale\": [[0.0, \"#0d0887\"], [0.1111111111111111, \"#46039f\"], [0.2222222222222222, \"#7201a8\"], [0.3333333333333333, \"#9c179e\"], [0.4444444444444444, \"#bd3786\"], [0.5555555555555556, \"#d8576b\"], [0.6666666666666666, \"#ed7953\"], [0.7777777777777778, \"#fb9f3a\"], [0.8888888888888888, \"#fdca26\"], [1.0, \"#f0f921\"]], \"type\": \"heatmapgl\"}], \"histogram\": [{\"marker\": {\"colorbar\": {\"outlinewidth\": 0, \"ticks\": \"\"}}, \"type\": \"histogram\"}], \"histogram2d\": [{\"colorbar\": {\"outlinewidth\": 0, \"ticks\": \"\"}, \"colorscale\": [[0.0, \"#0d0887\"], [0.1111111111111111, \"#46039f\"], [0.2222222222222222, \"#7201a8\"], [0.3333333333333333, \"#9c179e\"], [0.4444444444444444, \"#bd3786\"], [0.5555555555555556, \"#d8576b\"], [0.6666666666666666, \"#ed7953\"], [0.7777777777777778, \"#fb9f3a\"], [0.8888888888888888, \"#fdca26\"], [1.0, \"#f0f921\"]], \"type\": \"histogram2d\"}], \"histogram2dcontour\": [{\"colorbar\": {\"outlinewidth\": 0, \"ticks\": \"\"}, \"colorscale\": [[0.0, \"#0d0887\"], [0.1111111111111111, \"#46039f\"], [0.2222222222222222, \"#7201a8\"], [0.3333333333333333, \"#9c179e\"], [0.4444444444444444, \"#bd3786\"], [0.5555555555555556, \"#d8576b\"], [0.6666666666666666, \"#ed7953\"], [0.7777777777777778, \"#fb9f3a\"], [0.8888888888888888, \"#fdca26\"], [1.0, \"#f0f921\"]], \"type\": \"histogram2dcontour\"}], \"mesh3d\": [{\"colorbar\": {\"outlinewidth\": 0, \"ticks\": \"\"}, \"type\": \"mesh3d\"}], \"parcoords\": [{\"line\": {\"colorbar\": {\"outlinewidth\": 0, \"ticks\": \"\"}}, \"type\": \"parcoords\"}], \"pie\": [{\"automargin\": true, \"type\": \"pie\"}], \"scatter\": [{\"marker\": {\"colorbar\": {\"outlinewidth\": 0, \"ticks\": \"\"}}, \"type\": \"scatter\"}], \"scatter3d\": [{\"line\": {\"colorbar\": {\"outlinewidth\": 0, \"ticks\": \"\"}}, \"marker\": {\"colorbar\": {\"outlinewidth\": 0, \"ticks\": \"\"}}, \"type\": \"scatter3d\"}], \"scattercarpet\": [{\"marker\": {\"colorbar\": {\"outlinewidth\": 0, \"ticks\": \"\"}}, \"type\": \"scattercarpet\"}], \"scattergeo\": [{\"marker\": {\"colorbar\": {\"outlinewidth\": 0, \"ticks\": \"\"}}, \"type\": \"scattergeo\"}], \"scattergl\": [{\"marker\": {\"colorbar\": {\"outlinewidth\": 0, \"ticks\": \"\"}}, \"type\": \"scattergl\"}], \"scattermapbox\": [{\"marker\": {\"colorbar\": {\"outlinewidth\": 0, \"ticks\": \"\"}}, \"type\": \"scattermapbox\"}], \"scatterpolar\": [{\"marker\": {\"colorbar\": {\"outlinewidth\": 0, \"ticks\": \"\"}}, \"type\": \"scatterpolar\"}], \"scatterpolargl\": [{\"marker\": {\"colorbar\": {\"outlinewidth\": 0, \"ticks\": \"\"}}, \"type\": \"scatterpolargl\"}], \"scatterternary\": [{\"marker\": {\"colorbar\": {\"outlinewidth\": 0, \"ticks\": \"\"}}, \"type\": \"scatterternary\"}], \"surface\": [{\"colorbar\": {\"outlinewidth\": 0, \"ticks\": \"\"}, \"colorscale\": [[0.0, \"#0d0887\"], [0.1111111111111111, \"#46039f\"], [0.2222222222222222, \"#7201a8\"], [0.3333333333333333, \"#9c179e\"], [0.4444444444444444, \"#bd3786\"], [0.5555555555555556, \"#d8576b\"], [0.6666666666666666, \"#ed7953\"], [0.7777777777777778, \"#fb9f3a\"], [0.8888888888888888, \"#fdca26\"], [1.0, \"#f0f921\"]], \"type\": \"surface\"}], \"table\": [{\"cells\": {\"fill\": {\"color\": \"#EBF0F8\"}, \"line\": {\"color\": \"white\"}}, \"header\": {\"fill\": {\"color\": \"#C8D4E3\"}, \"line\": {\"color\": \"white\"}}, \"type\": \"table\"}]}, \"layout\": {\"annotationdefaults\": {\"arrowcolor\": \"#2a3f5f\", \"arrowhead\": 0, \"arrowwidth\": 1}, \"autotypenumbers\": \"strict\", \"coloraxis\": {\"colorbar\": {\"outlinewidth\": 0, \"ticks\": \"\"}}, \"colorscale\": {\"diverging\": [[0, \"#8e0152\"], [0.1, \"#c51b7d\"], [0.2, \"#de77ae\"], [0.3, \"#f1b6da\"], [0.4, \"#fde0ef\"], [0.5, \"#f7f7f7\"], [0.6, \"#e6f5d0\"], [0.7, \"#b8e186\"], [0.8, \"#7fbc41\"], [0.9, \"#4d9221\"], [1, \"#276419\"]], \"sequential\": [[0.0, \"#0d0887\"], [0.1111111111111111, \"#46039f\"], [0.2222222222222222, \"#7201a8\"], [0.3333333333333333, \"#9c179e\"], [0.4444444444444444, \"#bd3786\"], [0.5555555555555556, \"#d8576b\"], [0.6666666666666666, \"#ed7953\"], [0.7777777777777778, \"#fb9f3a\"], [0.8888888888888888, \"#fdca26\"], [1.0, \"#f0f921\"]], \"sequentialminus\": [[0.0, \"#0d0887\"], [0.1111111111111111, \"#46039f\"], [0.2222222222222222, \"#7201a8\"], [0.3333333333333333, \"#9c179e\"], [0.4444444444444444, \"#bd3786\"], [0.5555555555555556, \"#d8576b\"], [0.6666666666666666, \"#ed7953\"], [0.7777777777777778, \"#fb9f3a\"], [0.8888888888888888, \"#fdca26\"], [1.0, \"#f0f921\"]]}, \"colorway\": [\"#636efa\", \"#EF553B\", \"#00cc96\", \"#ab63fa\", \"#FFA15A\", \"#19d3f3\", \"#FF6692\", \"#B6E880\", \"#FF97FF\", \"#FECB52\"], \"font\": {\"color\": \"#2a3f5f\"}, \"geo\": {\"bgcolor\": \"white\", \"lakecolor\": \"white\", \"landcolor\": \"#E5ECF6\", \"showlakes\": true, \"showland\": true, \"subunitcolor\": \"white\"}, \"hoverlabel\": {\"align\": \"left\"}, \"hovermode\": \"closest\", \"mapbox\": {\"style\": \"light\"}, \"paper_bgcolor\": \"white\", \"plot_bgcolor\": \"#E5ECF6\", \"polar\": {\"angularaxis\": {\"gridcolor\": \"white\", \"linecolor\": \"white\", \"ticks\": \"\"}, \"bgcolor\": \"#E5ECF6\", \"radialaxis\": {\"gridcolor\": \"white\", \"linecolor\": \"white\", \"ticks\": \"\"}}, \"scene\": {\"xaxis\": {\"backgroundcolor\": \"#E5ECF6\", \"gridcolor\": \"white\", \"gridwidth\": 2, \"linecolor\": \"white\", \"showbackground\": true, \"ticks\": \"\", \"zerolinecolor\": \"white\"}, \"yaxis\": {\"backgroundcolor\": \"#E5ECF6\", \"gridcolor\": \"white\", \"gridwidth\": 2, \"linecolor\": \"white\", \"showbackground\": true, \"ticks\": \"\", \"zerolinecolor\": \"white\"}, \"zaxis\": {\"backgroundcolor\": \"#E5ECF6\", \"gridcolor\": \"white\", \"gridwidth\": 2, \"linecolor\": \"white\", \"showbackground\": true, \"ticks\": \"\", \"zerolinecolor\": \"white\"}}, \"shapedefaults\": {\"line\": {\"color\": \"#2a3f5f\"}}, \"ternary\": {\"aaxis\": {\"gridcolor\": \"white\", \"linecolor\": \"white\", \"ticks\": \"\"}, \"baxis\": {\"gridcolor\": \"white\", \"linecolor\": \"white\", \"ticks\": \"\"}, \"bgcolor\": \"#E5ECF6\", \"caxis\": {\"gridcolor\": \"white\", \"linecolor\": \"white\", \"ticks\": \"\"}}, \"title\": {\"x\": 0.05}, \"xaxis\": {\"automargin\": true, \"gridcolor\": \"white\", \"linecolor\": \"white\", \"ticks\": \"\", \"title\": {\"standoff\": 15}, \"zerolinecolor\": \"white\", \"zerolinewidth\": 2}, \"yaxis\": {\"automargin\": true, \"gridcolor\": \"white\", \"linecolor\": \"white\", \"ticks\": \"\", \"title\": {\"standoff\": 15}, \"zerolinecolor\": \"white\", \"zerolinewidth\": 2}}}, \"title\": {\"text\": \"Survived by Cabin\"}},                        {\"responsive\": true}                    ).then(function(){\n",
       "                            \n",
       "var gd = document.getElementById('cae04ca8-50d1-4ae9-8aed-24b1338bd361');\n",
       "var x = new MutationObserver(function (mutations, observer) {{\n",
       "        var display = window.getComputedStyle(gd).display;\n",
       "        if (!display || display === 'none') {{\n",
       "            console.log([gd, 'removed!']);\n",
       "            Plotly.purge(gd);\n",
       "            observer.disconnect();\n",
       "        }}\n",
       "}});\n",
       "\n",
       "// Listen for the removal of the full notebook cells\n",
       "var notebookContainer = gd.closest('#notebook-container');\n",
       "if (notebookContainer) {{\n",
       "    x.observe(notebookContainer, {childList: true});\n",
       "}}\n",
       "\n",
       "// Listen for the clearing of the current output cell\n",
       "var outputEl = gd.closest('.output');\n",
       "if (outputEl) {{\n",
       "    x.observe(outputEl, {childList: true});\n",
       "}}\n",
       "\n",
       "                        })                };                });            </script>        </div>"
      ]
     },
     "metadata": {},
     "output_type": "display_data"
    }
   ],
   "source": [
    "import pandas as pd\n",
    "import plotly.express as px\n",
    "temp = df.groupby(by=\"Cabin\").count()\n",
    "name = temp.Survived.index\n",
    "val = temp.Survived.values\n",
    "\n",
    "fig = px.scatter_polar(temp, r=val, theta=name, color=name, symbol=val, \n",
    "                      size=val, color_discrete_sequence=px.colors.sequential.Plasma_r, \n",
    "                       title='Survived by Cabin')\n",
    "fig.show()"
   ]
  },
  {
   "cell_type": "code",
   "execution_count": 39,
   "id": "competitive-inflation",
   "metadata": {},
   "outputs": [
    {
     "data": {
      "application/vnd.plotly.v1+json": {
       "config": {
        "plotlyServerURL": "https://plot.ly"
       },
       "data": [
        {
         "hovertemplate": "symbol=75<br>r=%{r}<br>theta=%{theta}<br>size=%{marker.size}<br>color=%{marker.color}<extra></extra>",
         "legendgroup": "75",
         "marker": {
          "color": [
           55
          ],
          "coloraxis": "coloraxis",
          "size": [
           55
          ],
          "sizemode": "area",
          "sizeref": 0.1375,
          "symbol": "circle"
         },
         "mode": "markers",
         "name": "75",
         "r": [
          168
         ],
         "showlegend": true,
         "subplot": "polar",
         "theta": [
          "C"
         ],
         "type": "scatterpolar"
        },
        {
         "hovertemplate": "symbol=47<br>r=%{r}<br>theta=%{theta}<br>size=%{marker.size}<br>color=%{marker.color}<extra></extra>",
         "legendgroup": "47",
         "marker": {
          "color": [
           39
          ],
          "coloraxis": "coloraxis",
          "size": [
           39
          ],
          "sizemode": "area",
          "sizeref": 0.1375,
          "symbol": "diamond"
         },
         "mode": "markers",
         "name": "47",
         "r": [
          77
         ],
         "showlegend": true,
         "subplot": "polar",
         "theta": [
          "Q"
         ],
         "type": "scatterpolar"
        },
        {
         "hovertemplate": "symbol=427<br>r=%{r}<br>theta=%{theta}<br>size=%{marker.size}<br>color=%{marker.color}<extra></extra>",
         "legendgroup": "427",
         "marker": {
          "color": [
           34
          ],
          "coloraxis": "coloraxis",
          "size": [
           34
          ],
          "sizemode": "area",
          "sizeref": 0.1375,
          "symbol": "square"
         },
         "mode": "markers",
         "name": "427",
         "r": [
          644
         ],
         "showlegend": true,
         "subplot": "polar",
         "theta": [
          "S"
         ],
         "type": "scatterpolar"
        }
       ],
       "layout": {
        "coloraxis": {
         "colorbar": {
          "title": {
           "text": "color"
          }
         },
         "colorscale": [
          [
           0,
           "#0d0887"
          ],
          [
           0.1111111111111111,
           "#46039f"
          ],
          [
           0.2222222222222222,
           "#7201a8"
          ],
          [
           0.3333333333333333,
           "#9c179e"
          ],
          [
           0.4444444444444444,
           "#bd3786"
          ],
          [
           0.5555555555555556,
           "#d8576b"
          ],
          [
           0.6666666666666666,
           "#ed7953"
          ],
          [
           0.7777777777777778,
           "#fb9f3a"
          ],
          [
           0.8888888888888888,
           "#fdca26"
          ],
          [
           1,
           "#f0f921"
          ]
         ]
        },
        "legend": {
         "itemsizing": "constant",
         "title": {
          "text": "symbol"
         },
         "tracegroupgap": 0
        },
        "polar": {
         "angularaxis": {
          "direction": "clockwise",
          "rotation": 90
         },
         "domain": {
          "x": [
           0,
           1
          ],
          "y": [
           0,
           1
          ]
         }
        },
        "template": {
         "data": {
          "bar": [
           {
            "error_x": {
             "color": "#2a3f5f"
            },
            "error_y": {
             "color": "#2a3f5f"
            },
            "marker": {
             "line": {
              "color": "#E5ECF6",
              "width": 0.5
             }
            },
            "type": "bar"
           }
          ],
          "barpolar": [
           {
            "marker": {
             "line": {
              "color": "#E5ECF6",
              "width": 0.5
             }
            },
            "type": "barpolar"
           }
          ],
          "carpet": [
           {
            "aaxis": {
             "endlinecolor": "#2a3f5f",
             "gridcolor": "white",
             "linecolor": "white",
             "minorgridcolor": "white",
             "startlinecolor": "#2a3f5f"
            },
            "baxis": {
             "endlinecolor": "#2a3f5f",
             "gridcolor": "white",
             "linecolor": "white",
             "minorgridcolor": "white",
             "startlinecolor": "#2a3f5f"
            },
            "type": "carpet"
           }
          ],
          "choropleth": [
           {
            "colorbar": {
             "outlinewidth": 0,
             "ticks": ""
            },
            "type": "choropleth"
           }
          ],
          "contour": [
           {
            "colorbar": {
             "outlinewidth": 0,
             "ticks": ""
            },
            "colorscale": [
             [
              0,
              "#0d0887"
             ],
             [
              0.1111111111111111,
              "#46039f"
             ],
             [
              0.2222222222222222,
              "#7201a8"
             ],
             [
              0.3333333333333333,
              "#9c179e"
             ],
             [
              0.4444444444444444,
              "#bd3786"
             ],
             [
              0.5555555555555556,
              "#d8576b"
             ],
             [
              0.6666666666666666,
              "#ed7953"
             ],
             [
              0.7777777777777778,
              "#fb9f3a"
             ],
             [
              0.8888888888888888,
              "#fdca26"
             ],
             [
              1,
              "#f0f921"
             ]
            ],
            "type": "contour"
           }
          ],
          "contourcarpet": [
           {
            "colorbar": {
             "outlinewidth": 0,
             "ticks": ""
            },
            "type": "contourcarpet"
           }
          ],
          "heatmap": [
           {
            "colorbar": {
             "outlinewidth": 0,
             "ticks": ""
            },
            "colorscale": [
             [
              0,
              "#0d0887"
             ],
             [
              0.1111111111111111,
              "#46039f"
             ],
             [
              0.2222222222222222,
              "#7201a8"
             ],
             [
              0.3333333333333333,
              "#9c179e"
             ],
             [
              0.4444444444444444,
              "#bd3786"
             ],
             [
              0.5555555555555556,
              "#d8576b"
             ],
             [
              0.6666666666666666,
              "#ed7953"
             ],
             [
              0.7777777777777778,
              "#fb9f3a"
             ],
             [
              0.8888888888888888,
              "#fdca26"
             ],
             [
              1,
              "#f0f921"
             ]
            ],
            "type": "heatmap"
           }
          ],
          "heatmapgl": [
           {
            "colorbar": {
             "outlinewidth": 0,
             "ticks": ""
            },
            "colorscale": [
             [
              0,
              "#0d0887"
             ],
             [
              0.1111111111111111,
              "#46039f"
             ],
             [
              0.2222222222222222,
              "#7201a8"
             ],
             [
              0.3333333333333333,
              "#9c179e"
             ],
             [
              0.4444444444444444,
              "#bd3786"
             ],
             [
              0.5555555555555556,
              "#d8576b"
             ],
             [
              0.6666666666666666,
              "#ed7953"
             ],
             [
              0.7777777777777778,
              "#fb9f3a"
             ],
             [
              0.8888888888888888,
              "#fdca26"
             ],
             [
              1,
              "#f0f921"
             ]
            ],
            "type": "heatmapgl"
           }
          ],
          "histogram": [
           {
            "marker": {
             "colorbar": {
              "outlinewidth": 0,
              "ticks": ""
             }
            },
            "type": "histogram"
           }
          ],
          "histogram2d": [
           {
            "colorbar": {
             "outlinewidth": 0,
             "ticks": ""
            },
            "colorscale": [
             [
              0,
              "#0d0887"
             ],
             [
              0.1111111111111111,
              "#46039f"
             ],
             [
              0.2222222222222222,
              "#7201a8"
             ],
             [
              0.3333333333333333,
              "#9c179e"
             ],
             [
              0.4444444444444444,
              "#bd3786"
             ],
             [
              0.5555555555555556,
              "#d8576b"
             ],
             [
              0.6666666666666666,
              "#ed7953"
             ],
             [
              0.7777777777777778,
              "#fb9f3a"
             ],
             [
              0.8888888888888888,
              "#fdca26"
             ],
             [
              1,
              "#f0f921"
             ]
            ],
            "type": "histogram2d"
           }
          ],
          "histogram2dcontour": [
           {
            "colorbar": {
             "outlinewidth": 0,
             "ticks": ""
            },
            "colorscale": [
             [
              0,
              "#0d0887"
             ],
             [
              0.1111111111111111,
              "#46039f"
             ],
             [
              0.2222222222222222,
              "#7201a8"
             ],
             [
              0.3333333333333333,
              "#9c179e"
             ],
             [
              0.4444444444444444,
              "#bd3786"
             ],
             [
              0.5555555555555556,
              "#d8576b"
             ],
             [
              0.6666666666666666,
              "#ed7953"
             ],
             [
              0.7777777777777778,
              "#fb9f3a"
             ],
             [
              0.8888888888888888,
              "#fdca26"
             ],
             [
              1,
              "#f0f921"
             ]
            ],
            "type": "histogram2dcontour"
           }
          ],
          "mesh3d": [
           {
            "colorbar": {
             "outlinewidth": 0,
             "ticks": ""
            },
            "type": "mesh3d"
           }
          ],
          "parcoords": [
           {
            "line": {
             "colorbar": {
              "outlinewidth": 0,
              "ticks": ""
             }
            },
            "type": "parcoords"
           }
          ],
          "pie": [
           {
            "automargin": true,
            "type": "pie"
           }
          ],
          "scatter": [
           {
            "marker": {
             "colorbar": {
              "outlinewidth": 0,
              "ticks": ""
             }
            },
            "type": "scatter"
           }
          ],
          "scatter3d": [
           {
            "line": {
             "colorbar": {
              "outlinewidth": 0,
              "ticks": ""
             }
            },
            "marker": {
             "colorbar": {
              "outlinewidth": 0,
              "ticks": ""
             }
            },
            "type": "scatter3d"
           }
          ],
          "scattercarpet": [
           {
            "marker": {
             "colorbar": {
              "outlinewidth": 0,
              "ticks": ""
             }
            },
            "type": "scattercarpet"
           }
          ],
          "scattergeo": [
           {
            "marker": {
             "colorbar": {
              "outlinewidth": 0,
              "ticks": ""
             }
            },
            "type": "scattergeo"
           }
          ],
          "scattergl": [
           {
            "marker": {
             "colorbar": {
              "outlinewidth": 0,
              "ticks": ""
             }
            },
            "type": "scattergl"
           }
          ],
          "scattermapbox": [
           {
            "marker": {
             "colorbar": {
              "outlinewidth": 0,
              "ticks": ""
             }
            },
            "type": "scattermapbox"
           }
          ],
          "scatterpolar": [
           {
            "marker": {
             "colorbar": {
              "outlinewidth": 0,
              "ticks": ""
             }
            },
            "type": "scatterpolar"
           }
          ],
          "scatterpolargl": [
           {
            "marker": {
             "colorbar": {
              "outlinewidth": 0,
              "ticks": ""
             }
            },
            "type": "scatterpolargl"
           }
          ],
          "scatterternary": [
           {
            "marker": {
             "colorbar": {
              "outlinewidth": 0,
              "ticks": ""
             }
            },
            "type": "scatterternary"
           }
          ],
          "surface": [
           {
            "colorbar": {
             "outlinewidth": 0,
             "ticks": ""
            },
            "colorscale": [
             [
              0,
              "#0d0887"
             ],
             [
              0.1111111111111111,
              "#46039f"
             ],
             [
              0.2222222222222222,
              "#7201a8"
             ],
             [
              0.3333333333333333,
              "#9c179e"
             ],
             [
              0.4444444444444444,
              "#bd3786"
             ],
             [
              0.5555555555555556,
              "#d8576b"
             ],
             [
              0.6666666666666666,
              "#ed7953"
             ],
             [
              0.7777777777777778,
              "#fb9f3a"
             ],
             [
              0.8888888888888888,
              "#fdca26"
             ],
             [
              1,
              "#f0f921"
             ]
            ],
            "type": "surface"
           }
          ],
          "table": [
           {
            "cells": {
             "fill": {
              "color": "#EBF0F8"
             },
             "line": {
              "color": "white"
             }
            },
            "header": {
             "fill": {
              "color": "#C8D4E3"
             },
             "line": {
              "color": "white"
             }
            },
            "type": "table"
           }
          ]
         },
         "layout": {
          "annotationdefaults": {
           "arrowcolor": "#2a3f5f",
           "arrowhead": 0,
           "arrowwidth": 1
          },
          "autotypenumbers": "strict",
          "coloraxis": {
           "colorbar": {
            "outlinewidth": 0,
            "ticks": ""
           }
          },
          "colorscale": {
           "diverging": [
            [
             0,
             "#8e0152"
            ],
            [
             0.1,
             "#c51b7d"
            ],
            [
             0.2,
             "#de77ae"
            ],
            [
             0.3,
             "#f1b6da"
            ],
            [
             0.4,
             "#fde0ef"
            ],
            [
             0.5,
             "#f7f7f7"
            ],
            [
             0.6,
             "#e6f5d0"
            ],
            [
             0.7,
             "#b8e186"
            ],
            [
             0.8,
             "#7fbc41"
            ],
            [
             0.9,
             "#4d9221"
            ],
            [
             1,
             "#276419"
            ]
           ],
           "sequential": [
            [
             0,
             "#0d0887"
            ],
            [
             0.1111111111111111,
             "#46039f"
            ],
            [
             0.2222222222222222,
             "#7201a8"
            ],
            [
             0.3333333333333333,
             "#9c179e"
            ],
            [
             0.4444444444444444,
             "#bd3786"
            ],
            [
             0.5555555555555556,
             "#d8576b"
            ],
            [
             0.6666666666666666,
             "#ed7953"
            ],
            [
             0.7777777777777778,
             "#fb9f3a"
            ],
            [
             0.8888888888888888,
             "#fdca26"
            ],
            [
             1,
             "#f0f921"
            ]
           ],
           "sequentialminus": [
            [
             0,
             "#0d0887"
            ],
            [
             0.1111111111111111,
             "#46039f"
            ],
            [
             0.2222222222222222,
             "#7201a8"
            ],
            [
             0.3333333333333333,
             "#9c179e"
            ],
            [
             0.4444444444444444,
             "#bd3786"
            ],
            [
             0.5555555555555556,
             "#d8576b"
            ],
            [
             0.6666666666666666,
             "#ed7953"
            ],
            [
             0.7777777777777778,
             "#fb9f3a"
            ],
            [
             0.8888888888888888,
             "#fdca26"
            ],
            [
             1,
             "#f0f921"
            ]
           ]
          },
          "colorway": [
           "#636efa",
           "#EF553B",
           "#00cc96",
           "#ab63fa",
           "#FFA15A",
           "#19d3f3",
           "#FF6692",
           "#B6E880",
           "#FF97FF",
           "#FECB52"
          ],
          "font": {
           "color": "#2a3f5f"
          },
          "geo": {
           "bgcolor": "white",
           "lakecolor": "white",
           "landcolor": "#E5ECF6",
           "showlakes": true,
           "showland": true,
           "subunitcolor": "white"
          },
          "hoverlabel": {
           "align": "left"
          },
          "hovermode": "closest",
          "mapbox": {
           "style": "light"
          },
          "paper_bgcolor": "white",
          "plot_bgcolor": "#E5ECF6",
          "polar": {
           "angularaxis": {
            "gridcolor": "white",
            "linecolor": "white",
            "ticks": ""
           },
           "bgcolor": "#E5ECF6",
           "radialaxis": {
            "gridcolor": "white",
            "linecolor": "white",
            "ticks": ""
           }
          },
          "scene": {
           "xaxis": {
            "backgroundcolor": "#E5ECF6",
            "gridcolor": "white",
            "gridwidth": 2,
            "linecolor": "white",
            "showbackground": true,
            "ticks": "",
            "zerolinecolor": "white"
           },
           "yaxis": {
            "backgroundcolor": "#E5ECF6",
            "gridcolor": "white",
            "gridwidth": 2,
            "linecolor": "white",
            "showbackground": true,
            "ticks": "",
            "zerolinecolor": "white"
           },
           "zaxis": {
            "backgroundcolor": "#E5ECF6",
            "gridcolor": "white",
            "gridwidth": 2,
            "linecolor": "white",
            "showbackground": true,
            "ticks": "",
            "zerolinecolor": "white"
           }
          },
          "shapedefaults": {
           "line": {
            "color": "#2a3f5f"
           }
          },
          "ternary": {
           "aaxis": {
            "gridcolor": "white",
            "linecolor": "white",
            "ticks": ""
           },
           "baxis": {
            "gridcolor": "white",
            "linecolor": "white",
            "ticks": ""
           },
           "bgcolor": "#E5ECF6",
           "caxis": {
            "gridcolor": "white",
            "linecolor": "white",
            "ticks": ""
           }
          },
          "title": {
           "x": 0.05
          },
          "xaxis": {
           "automargin": true,
           "gridcolor": "white",
           "linecolor": "white",
           "ticks": "",
           "title": {
            "standoff": 15
           },
           "zerolinecolor": "white",
           "zerolinewidth": 2
          },
          "yaxis": {
           "automargin": true,
           "gridcolor": "white",
           "linecolor": "white",
           "ticks": "",
           "title": {
            "standoff": 15
           },
           "zerolinecolor": "white",
           "zerolinewidth": 2
          }
         }
        },
        "title": {
         "text": "Survived by Cabin"
        }
       }
      },
      "text/html": [
       "<div>                            <div id=\"47cd38dd-5ae7-411b-ad97-cffd08a52d61\" class=\"plotly-graph-div\" style=\"height:525px; width:100%;\"></div>            <script type=\"text/javascript\">                require([\"plotly\"], function(Plotly) {                    window.PLOTLYENV=window.PLOTLYENV || {};                                    if (document.getElementById(\"47cd38dd-5ae7-411b-ad97-cffd08a52d61\")) {                    Plotly.newPlot(                        \"47cd38dd-5ae7-411b-ad97-cffd08a52d61\",                        [{\"hovertemplate\": \"symbol=75<br>r=%{r}<br>theta=%{theta}<br>size=%{marker.size}<br>color=%{marker.color}<extra></extra>\", \"legendgroup\": \"75\", \"marker\": {\"color\": [55.0], \"coloraxis\": \"coloraxis\", \"size\": [55.0], \"sizemode\": \"area\", \"sizeref\": 0.1375, \"symbol\": \"circle\"}, \"mode\": \"markers\", \"name\": \"75\", \"r\": [168], \"showlegend\": true, \"subplot\": \"polar\", \"theta\": [\"C\"], \"type\": \"scatterpolar\"}, {\"hovertemplate\": \"symbol=47<br>r=%{r}<br>theta=%{theta}<br>size=%{marker.size}<br>color=%{marker.color}<extra></extra>\", \"legendgroup\": \"47\", \"marker\": {\"color\": [39.0], \"coloraxis\": \"coloraxis\", \"size\": [39.0], \"sizemode\": \"area\", \"sizeref\": 0.1375, \"symbol\": \"diamond\"}, \"mode\": \"markers\", \"name\": \"47\", \"r\": [77], \"showlegend\": true, \"subplot\": \"polar\", \"theta\": [\"Q\"], \"type\": \"scatterpolar\"}, {\"hovertemplate\": \"symbol=427<br>r=%{r}<br>theta=%{theta}<br>size=%{marker.size}<br>color=%{marker.color}<extra></extra>\", \"legendgroup\": \"427\", \"marker\": {\"color\": [34.0], \"coloraxis\": \"coloraxis\", \"size\": [34.0], \"sizemode\": \"area\", \"sizeref\": 0.1375, \"symbol\": \"square\"}, \"mode\": \"markers\", \"name\": \"427\", \"r\": [644], \"showlegend\": true, \"subplot\": \"polar\", \"theta\": [\"S\"], \"type\": \"scatterpolar\"}],                        {\"coloraxis\": {\"colorbar\": {\"title\": {\"text\": \"color\"}}, \"colorscale\": [[0.0, \"#0d0887\"], [0.1111111111111111, \"#46039f\"], [0.2222222222222222, \"#7201a8\"], [0.3333333333333333, \"#9c179e\"], [0.4444444444444444, \"#bd3786\"], [0.5555555555555556, \"#d8576b\"], [0.6666666666666666, \"#ed7953\"], [0.7777777777777778, \"#fb9f3a\"], [0.8888888888888888, \"#fdca26\"], [1.0, \"#f0f921\"]]}, \"legend\": {\"itemsizing\": \"constant\", \"title\": {\"text\": \"symbol\"}, \"tracegroupgap\": 0}, \"polar\": {\"angularaxis\": {\"direction\": \"clockwise\", \"rotation\": 90}, \"domain\": {\"x\": [0.0, 1.0], \"y\": [0.0, 1.0]}}, \"template\": {\"data\": {\"bar\": [{\"error_x\": {\"color\": \"#2a3f5f\"}, \"error_y\": {\"color\": \"#2a3f5f\"}, \"marker\": {\"line\": {\"color\": \"#E5ECF6\", \"width\": 0.5}}, \"type\": \"bar\"}], \"barpolar\": [{\"marker\": {\"line\": {\"color\": \"#E5ECF6\", \"width\": 0.5}}, \"type\": \"barpolar\"}], \"carpet\": [{\"aaxis\": {\"endlinecolor\": \"#2a3f5f\", \"gridcolor\": \"white\", \"linecolor\": \"white\", \"minorgridcolor\": \"white\", \"startlinecolor\": \"#2a3f5f\"}, \"baxis\": {\"endlinecolor\": \"#2a3f5f\", \"gridcolor\": \"white\", \"linecolor\": \"white\", \"minorgridcolor\": \"white\", \"startlinecolor\": \"#2a3f5f\"}, \"type\": \"carpet\"}], \"choropleth\": [{\"colorbar\": {\"outlinewidth\": 0, \"ticks\": \"\"}, \"type\": \"choropleth\"}], \"contour\": [{\"colorbar\": {\"outlinewidth\": 0, \"ticks\": \"\"}, \"colorscale\": [[0.0, \"#0d0887\"], [0.1111111111111111, \"#46039f\"], [0.2222222222222222, \"#7201a8\"], [0.3333333333333333, \"#9c179e\"], [0.4444444444444444, \"#bd3786\"], [0.5555555555555556, \"#d8576b\"], [0.6666666666666666, \"#ed7953\"], [0.7777777777777778, \"#fb9f3a\"], [0.8888888888888888, \"#fdca26\"], [1.0, \"#f0f921\"]], \"type\": \"contour\"}], \"contourcarpet\": [{\"colorbar\": {\"outlinewidth\": 0, \"ticks\": \"\"}, \"type\": \"contourcarpet\"}], \"heatmap\": [{\"colorbar\": {\"outlinewidth\": 0, \"ticks\": \"\"}, \"colorscale\": [[0.0, \"#0d0887\"], [0.1111111111111111, \"#46039f\"], [0.2222222222222222, \"#7201a8\"], [0.3333333333333333, \"#9c179e\"], [0.4444444444444444, \"#bd3786\"], [0.5555555555555556, \"#d8576b\"], [0.6666666666666666, \"#ed7953\"], [0.7777777777777778, \"#fb9f3a\"], [0.8888888888888888, \"#fdca26\"], [1.0, \"#f0f921\"]], \"type\": \"heatmap\"}], \"heatmapgl\": [{\"colorbar\": {\"outlinewidth\": 0, \"ticks\": \"\"}, \"colorscale\": [[0.0, \"#0d0887\"], [0.1111111111111111, \"#46039f\"], [0.2222222222222222, \"#7201a8\"], [0.3333333333333333, \"#9c179e\"], [0.4444444444444444, \"#bd3786\"], [0.5555555555555556, \"#d8576b\"], [0.6666666666666666, \"#ed7953\"], [0.7777777777777778, \"#fb9f3a\"], [0.8888888888888888, \"#fdca26\"], [1.0, \"#f0f921\"]], \"type\": \"heatmapgl\"}], \"histogram\": [{\"marker\": {\"colorbar\": {\"outlinewidth\": 0, \"ticks\": \"\"}}, \"type\": \"histogram\"}], \"histogram2d\": [{\"colorbar\": {\"outlinewidth\": 0, \"ticks\": \"\"}, \"colorscale\": [[0.0, \"#0d0887\"], [0.1111111111111111, \"#46039f\"], [0.2222222222222222, \"#7201a8\"], [0.3333333333333333, \"#9c179e\"], [0.4444444444444444, \"#bd3786\"], [0.5555555555555556, \"#d8576b\"], [0.6666666666666666, \"#ed7953\"], [0.7777777777777778, \"#fb9f3a\"], [0.8888888888888888, \"#fdca26\"], [1.0, \"#f0f921\"]], \"type\": \"histogram2d\"}], \"histogram2dcontour\": [{\"colorbar\": {\"outlinewidth\": 0, \"ticks\": \"\"}, \"colorscale\": [[0.0, \"#0d0887\"], [0.1111111111111111, \"#46039f\"], [0.2222222222222222, \"#7201a8\"], [0.3333333333333333, \"#9c179e\"], [0.4444444444444444, \"#bd3786\"], [0.5555555555555556, \"#d8576b\"], [0.6666666666666666, \"#ed7953\"], [0.7777777777777778, \"#fb9f3a\"], [0.8888888888888888, \"#fdca26\"], [1.0, \"#f0f921\"]], \"type\": \"histogram2dcontour\"}], \"mesh3d\": [{\"colorbar\": {\"outlinewidth\": 0, \"ticks\": \"\"}, \"type\": \"mesh3d\"}], \"parcoords\": [{\"line\": {\"colorbar\": {\"outlinewidth\": 0, \"ticks\": \"\"}}, \"type\": \"parcoords\"}], \"pie\": [{\"automargin\": true, \"type\": \"pie\"}], \"scatter\": [{\"marker\": {\"colorbar\": {\"outlinewidth\": 0, \"ticks\": \"\"}}, \"type\": \"scatter\"}], \"scatter3d\": [{\"line\": {\"colorbar\": {\"outlinewidth\": 0, \"ticks\": \"\"}}, \"marker\": {\"colorbar\": {\"outlinewidth\": 0, \"ticks\": \"\"}}, \"type\": \"scatter3d\"}], \"scattercarpet\": [{\"marker\": {\"colorbar\": {\"outlinewidth\": 0, \"ticks\": \"\"}}, \"type\": \"scattercarpet\"}], \"scattergeo\": [{\"marker\": {\"colorbar\": {\"outlinewidth\": 0, \"ticks\": \"\"}}, \"type\": \"scattergeo\"}], \"scattergl\": [{\"marker\": {\"colorbar\": {\"outlinewidth\": 0, \"ticks\": \"\"}}, \"type\": \"scattergl\"}], \"scattermapbox\": [{\"marker\": {\"colorbar\": {\"outlinewidth\": 0, \"ticks\": \"\"}}, \"type\": \"scattermapbox\"}], \"scatterpolar\": [{\"marker\": {\"colorbar\": {\"outlinewidth\": 0, \"ticks\": \"\"}}, \"type\": \"scatterpolar\"}], \"scatterpolargl\": [{\"marker\": {\"colorbar\": {\"outlinewidth\": 0, \"ticks\": \"\"}}, \"type\": \"scatterpolargl\"}], \"scatterternary\": [{\"marker\": {\"colorbar\": {\"outlinewidth\": 0, \"ticks\": \"\"}}, \"type\": \"scatterternary\"}], \"surface\": [{\"colorbar\": {\"outlinewidth\": 0, \"ticks\": \"\"}, \"colorscale\": [[0.0, \"#0d0887\"], [0.1111111111111111, \"#46039f\"], [0.2222222222222222, \"#7201a8\"], [0.3333333333333333, \"#9c179e\"], [0.4444444444444444, \"#bd3786\"], [0.5555555555555556, \"#d8576b\"], [0.6666666666666666, \"#ed7953\"], [0.7777777777777778, \"#fb9f3a\"], [0.8888888888888888, \"#fdca26\"], [1.0, \"#f0f921\"]], \"type\": \"surface\"}], \"table\": [{\"cells\": {\"fill\": {\"color\": \"#EBF0F8\"}, \"line\": {\"color\": \"white\"}}, \"header\": {\"fill\": {\"color\": \"#C8D4E3\"}, \"line\": {\"color\": \"white\"}}, \"type\": \"table\"}]}, \"layout\": {\"annotationdefaults\": {\"arrowcolor\": \"#2a3f5f\", \"arrowhead\": 0, \"arrowwidth\": 1}, \"autotypenumbers\": \"strict\", \"coloraxis\": {\"colorbar\": {\"outlinewidth\": 0, \"ticks\": \"\"}}, \"colorscale\": {\"diverging\": [[0, \"#8e0152\"], [0.1, \"#c51b7d\"], [0.2, \"#de77ae\"], [0.3, \"#f1b6da\"], [0.4, \"#fde0ef\"], [0.5, \"#f7f7f7\"], [0.6, \"#e6f5d0\"], [0.7, \"#b8e186\"], [0.8, \"#7fbc41\"], [0.9, \"#4d9221\"], [1, \"#276419\"]], \"sequential\": [[0.0, \"#0d0887\"], [0.1111111111111111, \"#46039f\"], [0.2222222222222222, \"#7201a8\"], [0.3333333333333333, \"#9c179e\"], [0.4444444444444444, \"#bd3786\"], [0.5555555555555556, \"#d8576b\"], [0.6666666666666666, \"#ed7953\"], [0.7777777777777778, \"#fb9f3a\"], [0.8888888888888888, \"#fdca26\"], [1.0, \"#f0f921\"]], \"sequentialminus\": [[0.0, \"#0d0887\"], [0.1111111111111111, \"#46039f\"], [0.2222222222222222, \"#7201a8\"], [0.3333333333333333, \"#9c179e\"], [0.4444444444444444, \"#bd3786\"], [0.5555555555555556, \"#d8576b\"], [0.6666666666666666, \"#ed7953\"], [0.7777777777777778, \"#fb9f3a\"], [0.8888888888888888, \"#fdca26\"], [1.0, \"#f0f921\"]]}, \"colorway\": [\"#636efa\", \"#EF553B\", \"#00cc96\", \"#ab63fa\", \"#FFA15A\", \"#19d3f3\", \"#FF6692\", \"#B6E880\", \"#FF97FF\", \"#FECB52\"], \"font\": {\"color\": \"#2a3f5f\"}, \"geo\": {\"bgcolor\": \"white\", \"lakecolor\": \"white\", \"landcolor\": \"#E5ECF6\", \"showlakes\": true, \"showland\": true, \"subunitcolor\": \"white\"}, \"hoverlabel\": {\"align\": \"left\"}, \"hovermode\": \"closest\", \"mapbox\": {\"style\": \"light\"}, \"paper_bgcolor\": \"white\", \"plot_bgcolor\": \"#E5ECF6\", \"polar\": {\"angularaxis\": {\"gridcolor\": \"white\", \"linecolor\": \"white\", \"ticks\": \"\"}, \"bgcolor\": \"#E5ECF6\", \"radialaxis\": {\"gridcolor\": \"white\", \"linecolor\": \"white\", \"ticks\": \"\"}}, \"scene\": {\"xaxis\": {\"backgroundcolor\": \"#E5ECF6\", \"gridcolor\": \"white\", \"gridwidth\": 2, \"linecolor\": \"white\", \"showbackground\": true, \"ticks\": \"\", \"zerolinecolor\": \"white\"}, \"yaxis\": {\"backgroundcolor\": \"#E5ECF6\", \"gridcolor\": \"white\", \"gridwidth\": 2, \"linecolor\": \"white\", \"showbackground\": true, \"ticks\": \"\", \"zerolinecolor\": \"white\"}, \"zaxis\": {\"backgroundcolor\": \"#E5ECF6\", \"gridcolor\": \"white\", \"gridwidth\": 2, \"linecolor\": \"white\", \"showbackground\": true, \"ticks\": \"\", \"zerolinecolor\": \"white\"}}, \"shapedefaults\": {\"line\": {\"color\": \"#2a3f5f\"}}, \"ternary\": {\"aaxis\": {\"gridcolor\": \"white\", \"linecolor\": \"white\", \"ticks\": \"\"}, \"baxis\": {\"gridcolor\": \"white\", \"linecolor\": \"white\", \"ticks\": \"\"}, \"bgcolor\": \"#E5ECF6\", \"caxis\": {\"gridcolor\": \"white\", \"linecolor\": \"white\", \"ticks\": \"\"}}, \"title\": {\"x\": 0.05}, \"xaxis\": {\"automargin\": true, \"gridcolor\": \"white\", \"linecolor\": \"white\", \"ticks\": \"\", \"title\": {\"standoff\": 15}, \"zerolinecolor\": \"white\", \"zerolinewidth\": 2}, \"yaxis\": {\"automargin\": true, \"gridcolor\": \"white\", \"linecolor\": \"white\", \"ticks\": \"\", \"title\": {\"standoff\": 15}, \"zerolinecolor\": \"white\", \"zerolinewidth\": 2}}}, \"title\": {\"text\": \"Survived by Cabin\"}},                        {\"responsive\": true}                    ).then(function(){\n",
       "                            \n",
       "var gd = document.getElementById('47cd38dd-5ae7-411b-ad97-cffd08a52d61');\n",
       "var x = new MutationObserver(function (mutations, observer) {{\n",
       "        var display = window.getComputedStyle(gd).display;\n",
       "        if (!display || display === 'none') {{\n",
       "            console.log([gd, 'removed!']);\n",
       "            Plotly.purge(gd);\n",
       "            observer.disconnect();\n",
       "        }}\n",
       "}});\n",
       "\n",
       "// Listen for the removal of the full notebook cells\n",
       "var notebookContainer = gd.closest('#notebook-container');\n",
       "if (notebookContainer) {{\n",
       "    x.observe(notebookContainer, {childList: true});\n",
       "}}\n",
       "\n",
       "// Listen for the clearing of the current output cell\n",
       "var outputEl = gd.closest('.output');\n",
       "if (outputEl) {{\n",
       "    x.observe(outputEl, {childList: true});\n",
       "}}\n",
       "\n",
       "                        })                };                });            </script>        </div>"
      ]
     },
     "metadata": {},
     "output_type": "display_data"
    }
   ],
   "source": [
    "import plotly.express as px\n",
    "t0 = df.iloc[(df[\"Survived\"]==0).values]\n",
    "t1 = df.iloc[(df[\"Survived\"]==1).values]\n",
    "\n",
    "temp0 = t0.groupby(by=\"Embarked\").count()\n",
    "name0 = temp0.Survived.index\n",
    "val0 = temp0.Survived.values\n",
    "\n",
    "temp1 = t1.groupby(by=\"Embarked\").count()\n",
    "name1 = temp1.Survived.index\n",
    "val1 = temp1.Survived.values\n",
    "\n",
    "fig = px.scatter_polar(r=val1+val0, theta=name1,color=np.round(val1/(val0+val1)*100,0), \n",
    "                       symbol=val0, size=np.round(val1/(val0+val1)*100,0),\n",
    "                       color_discrete_sequence=px.colors.sequential.Plasma_r, title='Survived by Cabin')\n",
    "fig.show()"
   ]
  },
  {
   "cell_type": "code",
   "execution_count": null,
   "id": "european-victory",
   "metadata": {},
   "outputs": [],
   "source": []
  }
 ],
 "metadata": {
  "kernelspec": {
   "display_name": "Python 3",
   "language": "python",
   "name": "python3"
  },
  "language_info": {
   "codemirror_mode": {
    "name": "ipython",
    "version": 3
   },
   "file_extension": ".py",
   "mimetype": "text/x-python",
   "name": "python",
   "nbconvert_exporter": "python",
   "pygments_lexer": "ipython3",
   "version": "3.8.5"
  }
 },
 "nbformat": 4,
 "nbformat_minor": 5
}
